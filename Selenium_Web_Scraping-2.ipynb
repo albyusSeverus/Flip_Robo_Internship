{
 "cells": [
  {
   "cell_type": "markdown",
   "metadata": {},
   "source": [
    "### Q1: Write a python program to scrape data for “Data Analyst” Job position in\n",
    "“Bangalore” location. You have to scrape the job-title, job-location, company_name,\n",
    "experience_required. You have to scrape first 10 jobs data."
   ]
  },
  {
   "cell_type": "code",
   "execution_count": 19,
   "metadata": {},
   "outputs": [],
   "source": [
    "#importing libraries\n",
    "import selenium\n",
    "from selenium import webdriver\n",
    "import pandas as pd"
   ]
  },
  {
   "cell_type": "code",
   "execution_count": 20,
   "metadata": {},
   "outputs": [],
   "source": [
    "#importing driver\n",
    "driver=webdriver.Chrome(r'C:\\Users\\Alby\\Desktop\\chromedriver\\chromedriver.exe')"
   ]
  },
  {
   "cell_type": "code",
   "execution_count": 22,
   "metadata": {},
   "outputs": [],
   "source": [
    "#getting url\n",
    "url='https://www.naukri.com/'"
   ]
  },
  {
   "cell_type": "code",
   "execution_count": 23,
   "metadata": {},
   "outputs": [],
   "source": [
    "driver.get(url)"
   ]
  },
  {
   "cell_type": "code",
   "execution_count": 24,
   "metadata": {},
   "outputs": [
    {
     "data": {
      "text/plain": [
       "<selenium.webdriver.remote.webelement.WebElement (session=\"9f8624d1a4d9e5af9e6f32dcfe3a2d0a\", element=\"036aa126-c421-4b49-a400-6086f4f63328\")>"
      ]
     },
     "execution_count": 24,
     "metadata": {},
     "output_type": "execute_result"
    }
   ],
   "source": [
    "#getting the search bar for jobs\n",
    "search_jobs=driver.find_element_by_id('qsb-keyword-sugg')\n",
    "search_jobs"
   ]
  },
  {
   "cell_type": "code",
   "execution_count": 26,
   "metadata": {},
   "outputs": [],
   "source": [
    "#passing keyword\n",
    "search_jobs.send_keys('Data Analyst')"
   ]
  },
  {
   "cell_type": "code",
   "execution_count": 25,
   "metadata": {},
   "outputs": [
    {
     "data": {
      "text/plain": [
       "<selenium.webdriver.remote.webelement.WebElement (session=\"9f8624d1a4d9e5af9e6f32dcfe3a2d0a\", element=\"1b40de96-f42b-4dc1-965c-fc94ff9038d5\")>"
      ]
     },
     "execution_count": 25,
     "metadata": {},
     "output_type": "execute_result"
    }
   ],
   "source": [
    "#passing job location\n",
    "search_loc=driver.find_element_by_id('qsb-location-sugg')\n",
    "search_loc.send_keys('Bangalore')\n",
    "search_loc"
   ]
  },
  {
   "cell_type": "code",
   "execution_count": 27,
   "metadata": {},
   "outputs": [],
   "source": [
    "#getting search button\n",
    "search_btn=driver.find_element_by_xpath(\"//button[@class='btn']\")\n",
    "search_btn.click()"
   ]
  },
  {
   "cell_type": "code",
   "execution_count": 28,
   "metadata": {},
   "outputs": [
    {
     "data": {
      "text/plain": [
       "[<selenium.webdriver.remote.webelement.WebElement (session=\"9f8624d1a4d9e5af9e6f32dcfe3a2d0a\", element=\"f42d47a4-7880-41d0-9ac6-ebaf226b54c2\")>,\n",
       " <selenium.webdriver.remote.webelement.WebElement (session=\"9f8624d1a4d9e5af9e6f32dcfe3a2d0a\", element=\"9dd6d909-c6a9-4e52-b419-a1d282e9975d\")>,\n",
       " <selenium.webdriver.remote.webelement.WebElement (session=\"9f8624d1a4d9e5af9e6f32dcfe3a2d0a\", element=\"943884bf-ae8b-4602-ab00-243172638e23\")>,\n",
       " <selenium.webdriver.remote.webelement.WebElement (session=\"9f8624d1a4d9e5af9e6f32dcfe3a2d0a\", element=\"a0792f59-9a74-4170-9b55-7117880b0500\")>,\n",
       " <selenium.webdriver.remote.webelement.WebElement (session=\"9f8624d1a4d9e5af9e6f32dcfe3a2d0a\", element=\"1f9249bf-e720-45ba-a6b6-079b74a2e3e0\")>,\n",
       " <selenium.webdriver.remote.webelement.WebElement (session=\"9f8624d1a4d9e5af9e6f32dcfe3a2d0a\", element=\"796cec31-f50b-4311-86c9-0308abc33bda\")>,\n",
       " <selenium.webdriver.remote.webelement.WebElement (session=\"9f8624d1a4d9e5af9e6f32dcfe3a2d0a\", element=\"909cb678-d179-4c93-bb8a-972e2fcdb001\")>,\n",
       " <selenium.webdriver.remote.webelement.WebElement (session=\"9f8624d1a4d9e5af9e6f32dcfe3a2d0a\", element=\"c51b1dd5-abc2-49ca-9775-c8a006552d3c\")>,\n",
       " <selenium.webdriver.remote.webelement.WebElement (session=\"9f8624d1a4d9e5af9e6f32dcfe3a2d0a\", element=\"fc5096bd-d5dd-49df-a10e-111110e486ae\")>,\n",
       " <selenium.webdriver.remote.webelement.WebElement (session=\"9f8624d1a4d9e5af9e6f32dcfe3a2d0a\", element=\"1eddb0ce-0984-4ffd-ad9c-0d62033d2829\")>,\n",
       " <selenium.webdriver.remote.webelement.WebElement (session=\"9f8624d1a4d9e5af9e6f32dcfe3a2d0a\", element=\"a6e6df96-4d1a-4782-9056-3487048f328e\")>,\n",
       " <selenium.webdriver.remote.webelement.WebElement (session=\"9f8624d1a4d9e5af9e6f32dcfe3a2d0a\", element=\"291d8490-eb25-41ce-9a43-2505d93a1536\")>,\n",
       " <selenium.webdriver.remote.webelement.WebElement (session=\"9f8624d1a4d9e5af9e6f32dcfe3a2d0a\", element=\"076d423c-0ceb-44d3-b50a-51627bc7dd5b\")>,\n",
       " <selenium.webdriver.remote.webelement.WebElement (session=\"9f8624d1a4d9e5af9e6f32dcfe3a2d0a\", element=\"34a63230-12b8-4497-89a8-ad04aeb4212c\")>,\n",
       " <selenium.webdriver.remote.webelement.WebElement (session=\"9f8624d1a4d9e5af9e6f32dcfe3a2d0a\", element=\"b9061745-e00a-4e1e-9ef9-acb7ee49ffa9\")>,\n",
       " <selenium.webdriver.remote.webelement.WebElement (session=\"9f8624d1a4d9e5af9e6f32dcfe3a2d0a\", element=\"6d33b00f-7654-4af5-8426-08b55378f2bb\")>,\n",
       " <selenium.webdriver.remote.webelement.WebElement (session=\"9f8624d1a4d9e5af9e6f32dcfe3a2d0a\", element=\"ba141e54-db35-488e-b21b-0ec3268078e2\")>,\n",
       " <selenium.webdriver.remote.webelement.WebElement (session=\"9f8624d1a4d9e5af9e6f32dcfe3a2d0a\", element=\"940ab845-0864-4eee-b5c7-c09417cef841\")>,\n",
       " <selenium.webdriver.remote.webelement.WebElement (session=\"9f8624d1a4d9e5af9e6f32dcfe3a2d0a\", element=\"7cde861f-8245-4aae-8b34-d99158ccf119\")>,\n",
       " <selenium.webdriver.remote.webelement.WebElement (session=\"9f8624d1a4d9e5af9e6f32dcfe3a2d0a\", element=\"3237a450-5e32-4553-83cc-a5981e3ecb4c\")>]"
      ]
     },
     "execution_count": 28,
     "metadata": {},
     "output_type": "execute_result"
    }
   ],
   "source": [
    "job_title_tags=driver.find_elements_by_xpath(\"//a[@class='title fw500 ellipsis']\")\n",
    "job_title_tags"
   ]
  },
  {
   "cell_type": "code",
   "execution_count": 41,
   "metadata": {},
   "outputs": [
    {
     "data": {
      "text/plain": [
       "['Data Scientist / Data Analyst -Business Analyst',\n",
       " 'Senior Data Analyst - Data Lineage',\n",
       " 'Data analysts',\n",
       " 'Data Analyst - Informatica MDM',\n",
       " 'Excel VBA Jobs Bangalore | VBA data analyst Jobs',\n",
       " 'Data Analyst (2positions)//immediate Joiners//bangalore',\n",
       " 'Data analysts',\n",
       " 'Business Data Analyst',\n",
       " 'Data Analyst',\n",
       " 'Data Analyst']"
      ]
     },
     "execution_count": 41,
     "metadata": {},
     "output_type": "execute_result"
    }
   ],
   "source": [
    "#extracting text\n",
    "Job_title=[]\n",
    "for names in job_title_tags:\n",
    "    Job_title.append(names.text)\n",
    "Job_title=Job_title[:10]\n",
    "Job_title"
   ]
  },
  {
   "cell_type": "code",
   "execution_count": 30,
   "metadata": {},
   "outputs": [
    {
     "data": {
      "text/plain": [
       "[<selenium.webdriver.remote.webelement.WebElement (session=\"9f8624d1a4d9e5af9e6f32dcfe3a2d0a\", element=\"77f8a012-e56a-4606-8af1-bc7397bbeebc\")>,\n",
       " <selenium.webdriver.remote.webelement.WebElement (session=\"9f8624d1a4d9e5af9e6f32dcfe3a2d0a\", element=\"4bebe74a-fc0b-4766-a5cc-973a1cc92b12\")>,\n",
       " <selenium.webdriver.remote.webelement.WebElement (session=\"9f8624d1a4d9e5af9e6f32dcfe3a2d0a\", element=\"5b2ff4ef-2fb2-490a-9d53-e4f3924358c8\")>,\n",
       " <selenium.webdriver.remote.webelement.WebElement (session=\"9f8624d1a4d9e5af9e6f32dcfe3a2d0a\", element=\"aa6acd5e-fb54-430f-8090-0221713053a0\")>,\n",
       " <selenium.webdriver.remote.webelement.WebElement (session=\"9f8624d1a4d9e5af9e6f32dcfe3a2d0a\", element=\"2ef06768-ae95-4056-b05d-76a77e9fdbde\")>,\n",
       " <selenium.webdriver.remote.webelement.WebElement (session=\"9f8624d1a4d9e5af9e6f32dcfe3a2d0a\", element=\"4a0d0026-3bb4-4c0d-bab2-caf3a0b96369\")>,\n",
       " <selenium.webdriver.remote.webelement.WebElement (session=\"9f8624d1a4d9e5af9e6f32dcfe3a2d0a\", element=\"669f8554-c8e5-4a7c-abd9-740c1df8e2f3\")>,\n",
       " <selenium.webdriver.remote.webelement.WebElement (session=\"9f8624d1a4d9e5af9e6f32dcfe3a2d0a\", element=\"a03d742a-a994-4192-bf7a-93c0eb6d6946\")>,\n",
       " <selenium.webdriver.remote.webelement.WebElement (session=\"9f8624d1a4d9e5af9e6f32dcfe3a2d0a\", element=\"2af0ebc0-f8a1-4940-91c8-414554524e0e\")>,\n",
       " <selenium.webdriver.remote.webelement.WebElement (session=\"9f8624d1a4d9e5af9e6f32dcfe3a2d0a\", element=\"e7bd6f9f-664c-4cd5-8172-73541f5628ce\")>,\n",
       " <selenium.webdriver.remote.webelement.WebElement (session=\"9f8624d1a4d9e5af9e6f32dcfe3a2d0a\", element=\"40a5e3d0-6d16-4d71-bdb4-80aa4a79d796\")>,\n",
       " <selenium.webdriver.remote.webelement.WebElement (session=\"9f8624d1a4d9e5af9e6f32dcfe3a2d0a\", element=\"f8f968f8-1d89-4ae4-8783-eb652d885fa9\")>,\n",
       " <selenium.webdriver.remote.webelement.WebElement (session=\"9f8624d1a4d9e5af9e6f32dcfe3a2d0a\", element=\"f6b7e189-ddcc-4f82-9b46-0854bd8586c2\")>,\n",
       " <selenium.webdriver.remote.webelement.WebElement (session=\"9f8624d1a4d9e5af9e6f32dcfe3a2d0a\", element=\"b556c763-5cb0-4f80-bd3f-1594cd5f80cd\")>,\n",
       " <selenium.webdriver.remote.webelement.WebElement (session=\"9f8624d1a4d9e5af9e6f32dcfe3a2d0a\", element=\"a0c55843-d120-4a6a-9c3e-d97bd645f2ed\")>,\n",
       " <selenium.webdriver.remote.webelement.WebElement (session=\"9f8624d1a4d9e5af9e6f32dcfe3a2d0a\", element=\"b02c8198-5a6e-4fa5-901e-083ba636bcc4\")>,\n",
       " <selenium.webdriver.remote.webelement.WebElement (session=\"9f8624d1a4d9e5af9e6f32dcfe3a2d0a\", element=\"4bfb7f84-32dc-4e23-b0a8-4edef8503967\")>,\n",
       " <selenium.webdriver.remote.webelement.WebElement (session=\"9f8624d1a4d9e5af9e6f32dcfe3a2d0a\", element=\"cde9d867-721d-44f1-b205-18878631ec40\")>,\n",
       " <selenium.webdriver.remote.webelement.WebElement (session=\"9f8624d1a4d9e5af9e6f32dcfe3a2d0a\", element=\"7de7d2a6-5108-46dc-84a8-4f7cd2a53002\")>,\n",
       " <selenium.webdriver.remote.webelement.WebElement (session=\"9f8624d1a4d9e5af9e6f32dcfe3a2d0a\", element=\"afca5608-9f58-45d5-ae03-b81e78c02be9\")>]"
      ]
     },
     "execution_count": 30,
     "metadata": {},
     "output_type": "execute_result"
    }
   ],
   "source": [
    "#location tags\n",
    "location_tags=driver.find_elements_by_xpath(\"//li[@class='fleft grey-text br2 placeHolderLi location']\")\n",
    "location_tags"
   ]
  },
  {
   "cell_type": "code",
   "execution_count": 42,
   "metadata": {},
   "outputs": [
    {
     "data": {
      "text/plain": [
       "['Mumbai, Hyderabad/Secunderabad, Pune, Gurgaon/Gurugram, Chennai, Bangalore/Bengaluru',\n",
       " 'Bangalore/Bengaluru',\n",
       " 'Bengaluru/Bangalore',\n",
       " 'Bangalore/Bengaluru',\n",
       " 'Mysore/Mysuru, Coimbatore, Bangalore/Bengaluru',\n",
       " 'Bangalore/Bengaluru',\n",
       " 'Bangalore/Bengaluru',\n",
       " 'Chennai, Bangalore/Bengaluru, Mumbai (All Areas)',\n",
       " 'Bangalore/Bengaluru',\n",
       " 'Bangalore/Bengaluru']"
      ]
     },
     "execution_count": 42,
     "metadata": {},
     "output_type": "execute_result"
    }
   ],
   "source": [
    "job_loc=[]\n",
    "for location in location_tags:\n",
    "    job_loc.append(location.text)\n",
    "job_loc=job_loc[:10]\n",
    "job_loc"
   ]
  },
  {
   "cell_type": "code",
   "execution_count": 37,
   "metadata": {},
   "outputs": [
    {
     "data": {
      "text/plain": [
       "[<selenium.webdriver.remote.webelement.WebElement (session=\"9f8624d1a4d9e5af9e6f32dcfe3a2d0a\", element=\"99128f28-0520-4eca-8f52-5da7a28df5a8\")>,\n",
       " <selenium.webdriver.remote.webelement.WebElement (session=\"9f8624d1a4d9e5af9e6f32dcfe3a2d0a\", element=\"1922c994-8374-4786-9965-a0a6cdfecf81\")>,\n",
       " <selenium.webdriver.remote.webelement.WebElement (session=\"9f8624d1a4d9e5af9e6f32dcfe3a2d0a\", element=\"5ea9cf78-a5da-41ea-a8eb-277c128958f0\")>,\n",
       " <selenium.webdriver.remote.webelement.WebElement (session=\"9f8624d1a4d9e5af9e6f32dcfe3a2d0a\", element=\"01331e0d-d990-4e93-a56e-c1b6d17a43c9\")>,\n",
       " <selenium.webdriver.remote.webelement.WebElement (session=\"9f8624d1a4d9e5af9e6f32dcfe3a2d0a\", element=\"2060e1fa-70cc-41e4-a499-9cdcef05f888\")>,\n",
       " <selenium.webdriver.remote.webelement.WebElement (session=\"9f8624d1a4d9e5af9e6f32dcfe3a2d0a\", element=\"cd82ed96-8d31-4392-b2bd-1a884e0b22c5\")>,\n",
       " <selenium.webdriver.remote.webelement.WebElement (session=\"9f8624d1a4d9e5af9e6f32dcfe3a2d0a\", element=\"84267989-1735-4ddc-908c-ee5cda85378e\")>,\n",
       " <selenium.webdriver.remote.webelement.WebElement (session=\"9f8624d1a4d9e5af9e6f32dcfe3a2d0a\", element=\"060ec2d8-a4da-4c8d-9acb-88e257b2c3df\")>,\n",
       " <selenium.webdriver.remote.webelement.WebElement (session=\"9f8624d1a4d9e5af9e6f32dcfe3a2d0a\", element=\"94ba7d81-b360-4212-89ff-0519bc5bfa36\")>,\n",
       " <selenium.webdriver.remote.webelement.WebElement (session=\"9f8624d1a4d9e5af9e6f32dcfe3a2d0a\", element=\"303d84ed-2505-4238-884a-000933c2b306\")>,\n",
       " <selenium.webdriver.remote.webelement.WebElement (session=\"9f8624d1a4d9e5af9e6f32dcfe3a2d0a\", element=\"81d06be0-eca4-44f6-8d3d-86c0354be45c\")>,\n",
       " <selenium.webdriver.remote.webelement.WebElement (session=\"9f8624d1a4d9e5af9e6f32dcfe3a2d0a\", element=\"cb279a1e-c710-4e63-b0b1-71bca3b33f0a\")>,\n",
       " <selenium.webdriver.remote.webelement.WebElement (session=\"9f8624d1a4d9e5af9e6f32dcfe3a2d0a\", element=\"8b63f1a4-0568-4c7a-98be-4e63b636ef35\")>,\n",
       " <selenium.webdriver.remote.webelement.WebElement (session=\"9f8624d1a4d9e5af9e6f32dcfe3a2d0a\", element=\"f2229cfe-33f3-4fb0-b92e-c9b93959fdee\")>,\n",
       " <selenium.webdriver.remote.webelement.WebElement (session=\"9f8624d1a4d9e5af9e6f32dcfe3a2d0a\", element=\"14c15230-0679-4db0-9276-2716571951f8\")>,\n",
       " <selenium.webdriver.remote.webelement.WebElement (session=\"9f8624d1a4d9e5af9e6f32dcfe3a2d0a\", element=\"6e2005b4-117f-4c5f-a65f-342ed0cecd68\")>,\n",
       " <selenium.webdriver.remote.webelement.WebElement (session=\"9f8624d1a4d9e5af9e6f32dcfe3a2d0a\", element=\"bb4f4ead-06f6-4188-8f5f-52bafc9d56ab\")>,\n",
       " <selenium.webdriver.remote.webelement.WebElement (session=\"9f8624d1a4d9e5af9e6f32dcfe3a2d0a\", element=\"04f1db87-7f97-4439-8d47-de134220fda1\")>,\n",
       " <selenium.webdriver.remote.webelement.WebElement (session=\"9f8624d1a4d9e5af9e6f32dcfe3a2d0a\", element=\"d51fc9ae-92b8-4a52-91a6-44a9bbd52616\")>,\n",
       " <selenium.webdriver.remote.webelement.WebElement (session=\"9f8624d1a4d9e5af9e6f32dcfe3a2d0a\", element=\"3d56f5b7-bcc1-447e-bcfc-5537768f23a6\")>]"
      ]
     },
     "execution_count": 37,
     "metadata": {},
     "output_type": "execute_result"
    }
   ],
   "source": [
    "company_tags=driver.find_elements_by_xpath(\"//a[@class='subTitle ellipsis fleft']\")\n",
    "company_tags"
   ]
  },
  {
   "cell_type": "code",
   "execution_count": 45,
   "metadata": {},
   "outputs": [
    {
     "data": {
      "text/plain": [
       "['Inflexion Analytix Private Limited',\n",
       " 'Opex Global Services',\n",
       " 'IBM India Pvt. Limited',\n",
       " 'Shell India Markets Private Limited',\n",
       " 'Mind Circus Innovation',\n",
       " 'Tech Mahindra Ltd.',\n",
       " 'IBM India Pvt. Limited',\n",
       " 'dotSolved India Pvt., Ltd.',\n",
       " 'Myntra Designs Pvt. Ltd.',\n",
       " 'Myntra Designs Pvt. Ltd.']"
      ]
     },
     "execution_count": 45,
     "metadata": {},
     "output_type": "execute_result"
    }
   ],
   "source": [
    "company=[]\n",
    "for name in company_tags:\n",
    "    company.append(name.text)\n",
    "company=company[:10]\n",
    "company"
   ]
  },
  {
   "cell_type": "code",
   "execution_count": 39,
   "metadata": {},
   "outputs": [
    {
     "data": {
      "text/plain": [
       "[<selenium.webdriver.remote.webelement.WebElement (session=\"9f8624d1a4d9e5af9e6f32dcfe3a2d0a\", element=\"80ae3d12-372a-4e1d-850e-f1afb2e729fb\")>,\n",
       " <selenium.webdriver.remote.webelement.WebElement (session=\"9f8624d1a4d9e5af9e6f32dcfe3a2d0a\", element=\"80a2121c-2a6b-46b6-8468-d59d45c33227\")>,\n",
       " <selenium.webdriver.remote.webelement.WebElement (session=\"9f8624d1a4d9e5af9e6f32dcfe3a2d0a\", element=\"060498cc-f8e2-4cd1-9310-d4633a15f650\")>,\n",
       " <selenium.webdriver.remote.webelement.WebElement (session=\"9f8624d1a4d9e5af9e6f32dcfe3a2d0a\", element=\"4004008c-19e3-4688-9504-0a6ecbe9d48a\")>,\n",
       " <selenium.webdriver.remote.webelement.WebElement (session=\"9f8624d1a4d9e5af9e6f32dcfe3a2d0a\", element=\"9ff9f090-ca8b-4fe6-8682-7f072cf2ef0b\")>,\n",
       " <selenium.webdriver.remote.webelement.WebElement (session=\"9f8624d1a4d9e5af9e6f32dcfe3a2d0a\", element=\"27f59909-64fa-49db-be29-b4d91c647572\")>,\n",
       " <selenium.webdriver.remote.webelement.WebElement (session=\"9f8624d1a4d9e5af9e6f32dcfe3a2d0a\", element=\"4024da1f-668a-4fe1-9eef-14901bd4e330\")>,\n",
       " <selenium.webdriver.remote.webelement.WebElement (session=\"9f8624d1a4d9e5af9e6f32dcfe3a2d0a\", element=\"49546ae2-4df4-4057-b6a1-30cc7c4e63be\")>,\n",
       " <selenium.webdriver.remote.webelement.WebElement (session=\"9f8624d1a4d9e5af9e6f32dcfe3a2d0a\", element=\"0b045891-2318-426b-9b19-3f9597535f6d\")>,\n",
       " <selenium.webdriver.remote.webelement.WebElement (session=\"9f8624d1a4d9e5af9e6f32dcfe3a2d0a\", element=\"ab13a353-fd1d-46ab-9a4c-89096ac52dff\")>,\n",
       " <selenium.webdriver.remote.webelement.WebElement (session=\"9f8624d1a4d9e5af9e6f32dcfe3a2d0a\", element=\"9b881acf-7863-40f9-9563-3c04b87a55ea\")>,\n",
       " <selenium.webdriver.remote.webelement.WebElement (session=\"9f8624d1a4d9e5af9e6f32dcfe3a2d0a\", element=\"361dfdb4-1e91-41d5-8487-b2d3af79dc3a\")>,\n",
       " <selenium.webdriver.remote.webelement.WebElement (session=\"9f8624d1a4d9e5af9e6f32dcfe3a2d0a\", element=\"bb5779d5-85e8-43fd-9286-0a02cb0d1a7c\")>,\n",
       " <selenium.webdriver.remote.webelement.WebElement (session=\"9f8624d1a4d9e5af9e6f32dcfe3a2d0a\", element=\"039bb25e-4771-4a3f-9895-2dbfd518b32e\")>,\n",
       " <selenium.webdriver.remote.webelement.WebElement (session=\"9f8624d1a4d9e5af9e6f32dcfe3a2d0a\", element=\"cd2f4ae5-f6fc-4e28-8229-3e99337da906\")>,\n",
       " <selenium.webdriver.remote.webelement.WebElement (session=\"9f8624d1a4d9e5af9e6f32dcfe3a2d0a\", element=\"d1b406f8-97ce-413d-b419-d2061ae42d45\")>,\n",
       " <selenium.webdriver.remote.webelement.WebElement (session=\"9f8624d1a4d9e5af9e6f32dcfe3a2d0a\", element=\"2b41670b-7ecc-4322-92ee-247d6d21f907\")>,\n",
       " <selenium.webdriver.remote.webelement.WebElement (session=\"9f8624d1a4d9e5af9e6f32dcfe3a2d0a\", element=\"896a65d5-f418-401e-9c61-355675b1d4c5\")>,\n",
       " <selenium.webdriver.remote.webelement.WebElement (session=\"9f8624d1a4d9e5af9e6f32dcfe3a2d0a\", element=\"84afd8b2-181e-4a7d-ba43-c6d688440201\")>,\n",
       " <selenium.webdriver.remote.webelement.WebElement (session=\"9f8624d1a4d9e5af9e6f32dcfe3a2d0a\", element=\"e18d7eb3-6c18-46e3-b9c6-909851458b04\")>]"
      ]
     },
     "execution_count": 39,
     "metadata": {},
     "output_type": "execute_result"
    }
   ],
   "source": [
    "exp_tags=driver.find_elements_by_xpath(\"//li[@class='fleft grey-text br2 placeHolderLi experience']\")\n",
    "exp_tags"
   ]
  },
  {
   "cell_type": "code",
   "execution_count": 44,
   "metadata": {},
   "outputs": [
    {
     "data": {
      "text/plain": [
       "['0-3 Yrs',\n",
       " '5-10 Yrs',\n",
       " '5-6 Yrs',\n",
       " '6-9 Yrs',\n",
       " '0-1 Yrs',\n",
       " '4-8 Yrs',\n",
       " '3-5 Yrs',\n",
       " '9-13 Yrs',\n",
       " '3-5 Yrs',\n",
       " '3-8 Yrs']"
      ]
     },
     "execution_count": 44,
     "metadata": {},
     "output_type": "execute_result"
    }
   ],
   "source": [
    "experience=[]\n",
    "for exp in exp_tags:\n",
    "    experience.append(exp.text)\n",
    "experience=experience[:10]\n",
    "experience"
   ]
  },
  {
   "cell_type": "code",
   "execution_count": 51,
   "metadata": {},
   "outputs": [
    {
     "data": {
      "text/plain": [
       "['https://www.naukri.com/job-listings-data-scientist-data-analyst-business-analyst-inflexion-analytix-private-limited-mumbai-hyderabad-secunderabad-pune-gurgaon-gurugram-chennai-bangalore-bengaluru-0-to-3-years-100521000368?src=jobsearchDesk&sid=16236975664741384&xp=1&px=1',\n",
       " 'https://www.naukri.com/job-listings-senior-data-analyst-data-lineage-opex-global-services-bangalore-bengaluru-5-to-10-years-070621904965?src=jobsearchDesk&sid=16236975664741384&xp=2&px=1',\n",
       " 'https://www.naukri.com/job-listings-data-analysts-ibm-india-pvt-limited-bengaluru-bangalore-5-to-6-years-310521905299?src=jobsearchDesk&sid=16236975664741384&xp=3&px=1',\n",
       " 'https://www.naukri.com/job-listings-data-analyst-informatica-mdm-shell-india-markets-private-limited-bangalore-bengaluru-6-to-9-years-140621906532?src=jobsearchDesk&sid=16236975664741384&xp=4&px=1',\n",
       " 'https://www.naukri.com/job-listings-excel-vba-jobs-bangalore-vba-data-analyst-jobs-mind-circus-innovation-mysore-mysuru-coimbatore-bangalore-bengaluru-0-to-1-years-140621006524?src=jobsearchDesk&sid=16236975664741384&xp=5&px=1',\n",
       " 'https://www.naukri.com/job-listings-data-analyst-2positions-immediate-joiners-bangalore-tech-mahindra-ltd-bangalore-bengaluru-4-to-8-years-100621005875?src=jobsearchDesk&sid=16236975664741384&xp=6&px=1',\n",
       " 'https://www.naukri.com/job-listings-data-analysts-ibm-india-pvt-limited-bangalore-bengaluru-3-to-5-years-030621907521?src=jobsearchDesk&sid=16236975664741384&xp=7&px=1',\n",
       " 'https://www.naukri.com/job-listings-business-data-analyst-dotsolved-india-pvt-ltd-chennai-bangalore-bengaluru-mumbai-all-areas-9-to-13-years-110621005895?src=jobsearchDesk&sid=16236975664741384&xp=8&px=1',\n",
       " 'https://www.naukri.com/job-listings-data-analyst-myntra-designs-pvt-ltd-bangalore-bengaluru-3-to-5-years-090621901095?src=jobsearchDesk&sid=16236975664741384&xp=9&px=1',\n",
       " 'https://www.naukri.com/job-listings-data-analyst-myntra-designs-pvt-ltd-bangalore-bengaluru-3-to-8-years-080621910502?src=jobsearchDesk&sid=16236975664741384&xp=10&px=1']"
      ]
     },
     "execution_count": 51,
     "metadata": {},
     "output_type": "execute_result"
    }
   ],
   "source": [
    "desc_url=[]\n",
    "urls=driver.find_elements_by_xpath(\"//a[@class='title fw500 ellipsis']\")\n",
    "for i in urls:\n",
    "    desc_url.append(i.get_attribute('href'))\n",
    "desc_url=desc_url[:10]\n",
    "desc_url"
   ]
  },
  {
   "cell_type": "code",
   "execution_count": 54,
   "metadata": {},
   "outputs": [],
   "source": [
    "from selenium.common.exceptions import NoSuchElementException"
   ]
  },
  {
   "cell_type": "code",
   "execution_count": 64,
   "metadata": {},
   "outputs": [
    {
     "data": {
      "text/plain": [
       "[\"Job Role : Data Scientist/Data Analyst /Business AnalystLocation : Chennai/Bangalore/Hyderabad/Pune/Mumbai/DelhiGreetings from CAIA - Center for Artificial Intelligence & Advanced Analytics43% of companies experienced a high deficit of skilled resources with Advanced Analytical skills and AI implementing capabilities in year 2020. CAIA gives you a great opportunity to enter the world of future technologies and Innovations- Data Science, Analytics, AI, Data Visualization and Cloud Computing.While 2020 was a year like no other, we are living in an interesting times where data is reshaping the world, and businesses are rapidly adopting technology to gain an edge over others. Hence, there's a substantial increase in demand for technology professionals who can implement systems in data science, machine learning and AI in Tier 1 and Tier 2 organization's working closely with us.To help you build a sustainable career we would like you to utilize data, software and Analytical approaches in Data Science and AI to up skill and get recruited into an organization appreciating your skilling journey.Applications invited from all Freshers and experienced candidates (0-3 yrs) aspiring to make a career in Artificial Intelligence and Advanced Analytics and Data Science.If you wish to make a shift in your career or undergo a career transition, upskilling is essential since it allows you to learn more about the domain and acquire the required skills.Call to schedule interview Monday -Saturday from 10:00 am to 7PmAlexandria A - +91 76958 88879Manigandan -+91 93444 57360Email :alexandriaa@centerforaia.commanigandan@centerforaia.comWhat is needed from you?Freshers who wish to start their career in Analytics and AI and professionals who wish toupskill or change their domain to analytics and emerging technologies are free to apply.An Educational background in any one of the following- BE/B.Tech, ME/M Tech, MSc, BSc/MSc Math's and Statistics, B Com, BCA, BSc CS, BSC IT, MSC IT, MCASkills relating to Mathematics/Statistics.Natural passion towards numbers, business, coding, Analytics and Artificial Intelligence, Machine Learning, visualizationGood verbal and written communication skillsAbility to understand domains in businesses across various sectorsSelection procedure includesAptitude Test & Communication Exam - Online / OfflineSQL/Python test - Online / OfflineCandidates who clears the above will have one-one discussion with our Career Guidance Manager for further evaluation and processing of your Resume.All the Shortlisted candidates will be eligible to continue the corporate training with CAIAWhat you can expect from us?You will get trained on the following modules for a period of 12-14 weeks:SQL & PLSQLData Wrangling using PythonData Visualization Using Power-BIStatistics for Machine LearningArtificial Intelligence, Data InterpretationSupervised & Unsupervised Learning,NLP & Deep LearningCloud Data LakeBusiness intelligence & Data VisualizationSimulation ProjectsExpected Outcome?At the end of the Training you are expected to be well versed with the following:Analysis of large and complex data sets from multiple sourcesDevelopment and evaluation of data analytics models, algorithms and solutionsUnderstanding/implementation of ML algorithms, performance tuning and reportingImplementation of algorithms to mine targeted data and the ability to convert data in to a business storyTranslation of business requirements into technical requirements; Data extraction, preparation and transformationIdentification, development and implementation of statistical techniques and algorithms that address business challenges and adds value to the organizationRequirement Analysis and communication of findings in the form of a meaningful story with the stakeholdersFinding analytical solutions to abstract business issues.Apply objective analysis of facts before coming to a conclusionAbout CAIA - Inflexion Analytix Private LimitedCenter for Artificial Intelligence and Advanced Analytics (Center for AIA) is the brainchild of experienced and visionary alumni of IIT Madras and Bombay.Digital leaders - 5F World and Systech Solutions have joined hands to create a venture for architecting the future of society, workforce, governments and businesses. 5F World specializes in designing solutions around digital platforms and Systech Solutions has an expertise in architecting Artificial Intelligence and Advance Analytics solutions for Fortune 500 companies.Our Website : http://www.centerforaia.com/https://inflexion-analytix-private-limited.business.site/?m=trueCenter for Artificial Intelligence & Advanced Analytics (CAIA) focuses on the following:1. Global Research on emerging trends, technologies and applications in AI and Advanced Analytics2. Advanced Training programs for readying the future ready workforce3. Solutions to herald the futuristic lifestyle and workspaces in the field of AI and Data Science.\",\n",
       " 'Experience - 5 yrs To 10yrsRequirement details as belowJob Description :- Support delivery of the Data Quality Management and Data Architecture initiatives.- Provide business analysis, data discovery, data architecture expertise to enable delivery of the Business Data Architecture- Provide the Logical Data Model, Data Definitions, Data Standards and Data Quality rules for business-critical client data.- Develop the Logical Data Model, Data Definition, and data standards for CCIB Client coverage data- Lead the analysis of the data discovery work, identify enhancements to improve the quality of the data, and produce the data lineage artifacts required by data architecture.- Ensures proposed by data lineage designs aligns with the design work defined by Business Data ArchitectureExperience in the following :- Data discovery, reverse engineering, and other data lineage activities in a large organization, preferable a large bank- Data analysis of external vendor applications/packages, interfaces, and APIs in data architecture flows- Data modeling techniques and tools- Data governance and tools- Knowledge of Global Banking, its operations, and data.- Knowledge of the regulatory environment and the ongoing developments- Process, commercial and operational awareness needed to develop appropriate solutions.',\n",
       " 'none',\n",
       " \"The RoleTypically:• Manages key elements of one or more operational information and data projects. Assists in the gathering and evaluation of data. Evaluates data by interpretation, drawing practical conclusions from it and communicating data analysis results. Delivers on responsibilities for Sprint deliverables, when required.• Guides stakeholders in understanding analyses / outcomes and using them. Helps the business find the right answer to solve their business problems; determines feasible solutions contributing to the development of new business models. Influential at team level through oral presentations, business cases and investment proposals.• Works under broad guidance and supervision by Manager / Team Lead for complex activities.This job profile contains generic information and does not describe individual positions or required job competencies. Grading decisions will also depend on other factors.Technical and professional Experience:6-9 years of experience, including 3+ years of Master Data Management experienceShould have a strong technical background on Informatica MDM implementation projects.Candidate should relate business requirement and map it to the technical design in Informatica MDM.Should possess a hands-on experience in Hub console configuration, E360/IDD setup for User Interface.Understanding and practical exposure on Informatica Data Quality (IDQ) for profiling, Consolidation, Standardization Transformation and be knowledgeable on ETL capabilities using IDQ.On ground experience on ActiveVos configuration, tasks and process setup, SMTP configuration for email notification.Having exposure on Cloud MDM and AWS S3 concepts would be added advantage.Experience with Collibra Data Governance a plusSkills:Informatica MDM Hub Console, Informatica Data Quality (IDQ), IDD/Entity 360, ActiveVos, Oracle, SQLPrincipal Accountabilities/ Requirements:Strong Hands on experience in using Informatica MDM with Strong functional understanding of Master Data Management End to end MDM Hub Configuration Base Objects, Staging, Mapping, Cleanse Function, Match Rules, Validation, Trust and Batch Group IDD configuration with SAM Understanding of Batch Integration Data Load Process Hands on knowledge in Entity 360 IDD MDM Customization using Java SIF or Web service knowledge.Gather and interpret Informatica MDM hub functional specifications and user requirementsDesign data models within MDM Hub, and drive MD Hub Architecture, Conceptual and Physical Data Model definitionDesign and implement mappings for bringing data into MDM Hub from the source systemsGood knowledge in data flow between landing to stage to base objectConfigure MDM hub Batch Jobs and Batch Groups; design and implement MDM Hub events for auditing data changesConfigure Informatica MDM Hub Match and Merge Rules, coordinate Match Rule tuningAnalyzes Designs, configures and tests E360 interfaces requirementsDesign workflow customizations for Data Stewards using IDDIdentify gaps in current methodology of DQ programBuild DQ rules using Informatica IDQ tool stackWork with application team to onboard IDQ ID's for accessAssists with MDM/IDQ installation, product code migration, testing defect resolution, and initial data loadsHands on experience on rules, maps, mapletsAssess current Installation and domain configurationCapture existing server capacity to assess future demand of resourcesRecommend best practices around IDQ Development, Process, and AutomationMulesoft with Informatica MDM/IDQ team for technical support and design reviewsActiveVos configuration for workflow processGood understanding on task/process creation using ActiveVos, knowledge on monitoring, identifying blockers and correcting it.Understanding on reading ActiveVos logs, IDQ logsTrouble shooting on all Informatica toolsHosted MDM/ AWS S3 experience would be an added advantage.\",\n",
       " 'We are looking for female candidates freshers and experience both for Excel/ SQL Data Analyst Jobs Bangalore - Work from HomeJob Description for Excel/ SQL Data Analyst Job-Must have excel knowledge, V lookup, H Lookup, overall formulas in excel,Must have advanced excel knowledge, making of APIs, MS Word, MISBasic SQL knowledge and able to write SQL queriesTo write VBA functionsCreate macrosGenerate data reportsCompare excel filesData sortingConditional formattingWe are looking for female candidates ready to work from home and they need to have their own laptop/desktop along with internet connectivity',\n",
       " 'none',\n",
       " 'none',\n",
       " 'Over all 9+years of experienceBuild a repeatable process and deliver analytics assets (reports, dashboards, KPIreadouts, etc.) to empower business teams and their leadership with insights and datadriven decision-making capabilitiesProactively identify, analyze, and interpret trends or patterns in complex and sensitivedata. Alert, inform and educate business as neededMonitor and ensure data integrity and security for business dataDefine best practices and templates for reporting data to business unitsImprove and advise on data normalization between various data sourcesMeasure and report on KPIs for businessCreate an intake process for ad hoc report demandsEnsure data is set up and accessible for the proper partiesMake recommendations for new metrics, techniques, and strategies to improve teamperformance and measurement in the future3+ years of data analysis and knowledge of business statistics3+ years of experience writing performant SQL queries on large data sets3+ years of developing scalable reporting solutions/products that are intuitive to useExpert level knowledge of Tableau, Looker, or similar BI platformsFamiliarity with cloud-native databases, especially SnowflakeStrong business intuition and outstanding written and verbal communication skillsAbility to convey complex concepts and information to diverse audiencesTrack record of working independently, with strong time management and organizationalskillsComfort working in a globally distributed environment with a remote workforceExperience performing complex analysis including regression, forecasting andprobability modeling is a plusBA/BS in quantitative field or equivalent practical experiencePrior experience in a consulting environment is desiredPerks and Benefits',\n",
       " 'About the CE Team:The Customer Experience team represents the voice of Myntras customers. This team has an enterprise wide vision and works with all functions (Supply Chain, Category, Technology, Contact Center, Marketing & Revenue, Operations, Cataloging etc) to ensure sustained performance across every leg of the customer journey. This entails strong cross functional understanding and stakeholder management to drive immediate action and process changes.The team is comprised of a strong mix of analytical storytellers who turn data into actions. It also owns the customer experience index and is entrusted with providing the organization real time consumer insights. To that end, it relies on diverse capabilities including a strong analytics team, VOC Analysis, Market Research Cell, Customer Immersion Program and a store front lab.What we are looking for:Strong problem solving ability - Candidate needs to exhibit structured thinking, strong Analytical Skills and Process OrientationStrong in Data analytics - Candidate should be proficient in SQL and should have basic understanding of R/ Python. Should be highly proficient in Excel; Knowledge of visualization tools like R-Shiny, Tableau is preferredHighly Action Oriented – Myntra as a culture has a strong bias for action and speed of implementation. A data analyst will need to own projects from conceptualization to executionOrientation / past background in Technology is preferred, not mandatoryData Analyst Responsibilities:Understand and analyze data to drive business insightsData visualization for easy consumption of data with senior managementStrong process orientation and ability to learn quicklyDrive change in tech/process backed by dataMonitoring and providing feedback loop during execution of various initiatives.',\n",
       " 'Data Analyst in WFM & Analytics @ Myntra, BangaloreAbout the CC Team:The CC team represents the voice of Myntras customers. This team works on all legs of customers query and complaints cycle to ensure sustained performance from in-house and partner teams. This entails strong cross functional understanding and stakeholder management to drive immediate action and process changes.The team is comprised of a strong mix of analytical storytellers and planners. It also owns the key call center indices and is entrusted with providing the organization real time consumer insights on key customer pain areas.What we are looking for:Strongproblem solving ability – Candidate needs to exhibit structured thinking, strong Analytical Skills and Process OrientationStrong in Data analytics – Candidate should be proficient in SQL and Python. Should be highly proficient in Excel; Knowledge of statistics is preferred.Highly Action Oriented – Myntra as a culture has a strong bias for action and speed of implementation. A data analyst will need to own projects from conceptualization to executionOrientation / past background in Data Engineering is preferred, not mandatory.Data Analyst Responsibilities:Understand and analyze data to drive business insightsData visualization for easy consumption of data with middle management.Strong process orientation and ability to learn quicklyMonitoring and providing feedback loop during execution of various initiatives']"
      ]
     },
     "execution_count": 64,
     "metadata": {},
     "output_type": "execute_result"
    }
   ],
   "source": [
    "job_desc=[]\n",
    "for url in desc_url:\n",
    "    driver.get(url)\n",
    "    try:\n",
    "        desc_tags=driver.find_element_by_xpath(\"//div[@class='dang-inner-html']\")\n",
    "        job_desc.append(desc_tags.text.replace('\\n',''))\n",
    "    except NoSuchElementException:\n",
    "        job_desc.append('none')\n",
    "        \n",
    "job_desc"
   ]
  },
  {
   "cell_type": "code",
   "execution_count": 65,
   "metadata": {},
   "outputs": [
    {
     "data": {
      "text/html": [
       "<div>\n",
       "<style scoped>\n",
       "    .dataframe tbody tr th:only-of-type {\n",
       "        vertical-align: middle;\n",
       "    }\n",
       "\n",
       "    .dataframe tbody tr th {\n",
       "        vertical-align: top;\n",
       "    }\n",
       "\n",
       "    .dataframe thead th {\n",
       "        text-align: right;\n",
       "    }\n",
       "</style>\n",
       "<table border=\"1\" class=\"dataframe\">\n",
       "  <thead>\n",
       "    <tr style=\"text-align: right;\">\n",
       "      <th></th>\n",
       "      <th>Job_title</th>\n",
       "      <th>Company</th>\n",
       "      <th>Job_location</th>\n",
       "      <th>Experience_required</th>\n",
       "      <th>Description</th>\n",
       "    </tr>\n",
       "  </thead>\n",
       "  <tbody>\n",
       "    <tr>\n",
       "      <th>0</th>\n",
       "      <td>Data Scientist / Data Analyst -Business Analyst</td>\n",
       "      <td>Inflexion Analytix Private Limited</td>\n",
       "      <td>Mumbai, Hyderabad/Secunderabad, Pune, Gurgaon/...</td>\n",
       "      <td>0-3 Yrs</td>\n",
       "      <td>Job Role : Data Scientist/Data Analyst /Busine...</td>\n",
       "    </tr>\n",
       "    <tr>\n",
       "      <th>1</th>\n",
       "      <td>Senior Data Analyst - Data Lineage</td>\n",
       "      <td>Opex Global Services</td>\n",
       "      <td>Bangalore/Bengaluru</td>\n",
       "      <td>5-10 Yrs</td>\n",
       "      <td>Experience - 5 yrs To 10yrsRequirement details...</td>\n",
       "    </tr>\n",
       "    <tr>\n",
       "      <th>2</th>\n",
       "      <td>Data analysts</td>\n",
       "      <td>IBM India Pvt. Limited</td>\n",
       "      <td>Bengaluru/Bangalore</td>\n",
       "      <td>5-6 Yrs</td>\n",
       "      <td>none</td>\n",
       "    </tr>\n",
       "    <tr>\n",
       "      <th>3</th>\n",
       "      <td>Data Analyst - Informatica MDM</td>\n",
       "      <td>Shell India Markets Private Limited</td>\n",
       "      <td>Bangalore/Bengaluru</td>\n",
       "      <td>6-9 Yrs</td>\n",
       "      <td>The RoleTypically:• Manages key elements of on...</td>\n",
       "    </tr>\n",
       "    <tr>\n",
       "      <th>4</th>\n",
       "      <td>Excel VBA Jobs Bangalore | VBA data analyst Jobs</td>\n",
       "      <td>Mind Circus Innovation</td>\n",
       "      <td>Mysore/Mysuru, Coimbatore, Bangalore/Bengaluru</td>\n",
       "      <td>0-1 Yrs</td>\n",
       "      <td>We are looking for female candidates freshers ...</td>\n",
       "    </tr>\n",
       "    <tr>\n",
       "      <th>5</th>\n",
       "      <td>Data Analyst (2positions)//immediate Joiners//...</td>\n",
       "      <td>Tech Mahindra Ltd.</td>\n",
       "      <td>Bangalore/Bengaluru</td>\n",
       "      <td>4-8 Yrs</td>\n",
       "      <td>none</td>\n",
       "    </tr>\n",
       "    <tr>\n",
       "      <th>6</th>\n",
       "      <td>Data analysts</td>\n",
       "      <td>IBM India Pvt. Limited</td>\n",
       "      <td>Bangalore/Bengaluru</td>\n",
       "      <td>3-5 Yrs</td>\n",
       "      <td>none</td>\n",
       "    </tr>\n",
       "    <tr>\n",
       "      <th>7</th>\n",
       "      <td>Business Data Analyst</td>\n",
       "      <td>dotSolved India Pvt., Ltd.</td>\n",
       "      <td>Chennai, Bangalore/Bengaluru, Mumbai (All Areas)</td>\n",
       "      <td>9-13 Yrs</td>\n",
       "      <td>Over all 9+years of experienceBuild a repeatab...</td>\n",
       "    </tr>\n",
       "    <tr>\n",
       "      <th>8</th>\n",
       "      <td>Data Analyst</td>\n",
       "      <td>Myntra Designs Pvt. Ltd.</td>\n",
       "      <td>Bangalore/Bengaluru</td>\n",
       "      <td>3-5 Yrs</td>\n",
       "      <td>About the CE Team:The Customer Experience team...</td>\n",
       "    </tr>\n",
       "    <tr>\n",
       "      <th>9</th>\n",
       "      <td>Data Analyst</td>\n",
       "      <td>Myntra Designs Pvt. Ltd.</td>\n",
       "      <td>Bangalore/Bengaluru</td>\n",
       "      <td>3-8 Yrs</td>\n",
       "      <td>Data Analyst in WFM &amp; Analytics @ Myntra, Bang...</td>\n",
       "    </tr>\n",
       "  </tbody>\n",
       "</table>\n",
       "</div>"
      ],
      "text/plain": [
       "                                           Job_title  \\\n",
       "0    Data Scientist / Data Analyst -Business Analyst   \n",
       "1                 Senior Data Analyst - Data Lineage   \n",
       "2                                      Data analysts   \n",
       "3                     Data Analyst - Informatica MDM   \n",
       "4   Excel VBA Jobs Bangalore | VBA data analyst Jobs   \n",
       "5  Data Analyst (2positions)//immediate Joiners//...   \n",
       "6                                      Data analysts   \n",
       "7                              Business Data Analyst   \n",
       "8                                       Data Analyst   \n",
       "9                                       Data Analyst   \n",
       "\n",
       "                               Company  \\\n",
       "0   Inflexion Analytix Private Limited   \n",
       "1                 Opex Global Services   \n",
       "2               IBM India Pvt. Limited   \n",
       "3  Shell India Markets Private Limited   \n",
       "4               Mind Circus Innovation   \n",
       "5                   Tech Mahindra Ltd.   \n",
       "6               IBM India Pvt. Limited   \n",
       "7           dotSolved India Pvt., Ltd.   \n",
       "8             Myntra Designs Pvt. Ltd.   \n",
       "9             Myntra Designs Pvt. Ltd.   \n",
       "\n",
       "                                        Job_location Experience_required  \\\n",
       "0  Mumbai, Hyderabad/Secunderabad, Pune, Gurgaon/...             0-3 Yrs   \n",
       "1                                Bangalore/Bengaluru            5-10 Yrs   \n",
       "2                                Bengaluru/Bangalore             5-6 Yrs   \n",
       "3                                Bangalore/Bengaluru             6-9 Yrs   \n",
       "4     Mysore/Mysuru, Coimbatore, Bangalore/Bengaluru             0-1 Yrs   \n",
       "5                                Bangalore/Bengaluru             4-8 Yrs   \n",
       "6                                Bangalore/Bengaluru             3-5 Yrs   \n",
       "7   Chennai, Bangalore/Bengaluru, Mumbai (All Areas)            9-13 Yrs   \n",
       "8                                Bangalore/Bengaluru             3-5 Yrs   \n",
       "9                                Bangalore/Bengaluru             3-8 Yrs   \n",
       "\n",
       "                                         Description  \n",
       "0  Job Role : Data Scientist/Data Analyst /Busine...  \n",
       "1  Experience - 5 yrs To 10yrsRequirement details...  \n",
       "2                                               none  \n",
       "3  The RoleTypically:• Manages key elements of on...  \n",
       "4  We are looking for female candidates freshers ...  \n",
       "5                                               none  \n",
       "6                                               none  \n",
       "7  Over all 9+years of experienceBuild a repeatab...  \n",
       "8  About the CE Team:The Customer Experience team...  \n",
       "9  Data Analyst in WFM & Analytics @ Myntra, Bang...  "
      ]
     },
     "execution_count": 65,
     "metadata": {},
     "output_type": "execute_result"
    }
   ],
   "source": [
    "Data_analyst_jobs=pd.DataFrame({})\n",
    "Data_analyst_jobs['Job_title']=Job_title\n",
    "Data_analyst_jobs['Company']=company\n",
    "Data_analyst_jobs['Job_location']=job_loc\n",
    "Data_analyst_jobs['Experience_required']=experience\n",
    "Data_analyst_jobs['Description']=job_desc\n",
    "Data_analyst_jobs\n",
    "\n"
   ]
  },
  {
   "cell_type": "markdown",
   "metadata": {},
   "source": [
    "### Q2: Write a python program to scrape data for “Data Scientist” Job position in\n",
    "“Bangalore” location. You have to scrape the job-title, job-location,\n",
    "company_name, full job-description. You have to scrape first 10 jobs data."
   ]
  },
  {
   "cell_type": "code",
   "execution_count": 656,
   "metadata": {},
   "outputs": [],
   "source": [
    "#getting url\n",
    "url='https://www.naukri.com/'"
   ]
  },
  {
   "cell_type": "code",
   "execution_count": 657,
   "metadata": {},
   "outputs": [],
   "source": [
    "driver.get(url)"
   ]
  },
  {
   "cell_type": "code",
   "execution_count": 658,
   "metadata": {},
   "outputs": [
    {
     "data": {
      "text/plain": [
       "<selenium.webdriver.remote.webelement.WebElement (session=\"9f8624d1a4d9e5af9e6f32dcfe3a2d0a\", element=\"9cce411f-0f98-458f-a737-f2927c35ae6c\")>"
      ]
     },
     "execution_count": 658,
     "metadata": {},
     "output_type": "execute_result"
    }
   ],
   "source": [
    "#getting the search bar for jobs\n",
    "search_jobs=driver.find_element_by_id('qsb-keyword-sugg')\n",
    "search_jobs"
   ]
  },
  {
   "cell_type": "code",
   "execution_count": 659,
   "metadata": {},
   "outputs": [],
   "source": [
    "#passing keyword\n",
    "search_jobs.send_keys('Data Scientist')"
   ]
  },
  {
   "cell_type": "code",
   "execution_count": 660,
   "metadata": {},
   "outputs": [],
   "source": [
    "#getting search button\n",
    "search_btn=driver.find_element_by_xpath(\"//button[@class='btn']\")\n",
    "search_btn.click()"
   ]
  },
  {
   "cell_type": "code",
   "execution_count": 677,
   "metadata": {},
   "outputs": [],
   "source": [
    "#job titles/company/location and description tags\n",
    "job_tags=driver.find_elements_by_xpath(\"//a[@class='title fw500 ellipsis']\")\n",
    "company_name = driver.find_elements_by_xpath(\"//a[@class = 'subTitle ellipsis fleft']\")\n",
    "job_location = driver.find_elements_by_xpath(\"//span[@class = 'ellipsis fleft fs12 lh16']\")"
   ]
  },
  {
   "cell_type": "code",
   "execution_count": 678,
   "metadata": {},
   "outputs": [],
   "source": [
    "job_title=[]\n",
    "location=[]\n",
    "Company_name=[]\n",
    "for i in job_tags:\n",
    "    job_title.append(i.text)\n",
    "for j in company_name:\n",
    "    Company_name.append(j.text)\n",
    "for k in job_location:\n",
    "    location.append(k.text)"
   ]
  },
  {
   "cell_type": "code",
   "execution_count": 679,
   "metadata": {},
   "outputs": [
    {
     "data": {
      "text/plain": [
       "['Data analytics / Data scientist intern (work from Home)',\n",
       " 'Senior Data Scientist / Lead (Predictive Analytics)',\n",
       " 'Data Science- Associate Data Scientist',\n",
       " 'Associate Data Scientist',\n",
       " 'Senior Data Scientist',\n",
       " 'Immediate job opening - Senior Data Scientist',\n",
       " 'Data Scientist - Senior',\n",
       " 'Senior Data Scientist',\n",
       " 'Lead Data Scientist',\n",
       " 'Lead Data Scientist',\n",
       " 'Chaayos is Looking For Data Scientist',\n",
       " 'Data Scientist',\n",
       " 'Data Scientist - IBM Garage',\n",
       " 'Digital Enterprise Architect (Data Scientist)',\n",
       " 'Data Scientist',\n",
       " 'Data Scientist',\n",
       " 'Senior Data Scientist - Machine Learning/Hadoop',\n",
       " 'Senior Data Scientist - SQL/Spark/Python',\n",
       " 'Co-Founder & Principal Data Scientist/Senior Scientist - NLP/Python',\n",
       " 'Sr Data Scientist ( From Service Industry )']"
      ]
     },
     "execution_count": 679,
     "metadata": {},
     "output_type": "execute_result"
    }
   ],
   "source": [
    "job_title"
   ]
  },
  {
   "cell_type": "code",
   "execution_count": 680,
   "metadata": {},
   "outputs": [
    {
     "data": {
      "text/plain": [
       "['Kolkata, Bangalore/Bengaluru, Delhi / NCR',\n",
       " 'Chennai',\n",
       " 'Pune',\n",
       " 'Pune(Baner)',\n",
       " 'Bangalore/Bengaluru',\n",
       " 'Bangalore/Bengaluru',\n",
       " 'Ernakulam',\n",
       " 'Mumbai, Gurgaon/Gurugram, Bangalore/Bengaluru',\n",
       " 'Bangalore/Bengaluru',\n",
       " 'Gurgaon/Gurugram, Bangalore/Bengaluru, Mumbai (All Areas)',\n",
       " 'New Delhi',\n",
       " 'Pune, Mumbai (All Areas)',\n",
       " 'Bengaluru/Bangalore',\n",
       " 'Bangalore/Bengaluru',\n",
       " 'Bangalore/Bengaluru',\n",
       " 'Bangalore/Bengaluru',\n",
       " 'Gurgaon/Gurugram',\n",
       " 'Mumbai, Thane, Navi Mumbai',\n",
       " 'Gurgaon/Gurugram, Delhi / NCR',\n",
       " 'Chennai']"
      ]
     },
     "execution_count": 680,
     "metadata": {},
     "output_type": "execute_result"
    }
   ],
   "source": [
    "location=location[2::3]\n",
    "location"
   ]
  },
  {
   "cell_type": "code",
   "execution_count": 681,
   "metadata": {},
   "outputs": [
    {
     "data": {
      "text/plain": [
       "['TalkValley LLC',\n",
       " 'AVE-Promagne',\n",
       " 'Jet2 Travel Technologies Pvt. Ltd.',\n",
       " 'AlgoAnalytics Private Ltd.',\n",
       " 'RedBus',\n",
       " 'RedBus',\n",
       " 'Dexlock',\n",
       " 'Fractal Analytics',\n",
       " 'FICO',\n",
       " 'Fractal Analytics',\n",
       " 'Chaayos (Sunshine Teahouse Pvt. Ltd.)',\n",
       " 'Intellimation Market Services Limited',\n",
       " 'IBM India Pvt. Limited',\n",
       " 'Mphasis Limited',\n",
       " 'IBM India Pvt. Limited',\n",
       " 'IBM India Pvt. Limited',\n",
       " 'Decision Point',\n",
       " 'Datamatics Business Solutions',\n",
       " 'Benovymed Healthcare',\n",
       " 'AVE-Promagne']"
      ]
     },
     "execution_count": 681,
     "metadata": {},
     "output_type": "execute_result"
    }
   ],
   "source": [
    "Company_name"
   ]
  },
  {
   "cell_type": "code",
   "execution_count": 682,
   "metadata": {},
   "outputs": [
    {
     "data": {
      "text/plain": [
       "['https://www.naukri.com/job-listings-data-analytics-data-scientist-intern-work-from-home-talkvalley-llc-kolkata-bangalore-bengaluru-delhi-ncr-0-to-5-years-050621000128?src=jobsearchDesk&sid=16239538672797851&xp=1&px=1',\n",
       " 'https://www.naukri.com/job-listings-senior-data-scientist-lead-predictive-analytics-ave-promagne-chennai-7-to-10-years-140621900598?src=jobsearchDesk&sid=16239538672797851&xp=2&px=1',\n",
       " 'https://www.naukri.com/job-listings-data-science-associate-data-scientist-jet2-travel-technologies-pvt-ltd-pune-0-to-2-years-110621008316?src=jobsearchDesk&sid=16239538672797851&xp=3&px=1',\n",
       " 'https://www.naukri.com/job-listings-associate-data-scientist-algoanalytics-private-ltd-pune-0-to-1-years-160621002621?src=jobsearchDesk&sid=16239538672797851&xp=4&px=1',\n",
       " 'https://www.naukri.com/job-listings-senior-data-scientist-redbus-in-ibibo-group-private-limited-bangalore-bengaluru-5-to-8-years-090621001584?src=jobsearchDesk&sid=16239538672797851&xp=5&px=1',\n",
       " 'https://www.naukri.com/job-listings-immediate-opening-senior-data-scientist-redbus-in-ibibo-group-private-limited-bangalore-bengaluru-5-to-8-years-140621005528?src=jobsearchDesk&sid=16239538672797851&xp=6&px=1',\n",
       " 'https://www.naukri.com/job-listings-data-scientist-senior-dexlock-ernakulam-2-to-6-years-020621500849?src=jobsearchDesk&sid=16239538672797851&xp=7&px=1',\n",
       " 'https://www.naukri.com/job-listings-senior-data-scientist-fractal-analytics-ltd-mumbai-gurgaon-gurugram-bangalore-bengaluru-5-to-9-years-140621500966?src=jobsearchDesk&sid=16239538672797851&xp=8&px=1',\n",
       " 'https://www.naukri.com/job-listings-lead-data-scientist-fico-bangalore-bengaluru-6-to-11-years-090621500701?src=jobsearchDesk&sid=16239538672797851&xp=9&px=1',\n",
       " 'https://www.naukri.com/job-listings-lead-data-scientist-fractal-analytics-pvt-ltd-gurgaon-gurugram-bangalore-bengaluru-mumbai-all-areas-10-to-15-years-110621003012?src=jobsearchDesk&sid=16239538672797851&xp=10&px=1']"
      ]
     },
     "execution_count": 682,
     "metadata": {},
     "output_type": "execute_result"
    }
   ],
   "source": [
    "desc_url=[]\n",
    "urls=driver.find_elements_by_xpath(\"//a[@class='title fw500 ellipsis']\")\n",
    "for i in urls:\n",
    "    desc_url.append(i.get_attribute('href'))\n",
    "desc_url=desc_url[:10]\n",
    "desc_url"
   ]
  },
  {
   "cell_type": "code",
   "execution_count": 683,
   "metadata": {},
   "outputs": [],
   "source": [
    "from selenium.common.exceptions import NoSuchElementException"
   ]
  },
  {
   "cell_type": "code",
   "execution_count": 684,
   "metadata": {},
   "outputs": [
    {
     "data": {
      "text/plain": [
       "['We are a group of tenured professors from Tier-1 business schools in US universities. We teach machine learning and deep learning to master and PhD students. For our efforts with MentorStudents.org, we are looking to hire a team of interns who are interested in learning data science and analyze data under our supervision.Hours commitment: at least 42.5 hrs/weekDuration of the internship: 3 monthsRequired skills: Communication skills, Python, and OOPPerks (besides getting paid): Learn from professors who teach machine learning in the US+ internship completion certificate+ endorsement of your candidacy to US companies for a remote job via our placement business unit+ networking (check out https://MentorStudents.org)Next step / TEST for Selection:This test will help you present your resume better and improve your employability. Hence, it is in your interest to work on this test. Create a tutorial in Google doc on how to create a timeline in Tableau Public. Use events from your resume as events for the timeline. You are encouraged to look at https://public.tableau.com/en-us/gallery for inspiration. Send your Google doc link at jobs [at] mentorstudents [dot] org. Make sure to make the link publicly accessible so that our team can evaluate your work.',\n",
       " 'Key RequirementsBe responsible for scaling our analytics capability across all internal disciplines and guide our strategic direction in regards to analyticsOrganize and analyze large, diverse data sets across multiple platformsIdentify key insights and leverage them to inform and influence product strategyTechnical Interactions with vendor or partners in technical capacity for scope/ approach & deliverables.Develops proof of concept to prove or disprove validity of conceptWorking with all parts of the business to identify analytical requirements and formalize an approach for reliable, relevant, accurate, efficient reporting on those requirementsDesigning and implementing advanced statistical testing for customized problem solvingDeliver concise verbal and written explanations of analyses to senior management that elevate findings into strategic recommendations.Key RequirementsExperience with any industry with HR analytical projects / Experience with Credit Risk Analytics4 years experienceSQL expertise, Strong in Python / R expertise, Strong in ML algorithms',\n",
       " 'Roles and ResponsibilitiesWe, at Jet2 (UK’s third largest airlines and the second largest tour operator), have set up a state-of-the-art Technology and Innovation Centre in Pune, India. We are setting up a brand-new Data Science competency with an aim to harness the data assets scientifically to increase revenue, improve operational efficiency and deliver high quality service to deepen engagement with various stakeholders. We are looking for an Associate Data Scientist to join us in this exciting journey to transform our organization by leveraging data.As a part of J2TT, the successful candidate will play a pivotal role in the success of the new Data Science competency, the incumbent would work closely with other Data Scientists in the team and various stakeholders - Operations, HR, Marketing, Finance, Technology, Audit, Cyber Security etc. across multiple geographies (primarily in the UK & India). The candidate may need to engage with the CXO layer of the company as the competency matures while making required presentations on the progress made. The key success factor for this role would depend on contributing to Data Science use cases of high impact for the business, developing a watertight solution around the problem discovered leveraging data - mathematics - visualizations and finally industrializing the work product for commercial benefits. Developing expert knowledge on diverse set of data and comprehending business nuances of Jet2 on top of ML, AI and Data Science skill would put the candidate on a strong path to success. Because it is a high visibility program for the organization, it is imperative that incumbent help in the branding exercises through whitepaper publication, roadshows of innovative work products and data culture building in the organization.Key ResponsibilitiesThe successful candidate will be in a very hands-on role, will work with Data Scientists in Pune and collaborate with various stakeholders in Pune, Leeds, and Sheffield.Ideate, conceptualize, and formulate Data Science use case of significant impact for the businessDrive discussions with Business and Data Stewards to ensure the complete understanding with respect to the data science use case; Gain and demonstrate Data and Domain knowledgeEvaluate the Data Quality and Metadata information of Key Data Elements before any modelling effort to ensure minimal surprises in the later part of the projectDesign holistic data science solution covering Descriptive, Predictive & Prescriptive analyticsDevelop and evaluate various Machine Learning models before zero in on the best one and ability to run Machine Learning models on huge amount of dataBuild reusable ML code for faster turnaround time to business problem solvingExplain the Machine Learning model implementation to business stakeholders in a way that they can understand and appreciate the solutionBuild story telling dashboards to make all insights and model output available to end users in a form which is highly helpful for decision makingManage relationship with business stakeholders acting as embedded data scientist constantly thinking about data science solutions to make business betterExperience and KnowledgeGood understanding of the Machine Learning Model Development LifecycleHands-on experience of building ML solutionsGood understanding of various data architecture RDBMS, Datawarehouse & Big DataRich experience of working with regions such as US, UK, Europe, or AustraliaLiaise with the Data Engineers, Technology Leaders & Business StakeholderWorking knowledge of Agile frameworkSkills and Behaviours RequiredWe are looking for technologists who are passionate about data, analytics and technologyStrong technical skills in following key Data Science Tools & Technologieso Python, R, PySpark or Juliao RDBMS – MySQL, Oracle or SQLServero SQL Querying – Basic to Advancedo Story Telling Dashboard – Tableau or PowerBIo Advanced ML Framework – Scikit Learn, Good to have exposure of TensorFlow & PyTorchExcellent team player who acts as a key member of the team sharing knowledge & experienceStrong implementation and mathematical knowledge of Machine Learning ModelsSupervised: Linear Regression, Logistic Regression, Decision Tree, Random Forest, Neural Network, Nave Bayes, KNN, Support Vector MachineUnsupervised: k-mean clustering, DBScanRecommendation System: Association Rule Mining & Collaborative FilteringStrong industry implementation knowledge of Time Series Forecast ModelsUnivariate – SMA, Exponential Smoothing, ARIMA, fbprophetMultivariant – Vector Auto RegressorGood experience of current industry standard ML models – xgBoost, catBoost and Deep Learning Models e.g. CNN, RNN, LSTM, AutoencoderMethodical approach, with good attention to detailStrong communication skills – Ability to work with international teams and across culturesQualificationsBachelor’s degree or master’s degree in information technology engineering, Computer Science or equivalent from reputed instituteGood to have master’s degree in quantitative subjects e.g. Mathematics, Statistics & EconomicsPreference given to Kaggle Ranking and Data Science CertificationGood to have some background of Airlines or Travel domain',\n",
       " 'Should have a passion for ML and AI. Should be able to create and optimize ML models from industrial scale data. Should have a good understanding of and proficiency in developing Deep learning models. Have strong programming skills in python or C++ and basic working knowledge of mathematical programsEducation Qualification: Bachelors or Masters in Computer Engineering, Mathematics or Statistics.Experience: 0-1.5 years experienceKey SkillsStrong Python/ programming skillsGood conceptual understanding of Machine Learning/Deep LearningGood conceptual understanding of Computer Vision and/or Natural Language ProcessingStrong verbal and written communication skillsWhat we offer: Work in a flat organization on analytics, machine learning, and deep learning tools, techniques and models.Remuneration consists of fixed Salary plus Bonus that is in line with industry standards.',\n",
       " 'none',\n",
       " 'none',\n",
       " 'We are searching for a strategic and inquisitive senior Data Scientist who can lead a team and has the potential to adopt the best methodologies and processes for statistical analysis and modeling.Skills and QualificationsWorking Experience working with NLP and ML algorithms.Ability to train and deploy ML models in production systems.Preferable to have distributed data processing experience.Deep understanding in one among text-based ML, image/video/audio-based ML.Working experience with one among Pytorch, Tensorflow, or an equivalent.Experience with deploying ML models in high-performance throughput systems.',\n",
       " 'Serve as primary technical lead on all phases of the projects from providing solutioning, experimentation and deployment.Willing to get your hands dirty with data analysis as well as be comfortable delegating tasks to junior members on the project team, thus providing technical guidance and oversight to the overall project.Hands-on solutioning within the chosen AI platform to partner with both customer and internal data solution architects.Must Have8 years of experience delivering results from advanced analytics projects; with at least 2 years experience leading a project or large workstreamExperience working on data analytics problems in commercial problems space such as pricing, supply chain, marketing or customer experience. Proven track record with building and deploying supervised classification, regression, deep learning and unsupervised clustering models and time series analysis.5 years of Knowledge and or experience with data transformations using SQL, leveraging SAS or SAS Viya platform.Statistical model building with 5 years of experienceBasic understanding of machine learning models development in python and leveraging AWS.Bachelors Degree in Engineering, Mathematics Analytics, Economics or BusinessNice to Have5 years of Knowledge and experience with SAS or SAS Viya platformExperience working with remote teams spread across the globeMachine Learning modelling experiencePython programming to build ML modelsAWS or equivalent other cloud based services knowledge SAS EGExperience working in a data analytics COE or in an analytics consulting company',\n",
       " 'Job SummaryThe candidate should be a Cybersecurity Data Scientist with a background in machine learning for cybersecurity applications.HeShe will contribute, provide subject matter expertise in the area of cybersecurity for critical infrastructure systems.Research, develop, design and implement machine learning algorithms for cyber threat detection in operational technology environments, under limited direction.Identify data types to enable detection of cyber events.Test and validate developed algorithms on real operational data.Identify, define, and scope complex data analytics problems in the cybersecurity domain.Develop cross-domain strategies for increased network security and resiliency of the entire network.',\n",
       " 'Position Description:The Artificial Intelligence and Machine Learning (AIML) group at Fractal Analytics is actively involved in helping Fortune 500 companies by enabling them to discover how they can leverage their data using advanced and sophisticated AI/ML algorithms for which we are looking for Data Scientists with the capability to work on independent statistical and machine learning research/ projects. If you are a problem solver with a curiosity for exploring new techniques and technologies in AIML space, then we would like to talk with you.Job Responsibilities:Ability to understand a problem statement and implement analytical solutions & techniques independently with independently/proactively/thought-leadershipWork with stakeholders throughout the organization to identify opportunities for leveraging company/client data to drive business solutionsFast learner: ability to learn and pick up a new language/tool/ platform quicklyConceptualize, design, and deliver high-quality solutions and insightful analysisConduct research and prototyping innovations; data and requirements gathering; solution scoping and architecture; consulting clients and client facing teams on advanced statistical and machine learning problemsCollaborate and coordinate with different functional teams (engineering and product development) to implement models and monitor outcomesAbility to deliver AIML based solutions around a host of domains and problems, with some of them being: Customer Segmentation & Targeting, Propensity Modeling, Churn Modeling, Lifetime Value Estimation, Forecasting, Recommender Systems, Modeling Response to Incentives, Marketing Mix Optimization, Price OptimizationExperience Required:Minimum 10+ years of experience in Machine Learning domainExpert level proficiency in at least one of R and PythonAbility to create efficient solutions to complex problems. Strong skills in data-structures and ML algorithmsExperience of working on end-to-end data science pipeline: problem scoping, data gathering, EDA, modelling, insights, visualizations, monitoring and maintenanceProblem-solving: Ability to break the problem into small parts and applying relevant techniques to drive required outcomesIntermediate to advanced knowledge of machine learning, probability theory, statistics, and algorithms. You will be required to discuss and use various algorithms and approaches on a daily basisWe use regression, Bayesian methods, tree-based learners, SVM, RF, XGBOOST, time series modeling, dimensionality reduction, SEM, GLM, GLMM, clustering, Deep learning etc. on a regular basis. If you know few of them you are good to goGood to Have:Experience in one of the upcoming technologies like deep learning, NLP, image processing, recommender systemsExperience of working in on one or more domains:CPG: pricing and promotion analytics, marketing analytics, trade promotions, supply chain managementBFSI: cross-sell, up-sell, campaign analytics, treasury analytics, fraud detectionHealthcare: medical adherence, medical risk profiling, EHR data, fraud-waste-abuseExperience in working with Linux computing environment and use of command line tools like sed/awkGood grasp on databases including RDBMS, NoSQL, MongoDB etc.']"
      ]
     },
     "execution_count": 684,
     "metadata": {},
     "output_type": "execute_result"
    }
   ],
   "source": [
    "job_desc=[]\n",
    "for url in desc_url:\n",
    "    driver.get(url)\n",
    "    try:\n",
    "        desc_tags=driver.find_element_by_xpath(\"//div[@class='dang-inner-html']\")\n",
    "        job_desc.append(desc_tags.text.replace('\\n',''))\n",
    "    except NoSuchElementException:\n",
    "        job_desc.append('none')\n",
    "        \n",
    "job_desc"
   ]
  },
  {
   "cell_type": "code",
   "execution_count": 653,
   "metadata": {},
   "outputs": [
    {
     "data": {
      "text/plain": [
       "10"
      ]
     },
     "execution_count": 653,
     "metadata": {},
     "output_type": "execute_result"
    }
   ],
   "source": [
    "len(job_desc)"
   ]
  },
  {
   "cell_type": "code",
   "execution_count": 685,
   "metadata": {},
   "outputs": [
    {
     "data": {
      "text/html": [
       "<div>\n",
       "<style scoped>\n",
       "    .dataframe tbody tr th:only-of-type {\n",
       "        vertical-align: middle;\n",
       "    }\n",
       "\n",
       "    .dataframe tbody tr th {\n",
       "        vertical-align: top;\n",
       "    }\n",
       "\n",
       "    .dataframe thead th {\n",
       "        text-align: right;\n",
       "    }\n",
       "</style>\n",
       "<table border=\"1\" class=\"dataframe\">\n",
       "  <thead>\n",
       "    <tr style=\"text-align: right;\">\n",
       "      <th></th>\n",
       "      <th>Job_title</th>\n",
       "      <th>Company</th>\n",
       "      <th>location</th>\n",
       "      <th>Description</th>\n",
       "    </tr>\n",
       "  </thead>\n",
       "  <tbody>\n",
       "    <tr>\n",
       "      <th>0</th>\n",
       "      <td>Data analytics / Data scientist intern (work f...</td>\n",
       "      <td>TalkValley LLC</td>\n",
       "      <td>Kolkata, Bangalore/Bengaluru, Delhi / NCR</td>\n",
       "      <td>We are a group of tenured professors from Tier...</td>\n",
       "    </tr>\n",
       "    <tr>\n",
       "      <th>1</th>\n",
       "      <td>Senior Data Scientist / Lead (Predictive Analy...</td>\n",
       "      <td>AVE-Promagne</td>\n",
       "      <td>Chennai</td>\n",
       "      <td>Key RequirementsBe responsible for scaling our...</td>\n",
       "    </tr>\n",
       "    <tr>\n",
       "      <th>2</th>\n",
       "      <td>Data Science- Associate Data Scientist</td>\n",
       "      <td>Jet2 Travel Technologies Pvt. Ltd.</td>\n",
       "      <td>Pune</td>\n",
       "      <td>Roles and ResponsibilitiesWe, at Jet2 (UK’s th...</td>\n",
       "    </tr>\n",
       "    <tr>\n",
       "      <th>3</th>\n",
       "      <td>Associate Data Scientist</td>\n",
       "      <td>AlgoAnalytics Private Ltd.</td>\n",
       "      <td>Pune(Baner)</td>\n",
       "      <td>Should have a passion for ML and AI. Should be...</td>\n",
       "    </tr>\n",
       "    <tr>\n",
       "      <th>4</th>\n",
       "      <td>Senior Data Scientist</td>\n",
       "      <td>RedBus</td>\n",
       "      <td>Bangalore/Bengaluru</td>\n",
       "      <td>none</td>\n",
       "    </tr>\n",
       "    <tr>\n",
       "      <th>5</th>\n",
       "      <td>Immediate job opening - Senior Data Scientist</td>\n",
       "      <td>RedBus</td>\n",
       "      <td>Bangalore/Bengaluru</td>\n",
       "      <td>none</td>\n",
       "    </tr>\n",
       "    <tr>\n",
       "      <th>6</th>\n",
       "      <td>Data Scientist - Senior</td>\n",
       "      <td>Dexlock</td>\n",
       "      <td>Ernakulam</td>\n",
       "      <td>We are searching for a strategic and inquisiti...</td>\n",
       "    </tr>\n",
       "    <tr>\n",
       "      <th>7</th>\n",
       "      <td>Senior Data Scientist</td>\n",
       "      <td>Fractal Analytics</td>\n",
       "      <td>Mumbai, Gurgaon/Gurugram, Bangalore/Bengaluru</td>\n",
       "      <td>Serve as primary technical lead on all phases ...</td>\n",
       "    </tr>\n",
       "    <tr>\n",
       "      <th>8</th>\n",
       "      <td>Lead Data Scientist</td>\n",
       "      <td>FICO</td>\n",
       "      <td>Bangalore/Bengaluru</td>\n",
       "      <td>Job SummaryThe candidate should be a Cybersecu...</td>\n",
       "    </tr>\n",
       "    <tr>\n",
       "      <th>9</th>\n",
       "      <td>Lead Data Scientist</td>\n",
       "      <td>Fractal Analytics</td>\n",
       "      <td>Gurgaon/Gurugram, Bangalore/Bengaluru, Mumbai ...</td>\n",
       "      <td>Position Description:The Artificial Intelligen...</td>\n",
       "    </tr>\n",
       "  </tbody>\n",
       "</table>\n",
       "</div>"
      ],
      "text/plain": [
       "                                           Job_title  \\\n",
       "0  Data analytics / Data scientist intern (work f...   \n",
       "1  Senior Data Scientist / Lead (Predictive Analy...   \n",
       "2             Data Science- Associate Data Scientist   \n",
       "3                           Associate Data Scientist   \n",
       "4                              Senior Data Scientist   \n",
       "5      Immediate job opening - Senior Data Scientist   \n",
       "6                            Data Scientist - Senior   \n",
       "7                              Senior Data Scientist   \n",
       "8                                Lead Data Scientist   \n",
       "9                                Lead Data Scientist   \n",
       "\n",
       "                              Company  \\\n",
       "0                      TalkValley LLC   \n",
       "1                        AVE-Promagne   \n",
       "2  Jet2 Travel Technologies Pvt. Ltd.   \n",
       "3          AlgoAnalytics Private Ltd.   \n",
       "4                              RedBus   \n",
       "5                              RedBus   \n",
       "6                             Dexlock   \n",
       "7                   Fractal Analytics   \n",
       "8                                FICO   \n",
       "9                   Fractal Analytics   \n",
       "\n",
       "                                            location  \\\n",
       "0          Kolkata, Bangalore/Bengaluru, Delhi / NCR   \n",
       "1                                            Chennai   \n",
       "2                                               Pune   \n",
       "3                                        Pune(Baner)   \n",
       "4                                Bangalore/Bengaluru   \n",
       "5                                Bangalore/Bengaluru   \n",
       "6                                          Ernakulam   \n",
       "7      Mumbai, Gurgaon/Gurugram, Bangalore/Bengaluru   \n",
       "8                                Bangalore/Bengaluru   \n",
       "9  Gurgaon/Gurugram, Bangalore/Bengaluru, Mumbai ...   \n",
       "\n",
       "                                         Description  \n",
       "0  We are a group of tenured professors from Tier...  \n",
       "1  Key RequirementsBe responsible for scaling our...  \n",
       "2  Roles and ResponsibilitiesWe, at Jet2 (UK’s th...  \n",
       "3  Should have a passion for ML and AI. Should be...  \n",
       "4                                               none  \n",
       "5                                               none  \n",
       "6  We are searching for a strategic and inquisiti...  \n",
       "7  Serve as primary technical lead on all phases ...  \n",
       "8  Job SummaryThe candidate should be a Cybersecu...  \n",
       "9  Position Description:The Artificial Intelligen...  "
      ]
     },
     "execution_count": 685,
     "metadata": {},
     "output_type": "execute_result"
    }
   ],
   "source": [
    "Data_Scientist_jobs=pd.DataFrame({})\n",
    "Data_Scientist_jobs['Job_title']=job_title[:10]\n",
    "Data_Scientist_jobs['Company']=Company_name[:10]\n",
    "Data_Scientist_jobs['location']=location[:10]\n",
    "Data_Scientist_jobs['Description']=job_desc[:10]\n",
    "Data_Scientist_jobs"
   ]
  },
  {
   "cell_type": "markdown",
   "metadata": {},
   "source": [
    "### Q3\n",
    "You have to scrape data for “Data Scientist” designation for first 10 job results.\n",
    "You have to scrape the job-title, job-location, company_name,\n",
    "experience_required.\n",
    "The location filter to be used is “Delhi/NCR”\n",
    "The salary filter to be used is “3-6” lakhs\n"
   ]
  },
  {
   "cell_type": "code",
   "execution_count": 125,
   "metadata": {},
   "outputs": [],
   "source": [
    "#getting url\n",
    "url='https://www.naukri.com/'"
   ]
  },
  {
   "cell_type": "code",
   "execution_count": 126,
   "metadata": {},
   "outputs": [],
   "source": [
    "driver.get(url)"
   ]
  },
  {
   "cell_type": "code",
   "execution_count": 127,
   "metadata": {},
   "outputs": [
    {
     "data": {
      "text/plain": [
       "<selenium.webdriver.remote.webelement.WebElement (session=\"9f8624d1a4d9e5af9e6f32dcfe3a2d0a\", element=\"4f0d13ee-81b4-42a3-8126-8e709e3f9882\")>"
      ]
     },
     "execution_count": 127,
     "metadata": {},
     "output_type": "execute_result"
    }
   ],
   "source": [
    "#getting the search bar for jobs\n",
    "search_jobs=driver.find_element_by_id('qsb-keyword-sugg')\n",
    "search_jobs"
   ]
  },
  {
   "cell_type": "code",
   "execution_count": 128,
   "metadata": {},
   "outputs": [],
   "source": [
    "#passing keyword\n",
    "search_jobs.send_keys('Data Scientist')"
   ]
  },
  {
   "cell_type": "code",
   "execution_count": 129,
   "metadata": {},
   "outputs": [],
   "source": [
    "#getting search button\n",
    "search_btn=driver.find_element_by_xpath(\"//button[@class='btn']\")\n",
    "search_btn.click()"
   ]
  },
  {
   "cell_type": "code",
   "execution_count": 130,
   "metadata": {},
   "outputs": [],
   "source": [
    "#location flter\n",
    "loc_fil=driver.find_element_by_xpath(\"//span[@title = 'Delhi / NCR']\")\n",
    "loc_fil.click()"
   ]
  },
  {
   "cell_type": "code",
   "execution_count": 131,
   "metadata": {},
   "outputs": [],
   "source": [
    "#salary filter\n",
    "sal_fil=driver.find_element_by_xpath(\"//span[@title='3-6 Lakhs']\")\n",
    "sal_fil.click()"
   ]
  },
  {
   "cell_type": "code",
   "execution_count": 572,
   "metadata": {},
   "outputs": [],
   "source": [
    "#job titles\n",
    "job_tags=driver.find_elements_by_xpath(\"//a[@class='title fw500 ellipsis']\")\n"
   ]
  },
  {
   "cell_type": "code",
   "execution_count": 143,
   "metadata": {},
   "outputs": [
    {
     "data": {
      "text/plain": [
       "['Data Scientist / Data Analyst -Business Analyst',\n",
       " 'Data analytics / Data scientist intern (work from Home)',\n",
       " 'Chaayos is Looking For Data Scientist',\n",
       " 'Data Scientist',\n",
       " 'Junior Data Scientist',\n",
       " 'We are hiring- Data Scientist +Python- Noida',\n",
       " 'Data Scientist',\n",
       " 'Data Scientist',\n",
       " 'Data Analyst/Scientist Big Data, Statistical Techniques',\n",
       " 'Business Analyst- Data Scientist']"
      ]
     },
     "execution_count": 143,
     "metadata": {},
     "output_type": "execute_result"
    }
   ],
   "source": [
    "job_titles=[]\n",
    "for jobs in job_tags:\n",
    "    job_titles.append(jobs.text)\n",
    "job_titles=job_titles[:10]\n",
    "job_titles"
   ]
  },
  {
   "cell_type": "code",
   "execution_count": 144,
   "metadata": {},
   "outputs": [
    {
     "data": {
      "text/plain": [
       "[<selenium.webdriver.remote.webelement.WebElement (session=\"9f8624d1a4d9e5af9e6f32dcfe3a2d0a\", element=\"bf358a41-25d7-4f40-a593-a34b58c5b450\")>,\n",
       " <selenium.webdriver.remote.webelement.WebElement (session=\"9f8624d1a4d9e5af9e6f32dcfe3a2d0a\", element=\"808a3c54-87d7-4ba4-9def-bcddd64b00a7\")>,\n",
       " <selenium.webdriver.remote.webelement.WebElement (session=\"9f8624d1a4d9e5af9e6f32dcfe3a2d0a\", element=\"ce6a41dd-28b1-48b5-b792-a87e4d849b90\")>,\n",
       " <selenium.webdriver.remote.webelement.WebElement (session=\"9f8624d1a4d9e5af9e6f32dcfe3a2d0a\", element=\"02d1e166-3ccb-4a44-948c-e57310e21806\")>,\n",
       " <selenium.webdriver.remote.webelement.WebElement (session=\"9f8624d1a4d9e5af9e6f32dcfe3a2d0a\", element=\"be52eb1e-b752-40bf-a1ba-dd7928966ca7\")>,\n",
       " <selenium.webdriver.remote.webelement.WebElement (session=\"9f8624d1a4d9e5af9e6f32dcfe3a2d0a\", element=\"014478bc-5dca-4cbc-a3b9-6c4b467f6d31\")>,\n",
       " <selenium.webdriver.remote.webelement.WebElement (session=\"9f8624d1a4d9e5af9e6f32dcfe3a2d0a\", element=\"6d957d31-8db7-4cb1-a24c-11a304485da5\")>,\n",
       " <selenium.webdriver.remote.webelement.WebElement (session=\"9f8624d1a4d9e5af9e6f32dcfe3a2d0a\", element=\"a98e7b82-b579-446c-9485-761036102c7f\")>,\n",
       " <selenium.webdriver.remote.webelement.WebElement (session=\"9f8624d1a4d9e5af9e6f32dcfe3a2d0a\", element=\"021b15d8-056a-40e3-969e-97184564f5e5\")>,\n",
       " <selenium.webdriver.remote.webelement.WebElement (session=\"9f8624d1a4d9e5af9e6f32dcfe3a2d0a\", element=\"57f716d0-9ee7-4b64-bf33-23f30ee84dbe\")>,\n",
       " <selenium.webdriver.remote.webelement.WebElement (session=\"9f8624d1a4d9e5af9e6f32dcfe3a2d0a\", element=\"60e5e83a-2e1e-4ef7-bfcd-fc6c532db3be\")>,\n",
       " <selenium.webdriver.remote.webelement.WebElement (session=\"9f8624d1a4d9e5af9e6f32dcfe3a2d0a\", element=\"bd26ad68-bf37-42bf-bee2-acfed2905fdf\")>,\n",
       " <selenium.webdriver.remote.webelement.WebElement (session=\"9f8624d1a4d9e5af9e6f32dcfe3a2d0a\", element=\"84f1edc2-28aa-4b80-a215-34b2ce2b22b7\")>,\n",
       " <selenium.webdriver.remote.webelement.WebElement (session=\"9f8624d1a4d9e5af9e6f32dcfe3a2d0a\", element=\"65e36a79-1916-4ca5-a4b7-0734bb16b840\")>,\n",
       " <selenium.webdriver.remote.webelement.WebElement (session=\"9f8624d1a4d9e5af9e6f32dcfe3a2d0a\", element=\"510c2c5d-fd62-4a66-abc4-813fc352a901\")>,\n",
       " <selenium.webdriver.remote.webelement.WebElement (session=\"9f8624d1a4d9e5af9e6f32dcfe3a2d0a\", element=\"16c9c40d-8ec9-4de7-9ff9-f56c05ae7d56\")>,\n",
       " <selenium.webdriver.remote.webelement.WebElement (session=\"9f8624d1a4d9e5af9e6f32dcfe3a2d0a\", element=\"04700111-c921-43bb-a7ab-d77a55adea98\")>,\n",
       " <selenium.webdriver.remote.webelement.WebElement (session=\"9f8624d1a4d9e5af9e6f32dcfe3a2d0a\", element=\"334cc577-bcf4-4f64-9420-12c2be0ac98f\")>,\n",
       " <selenium.webdriver.remote.webelement.WebElement (session=\"9f8624d1a4d9e5af9e6f32dcfe3a2d0a\", element=\"ec90e97f-c353-4a9b-988b-63ae4f05287a\")>,\n",
       " <selenium.webdriver.remote.webelement.WebElement (session=\"9f8624d1a4d9e5af9e6f32dcfe3a2d0a\", element=\"55a1cb7f-0b2b-4fc7-9597-09a26979f84f\")>]"
      ]
     },
     "execution_count": 144,
     "metadata": {},
     "output_type": "execute_result"
    }
   ],
   "source": [
    "# Finding the Job locations\n",
    "job_location = driver.find_elements_by_xpath(\"//li[@class = 'fleft grey-text br2 placeHolderLi location']//span\")\n",
    "job_location"
   ]
  },
  {
   "cell_type": "code",
   "execution_count": 145,
   "metadata": {},
   "outputs": [
    {
     "data": {
      "text/plain": [
       "['Mumbai, Hyderabad/Secunderabad, Pune, Gurgaon/Gurugram, Chennai, Bangalore/Bengaluru',\n",
       " 'Kolkata, Bangalore/Bengaluru, Delhi / NCR',\n",
       " 'New Delhi',\n",
       " 'Mumbai, Gurgaon/Gurugram, Bangalore/Bengaluru',\n",
       " 'Noida(Sector-59 Noida)',\n",
       " 'Noida, Gurgaon/Gurugram, Delhi / NCR',\n",
       " 'Gurgaon/Gurugram, Delhi / NCR',\n",
       " 'Noida',\n",
       " 'Gurgaon/Gurugram',\n",
       " 'Noida, Gurgaon/Gurugram']"
      ]
     },
     "execution_count": 145,
     "metadata": {},
     "output_type": "execute_result"
    }
   ],
   "source": [
    "Job_location = []\n",
    "for i in job_location:\n",
    "    Job_location.append(i.text)\n",
    "Job_location=Job_location[:10]\n",
    "Job_location"
   ]
  },
  {
   "cell_type": "code",
   "execution_count": 146,
   "metadata": {},
   "outputs": [
    {
     "data": {
      "text/plain": [
       "[<selenium.webdriver.remote.webelement.WebElement (session=\"9f8624d1a4d9e5af9e6f32dcfe3a2d0a\", element=\"afeedb63-8fa4-4b31-847c-ee5a907fceb3\")>,\n",
       " <selenium.webdriver.remote.webelement.WebElement (session=\"9f8624d1a4d9e5af9e6f32dcfe3a2d0a\", element=\"1601a0d6-c9ae-4769-bd8b-4d48f3fe29b3\")>,\n",
       " <selenium.webdriver.remote.webelement.WebElement (session=\"9f8624d1a4d9e5af9e6f32dcfe3a2d0a\", element=\"d0e9c87f-cd69-4af4-8dd1-a599a1764d2b\")>,\n",
       " <selenium.webdriver.remote.webelement.WebElement (session=\"9f8624d1a4d9e5af9e6f32dcfe3a2d0a\", element=\"6846bbd9-97f3-499b-a02e-9232eccac2a7\")>,\n",
       " <selenium.webdriver.remote.webelement.WebElement (session=\"9f8624d1a4d9e5af9e6f32dcfe3a2d0a\", element=\"1abf7e90-a810-4c47-b9d6-6ae59abeb0a3\")>,\n",
       " <selenium.webdriver.remote.webelement.WebElement (session=\"9f8624d1a4d9e5af9e6f32dcfe3a2d0a\", element=\"f958e75d-f8a2-4c9b-9414-c7d25577579c\")>,\n",
       " <selenium.webdriver.remote.webelement.WebElement (session=\"9f8624d1a4d9e5af9e6f32dcfe3a2d0a\", element=\"531c96ee-903b-4991-9711-de2e5f6efb9a\")>,\n",
       " <selenium.webdriver.remote.webelement.WebElement (session=\"9f8624d1a4d9e5af9e6f32dcfe3a2d0a\", element=\"b85dea2d-93d6-4807-bcc5-defb5142a2fe\")>,\n",
       " <selenium.webdriver.remote.webelement.WebElement (session=\"9f8624d1a4d9e5af9e6f32dcfe3a2d0a\", element=\"7885c196-43e9-4f45-b39a-86d06acf6712\")>,\n",
       " <selenium.webdriver.remote.webelement.WebElement (session=\"9f8624d1a4d9e5af9e6f32dcfe3a2d0a\", element=\"0a55e04a-70cd-4da9-901d-5a4413bd101e\")>,\n",
       " <selenium.webdriver.remote.webelement.WebElement (session=\"9f8624d1a4d9e5af9e6f32dcfe3a2d0a\", element=\"937390c2-b6ce-49da-b84d-da8d0419fecd\")>,\n",
       " <selenium.webdriver.remote.webelement.WebElement (session=\"9f8624d1a4d9e5af9e6f32dcfe3a2d0a\", element=\"9d428154-1ad7-4266-8ce4-df82d7c475e2\")>,\n",
       " <selenium.webdriver.remote.webelement.WebElement (session=\"9f8624d1a4d9e5af9e6f32dcfe3a2d0a\", element=\"abb6477a-19eb-41c5-a5ec-3cc78279d3f9\")>,\n",
       " <selenium.webdriver.remote.webelement.WebElement (session=\"9f8624d1a4d9e5af9e6f32dcfe3a2d0a\", element=\"03b0cc90-437a-4c53-91e6-7d3eb10cf172\")>,\n",
       " <selenium.webdriver.remote.webelement.WebElement (session=\"9f8624d1a4d9e5af9e6f32dcfe3a2d0a\", element=\"6160a7c0-cc04-4f4b-93ce-9a0834e4bd8e\")>,\n",
       " <selenium.webdriver.remote.webelement.WebElement (session=\"9f8624d1a4d9e5af9e6f32dcfe3a2d0a\", element=\"d5feb711-d4c8-4764-998c-e8683b638595\")>,\n",
       " <selenium.webdriver.remote.webelement.WebElement (session=\"9f8624d1a4d9e5af9e6f32dcfe3a2d0a\", element=\"d24f6401-3ac8-4394-813f-f27c788488ee\")>,\n",
       " <selenium.webdriver.remote.webelement.WebElement (session=\"9f8624d1a4d9e5af9e6f32dcfe3a2d0a\", element=\"df84d75b-c7dc-4804-97e6-0f0ecfe73cd0\")>,\n",
       " <selenium.webdriver.remote.webelement.WebElement (session=\"9f8624d1a4d9e5af9e6f32dcfe3a2d0a\", element=\"3fdf794d-6b79-4064-85c7-dea62119d5ce\")>,\n",
       " <selenium.webdriver.remote.webelement.WebElement (session=\"9f8624d1a4d9e5af9e6f32dcfe3a2d0a\", element=\"acbce6f4-4c24-4c2e-a590-9ef39b112ed5\")>]"
      ]
     },
     "execution_count": 146,
     "metadata": {},
     "output_type": "execute_result"
    }
   ],
   "source": [
    "# Finding the company names\n",
    "company_name = driver.find_elements_by_xpath(\"//a[@class = 'title fw500 ellipsis']\")\n",
    "company_name"
   ]
  },
  {
   "cell_type": "code",
   "execution_count": 147,
   "metadata": {},
   "outputs": [
    {
     "data": {
      "text/plain": [
       "['Data Scientist / Data Analyst -Business Analyst',\n",
       " 'Data analytics / Data scientist intern (work from Home)',\n",
       " 'Chaayos is Looking For Data Scientist',\n",
       " 'Data Scientist',\n",
       " 'Junior Data Scientist',\n",
       " 'We are hiring- Data Scientist +Python- Noida',\n",
       " 'Data Scientist',\n",
       " 'Data Scientist',\n",
       " 'Data Analyst/Scientist Big Data, Statistical Techniques',\n",
       " 'Business Analyst- Data Scientist']"
      ]
     },
     "execution_count": 147,
     "metadata": {},
     "output_type": "execute_result"
    }
   ],
   "source": [
    "Company_name = []\n",
    "for i in company_name:\n",
    "    Company_name.append(i.text)\n",
    "Company_name=Company_name[:10]\n",
    "Company_name"
   ]
  },
  {
   "cell_type": "code",
   "execution_count": 148,
   "metadata": {},
   "outputs": [
    {
     "data": {
      "text/plain": [
       "[<selenium.webdriver.remote.webelement.WebElement (session=\"9f8624d1a4d9e5af9e6f32dcfe3a2d0a\", element=\"75c18c94-d846-412f-aca6-ea3b6390ab79\")>,\n",
       " <selenium.webdriver.remote.webelement.WebElement (session=\"9f8624d1a4d9e5af9e6f32dcfe3a2d0a\", element=\"c3fb459b-bbc5-4a1d-90eb-9a2bb8c8c392\")>,\n",
       " <selenium.webdriver.remote.webelement.WebElement (session=\"9f8624d1a4d9e5af9e6f32dcfe3a2d0a\", element=\"bf358a41-25d7-4f40-a593-a34b58c5b450\")>,\n",
       " <selenium.webdriver.remote.webelement.WebElement (session=\"9f8624d1a4d9e5af9e6f32dcfe3a2d0a\", element=\"3c273b89-791a-4c0d-9f47-5937deaf8c18\")>,\n",
       " <selenium.webdriver.remote.webelement.WebElement (session=\"9f8624d1a4d9e5af9e6f32dcfe3a2d0a\", element=\"57ccf72d-bd73-45e2-8240-9dc01eb63b1a\")>,\n",
       " <selenium.webdriver.remote.webelement.WebElement (session=\"9f8624d1a4d9e5af9e6f32dcfe3a2d0a\", element=\"808a3c54-87d7-4ba4-9def-bcddd64b00a7\")>,\n",
       " <selenium.webdriver.remote.webelement.WebElement (session=\"9f8624d1a4d9e5af9e6f32dcfe3a2d0a\", element=\"14f13517-53eb-4a7a-ad9a-7c4029703c55\")>,\n",
       " <selenium.webdriver.remote.webelement.WebElement (session=\"9f8624d1a4d9e5af9e6f32dcfe3a2d0a\", element=\"2875291b-667f-4dab-b275-689c57b35b6d\")>,\n",
       " <selenium.webdriver.remote.webelement.WebElement (session=\"9f8624d1a4d9e5af9e6f32dcfe3a2d0a\", element=\"ce6a41dd-28b1-48b5-b792-a87e4d849b90\")>,\n",
       " <selenium.webdriver.remote.webelement.WebElement (session=\"9f8624d1a4d9e5af9e6f32dcfe3a2d0a\", element=\"93ea59ff-0d83-4464-ad7a-42fbeb625962\")>,\n",
       " <selenium.webdriver.remote.webelement.WebElement (session=\"9f8624d1a4d9e5af9e6f32dcfe3a2d0a\", element=\"1683b35f-e908-49a6-bf18-12aff1fba1d4\")>,\n",
       " <selenium.webdriver.remote.webelement.WebElement (session=\"9f8624d1a4d9e5af9e6f32dcfe3a2d0a\", element=\"02d1e166-3ccb-4a44-948c-e57310e21806\")>,\n",
       " <selenium.webdriver.remote.webelement.WebElement (session=\"9f8624d1a4d9e5af9e6f32dcfe3a2d0a\", element=\"02979302-e563-4adb-818d-4c65d501d507\")>,\n",
       " <selenium.webdriver.remote.webelement.WebElement (session=\"9f8624d1a4d9e5af9e6f32dcfe3a2d0a\", element=\"a235d06d-c87d-42ad-aa64-3582d44bd0af\")>,\n",
       " <selenium.webdriver.remote.webelement.WebElement (session=\"9f8624d1a4d9e5af9e6f32dcfe3a2d0a\", element=\"be52eb1e-b752-40bf-a1ba-dd7928966ca7\")>,\n",
       " <selenium.webdriver.remote.webelement.WebElement (session=\"9f8624d1a4d9e5af9e6f32dcfe3a2d0a\", element=\"60c48b7b-a3f6-400d-b5ce-01077ee4700e\")>,\n",
       " <selenium.webdriver.remote.webelement.WebElement (session=\"9f8624d1a4d9e5af9e6f32dcfe3a2d0a\", element=\"1d9490cc-b81a-4d66-ba23-0f02ca7eced7\")>,\n",
       " <selenium.webdriver.remote.webelement.WebElement (session=\"9f8624d1a4d9e5af9e6f32dcfe3a2d0a\", element=\"014478bc-5dca-4cbc-a3b9-6c4b467f6d31\")>,\n",
       " <selenium.webdriver.remote.webelement.WebElement (session=\"9f8624d1a4d9e5af9e6f32dcfe3a2d0a\", element=\"5caa037c-087e-4e54-8460-88cca365bfa0\")>,\n",
       " <selenium.webdriver.remote.webelement.WebElement (session=\"9f8624d1a4d9e5af9e6f32dcfe3a2d0a\", element=\"bfa216ed-c809-4f7e-87fc-e5507e194794\")>,\n",
       " <selenium.webdriver.remote.webelement.WebElement (session=\"9f8624d1a4d9e5af9e6f32dcfe3a2d0a\", element=\"6d957d31-8db7-4cb1-a24c-11a304485da5\")>,\n",
       " <selenium.webdriver.remote.webelement.WebElement (session=\"9f8624d1a4d9e5af9e6f32dcfe3a2d0a\", element=\"5d64848e-ca50-48f1-8aa0-d39a968267d7\")>,\n",
       " <selenium.webdriver.remote.webelement.WebElement (session=\"9f8624d1a4d9e5af9e6f32dcfe3a2d0a\", element=\"7fe84d54-eac5-48b0-807a-13db298e4905\")>,\n",
       " <selenium.webdriver.remote.webelement.WebElement (session=\"9f8624d1a4d9e5af9e6f32dcfe3a2d0a\", element=\"a98e7b82-b579-446c-9485-761036102c7f\")>,\n",
       " <selenium.webdriver.remote.webelement.WebElement (session=\"9f8624d1a4d9e5af9e6f32dcfe3a2d0a\", element=\"cc2c458b-9800-4d91-a4c4-8425a4f86991\")>,\n",
       " <selenium.webdriver.remote.webelement.WebElement (session=\"9f8624d1a4d9e5af9e6f32dcfe3a2d0a\", element=\"a1dfd3d7-41a6-4cb6-a51f-5166a4196cb9\")>,\n",
       " <selenium.webdriver.remote.webelement.WebElement (session=\"9f8624d1a4d9e5af9e6f32dcfe3a2d0a\", element=\"021b15d8-056a-40e3-969e-97184564f5e5\")>,\n",
       " <selenium.webdriver.remote.webelement.WebElement (session=\"9f8624d1a4d9e5af9e6f32dcfe3a2d0a\", element=\"b9c0ad6c-effe-47d6-bf1b-bd9eef35aa09\")>,\n",
       " <selenium.webdriver.remote.webelement.WebElement (session=\"9f8624d1a4d9e5af9e6f32dcfe3a2d0a\", element=\"81f66eaa-87a3-4f7a-9182-f9c7a361cbe9\")>,\n",
       " <selenium.webdriver.remote.webelement.WebElement (session=\"9f8624d1a4d9e5af9e6f32dcfe3a2d0a\", element=\"57f716d0-9ee7-4b64-bf33-23f30ee84dbe\")>,\n",
       " <selenium.webdriver.remote.webelement.WebElement (session=\"9f8624d1a4d9e5af9e6f32dcfe3a2d0a\", element=\"ef834d93-30f5-41dd-b2ac-ff9464fa741b\")>,\n",
       " <selenium.webdriver.remote.webelement.WebElement (session=\"9f8624d1a4d9e5af9e6f32dcfe3a2d0a\", element=\"34751710-265d-44d4-84c9-89eb206944a5\")>,\n",
       " <selenium.webdriver.remote.webelement.WebElement (session=\"9f8624d1a4d9e5af9e6f32dcfe3a2d0a\", element=\"60e5e83a-2e1e-4ef7-bfcd-fc6c532db3be\")>,\n",
       " <selenium.webdriver.remote.webelement.WebElement (session=\"9f8624d1a4d9e5af9e6f32dcfe3a2d0a\", element=\"4987cc6a-f567-4f91-9223-7fcfc2bf92ea\")>,\n",
       " <selenium.webdriver.remote.webelement.WebElement (session=\"9f8624d1a4d9e5af9e6f32dcfe3a2d0a\", element=\"9f2ef6fa-6f15-4723-84c9-bcdbff243a6c\")>,\n",
       " <selenium.webdriver.remote.webelement.WebElement (session=\"9f8624d1a4d9e5af9e6f32dcfe3a2d0a\", element=\"bd26ad68-bf37-42bf-bee2-acfed2905fdf\")>,\n",
       " <selenium.webdriver.remote.webelement.WebElement (session=\"9f8624d1a4d9e5af9e6f32dcfe3a2d0a\", element=\"4ebd4ab5-5923-4a0f-8c90-844b1d16093c\")>,\n",
       " <selenium.webdriver.remote.webelement.WebElement (session=\"9f8624d1a4d9e5af9e6f32dcfe3a2d0a\", element=\"9e27b47b-b595-4f0d-915e-6dc71b96ca30\")>,\n",
       " <selenium.webdriver.remote.webelement.WebElement (session=\"9f8624d1a4d9e5af9e6f32dcfe3a2d0a\", element=\"84f1edc2-28aa-4b80-a215-34b2ce2b22b7\")>,\n",
       " <selenium.webdriver.remote.webelement.WebElement (session=\"9f8624d1a4d9e5af9e6f32dcfe3a2d0a\", element=\"9adb7ca6-5ea2-41ad-83fa-6e7ead46c2d5\")>,\n",
       " <selenium.webdriver.remote.webelement.WebElement (session=\"9f8624d1a4d9e5af9e6f32dcfe3a2d0a\", element=\"9b04d8eb-aaf8-4cd2-bed2-7754b1c1bb6c\")>,\n",
       " <selenium.webdriver.remote.webelement.WebElement (session=\"9f8624d1a4d9e5af9e6f32dcfe3a2d0a\", element=\"65e36a79-1916-4ca5-a4b7-0734bb16b840\")>,\n",
       " <selenium.webdriver.remote.webelement.WebElement (session=\"9f8624d1a4d9e5af9e6f32dcfe3a2d0a\", element=\"1405eb36-98e6-413e-97e1-53b2fa48ec30\")>,\n",
       " <selenium.webdriver.remote.webelement.WebElement (session=\"9f8624d1a4d9e5af9e6f32dcfe3a2d0a\", element=\"8f9b65d0-2967-4471-bfa2-d77f5ce34b45\")>,\n",
       " <selenium.webdriver.remote.webelement.WebElement (session=\"9f8624d1a4d9e5af9e6f32dcfe3a2d0a\", element=\"510c2c5d-fd62-4a66-abc4-813fc352a901\")>,\n",
       " <selenium.webdriver.remote.webelement.WebElement (session=\"9f8624d1a4d9e5af9e6f32dcfe3a2d0a\", element=\"ddc0e4c1-6f6c-4e31-a91a-c4c7c8540959\")>,\n",
       " <selenium.webdriver.remote.webelement.WebElement (session=\"9f8624d1a4d9e5af9e6f32dcfe3a2d0a\", element=\"3190a49b-3814-45a0-b7db-f99aa8eba489\")>,\n",
       " <selenium.webdriver.remote.webelement.WebElement (session=\"9f8624d1a4d9e5af9e6f32dcfe3a2d0a\", element=\"16c9c40d-8ec9-4de7-9ff9-f56c05ae7d56\")>,\n",
       " <selenium.webdriver.remote.webelement.WebElement (session=\"9f8624d1a4d9e5af9e6f32dcfe3a2d0a\", element=\"a477d986-5b50-480a-b915-ac8d219e3682\")>,\n",
       " <selenium.webdriver.remote.webelement.WebElement (session=\"9f8624d1a4d9e5af9e6f32dcfe3a2d0a\", element=\"476af336-afb9-49e9-9ef8-0b35957f27af\")>,\n",
       " <selenium.webdriver.remote.webelement.WebElement (session=\"9f8624d1a4d9e5af9e6f32dcfe3a2d0a\", element=\"04700111-c921-43bb-a7ab-d77a55adea98\")>,\n",
       " <selenium.webdriver.remote.webelement.WebElement (session=\"9f8624d1a4d9e5af9e6f32dcfe3a2d0a\", element=\"9e47eac1-5ef8-4096-accc-bdc0c66b1958\")>,\n",
       " <selenium.webdriver.remote.webelement.WebElement (session=\"9f8624d1a4d9e5af9e6f32dcfe3a2d0a\", element=\"41ac99c9-1e07-4daa-a8fc-82834a432200\")>,\n",
       " <selenium.webdriver.remote.webelement.WebElement (session=\"9f8624d1a4d9e5af9e6f32dcfe3a2d0a\", element=\"334cc577-bcf4-4f64-9420-12c2be0ac98f\")>,\n",
       " <selenium.webdriver.remote.webelement.WebElement (session=\"9f8624d1a4d9e5af9e6f32dcfe3a2d0a\", element=\"c2f3081e-fc96-4844-8b6c-f5176b321ed6\")>,\n",
       " <selenium.webdriver.remote.webelement.WebElement (session=\"9f8624d1a4d9e5af9e6f32dcfe3a2d0a\", element=\"069f52f8-8217-499e-97a4-0ea28403ca23\")>,\n",
       " <selenium.webdriver.remote.webelement.WebElement (session=\"9f8624d1a4d9e5af9e6f32dcfe3a2d0a\", element=\"ec90e97f-c353-4a9b-988b-63ae4f05287a\")>,\n",
       " <selenium.webdriver.remote.webelement.WebElement (session=\"9f8624d1a4d9e5af9e6f32dcfe3a2d0a\", element=\"707136b1-99e1-403c-bff3-7c517b05b165\")>,\n",
       " <selenium.webdriver.remote.webelement.WebElement (session=\"9f8624d1a4d9e5af9e6f32dcfe3a2d0a\", element=\"a9f9f13a-5b69-478c-b282-bf87e80097f6\")>,\n",
       " <selenium.webdriver.remote.webelement.WebElement (session=\"9f8624d1a4d9e5af9e6f32dcfe3a2d0a\", element=\"55a1cb7f-0b2b-4fc7-9597-09a26979f84f\")>]"
      ]
     },
     "execution_count": 148,
     "metadata": {},
     "output_type": "execute_result"
    }
   ],
   "source": [
    "Exp_tags=driver.find_elements_by_xpath(\"//span[@class='ellipsis fleft fs12 lh16']\")\n",
    "Exp_tags"
   ]
  },
  {
   "cell_type": "code",
   "execution_count": 149,
   "metadata": {},
   "outputs": [
    {
     "data": {
      "text/plain": [
       "['0-3 Yrs',\n",
       " '0-5 Yrs',\n",
       " '0-5 Yrs',\n",
       " '3-7 Yrs',\n",
       " '3-5 Yrs',\n",
       " '4-7 Yrs',\n",
       " '2-5 Yrs',\n",
       " '3-8 Yrs',\n",
       " '2-7 Yrs',\n",
       " '2-5 Yrs']"
      ]
     },
     "execution_count": 149,
     "metadata": {},
     "output_type": "execute_result"
    }
   ],
   "source": [
    "experience=[]\n",
    "for exp in Exp_tags:\n",
    "    experience.append(exp.text)\n",
    "experience=experience[0::3]\n",
    "experience=experience[:10]\n",
    "experience"
   ]
  },
  {
   "cell_type": "code",
   "execution_count": 150,
   "metadata": {},
   "outputs": [
    {
     "data": {
      "text/html": [
       "<div>\n",
       "<style scoped>\n",
       "    .dataframe tbody tr th:only-of-type {\n",
       "        vertical-align: middle;\n",
       "    }\n",
       "\n",
       "    .dataframe tbody tr th {\n",
       "        vertical-align: top;\n",
       "    }\n",
       "\n",
       "    .dataframe thead th {\n",
       "        text-align: right;\n",
       "    }\n",
       "</style>\n",
       "<table border=\"1\" class=\"dataframe\">\n",
       "  <thead>\n",
       "    <tr style=\"text-align: right;\">\n",
       "      <th></th>\n",
       "      <th>Job_titles</th>\n",
       "      <th>Job_location</th>\n",
       "      <th>Company_name</th>\n",
       "      <th>Experience_Required</th>\n",
       "    </tr>\n",
       "  </thead>\n",
       "  <tbody>\n",
       "    <tr>\n",
       "      <th>0</th>\n",
       "      <td>Data Scientist / Data Analyst -Business Analyst</td>\n",
       "      <td>Mumbai, Hyderabad/Secunderabad, Pune, Gurgaon/...</td>\n",
       "      <td>Data Scientist / Data Analyst -Business Analyst</td>\n",
       "      <td>0-3 Yrs</td>\n",
       "    </tr>\n",
       "    <tr>\n",
       "      <th>1</th>\n",
       "      <td>Data analytics / Data scientist intern (work f...</td>\n",
       "      <td>Kolkata, Bangalore/Bengaluru, Delhi / NCR</td>\n",
       "      <td>Data analytics / Data scientist intern (work f...</td>\n",
       "      <td>0-5 Yrs</td>\n",
       "    </tr>\n",
       "    <tr>\n",
       "      <th>2</th>\n",
       "      <td>Chaayos is Looking For Data Scientist</td>\n",
       "      <td>New Delhi</td>\n",
       "      <td>Chaayos is Looking For Data Scientist</td>\n",
       "      <td>0-5 Yrs</td>\n",
       "    </tr>\n",
       "    <tr>\n",
       "      <th>3</th>\n",
       "      <td>Data Scientist</td>\n",
       "      <td>Mumbai, Gurgaon/Gurugram, Bangalore/Bengaluru</td>\n",
       "      <td>Data Scientist</td>\n",
       "      <td>3-7 Yrs</td>\n",
       "    </tr>\n",
       "    <tr>\n",
       "      <th>4</th>\n",
       "      <td>Junior Data Scientist</td>\n",
       "      <td>Noida(Sector-59 Noida)</td>\n",
       "      <td>Junior Data Scientist</td>\n",
       "      <td>3-5 Yrs</td>\n",
       "    </tr>\n",
       "    <tr>\n",
       "      <th>5</th>\n",
       "      <td>We are hiring- Data Scientist +Python- Noida</td>\n",
       "      <td>Noida, Gurgaon/Gurugram, Delhi / NCR</td>\n",
       "      <td>We are hiring- Data Scientist +Python- Noida</td>\n",
       "      <td>4-7 Yrs</td>\n",
       "    </tr>\n",
       "    <tr>\n",
       "      <th>6</th>\n",
       "      <td>Data Scientist</td>\n",
       "      <td>Gurgaon/Gurugram, Delhi / NCR</td>\n",
       "      <td>Data Scientist</td>\n",
       "      <td>2-5 Yrs</td>\n",
       "    </tr>\n",
       "    <tr>\n",
       "      <th>7</th>\n",
       "      <td>Data Scientist</td>\n",
       "      <td>Noida</td>\n",
       "      <td>Data Scientist</td>\n",
       "      <td>3-8 Yrs</td>\n",
       "    </tr>\n",
       "    <tr>\n",
       "      <th>8</th>\n",
       "      <td>Data Analyst/Scientist Big Data, Statistical T...</td>\n",
       "      <td>Gurgaon/Gurugram</td>\n",
       "      <td>Data Analyst/Scientist Big Data, Statistical T...</td>\n",
       "      <td>2-7 Yrs</td>\n",
       "    </tr>\n",
       "    <tr>\n",
       "      <th>9</th>\n",
       "      <td>Business Analyst- Data Scientist</td>\n",
       "      <td>Noida, Gurgaon/Gurugram</td>\n",
       "      <td>Business Analyst- Data Scientist</td>\n",
       "      <td>2-5 Yrs</td>\n",
       "    </tr>\n",
       "  </tbody>\n",
       "</table>\n",
       "</div>"
      ],
      "text/plain": [
       "                                          Job_titles  \\\n",
       "0    Data Scientist / Data Analyst -Business Analyst   \n",
       "1  Data analytics / Data scientist intern (work f...   \n",
       "2              Chaayos is Looking For Data Scientist   \n",
       "3                                     Data Scientist   \n",
       "4                              Junior Data Scientist   \n",
       "5       We are hiring- Data Scientist +Python- Noida   \n",
       "6                                     Data Scientist   \n",
       "7                                     Data Scientist   \n",
       "8  Data Analyst/Scientist Big Data, Statistical T...   \n",
       "9                   Business Analyst- Data Scientist   \n",
       "\n",
       "                                        Job_location  \\\n",
       "0  Mumbai, Hyderabad/Secunderabad, Pune, Gurgaon/...   \n",
       "1          Kolkata, Bangalore/Bengaluru, Delhi / NCR   \n",
       "2                                          New Delhi   \n",
       "3      Mumbai, Gurgaon/Gurugram, Bangalore/Bengaluru   \n",
       "4                             Noida(Sector-59 Noida)   \n",
       "5               Noida, Gurgaon/Gurugram, Delhi / NCR   \n",
       "6                      Gurgaon/Gurugram, Delhi / NCR   \n",
       "7                                              Noida   \n",
       "8                                   Gurgaon/Gurugram   \n",
       "9                            Noida, Gurgaon/Gurugram   \n",
       "\n",
       "                                        Company_name Experience_Required  \n",
       "0    Data Scientist / Data Analyst -Business Analyst             0-3 Yrs  \n",
       "1  Data analytics / Data scientist intern (work f...             0-5 Yrs  \n",
       "2              Chaayos is Looking For Data Scientist             0-5 Yrs  \n",
       "3                                     Data Scientist             3-7 Yrs  \n",
       "4                              Junior Data Scientist             3-5 Yrs  \n",
       "5       We are hiring- Data Scientist +Python- Noida             4-7 Yrs  \n",
       "6                                     Data Scientist             2-5 Yrs  \n",
       "7                                     Data Scientist             3-8 Yrs  \n",
       "8  Data Analyst/Scientist Big Data, Statistical T...             2-7 Yrs  \n",
       "9                   Business Analyst- Data Scientist             2-5 Yrs  "
      ]
     },
     "execution_count": 150,
     "metadata": {},
     "output_type": "execute_result"
    }
   ],
   "source": [
    "Jobs=pd.DataFrame({})\n",
    "Jobs['Job_titles']=job_titles\n",
    "Jobs['Job_location']=Job_location\n",
    "Jobs['Company_name']=Company_name\n",
    "Jobs['Experience_Required']=experience\n",
    "Jobs"
   ]
  },
  {
   "cell_type": "markdown",
   "metadata": {},
   "source": [
    "### Q4: Write a python program to scrape data for first 10 job results for Data scientist\n",
    "Designation in Noida location. You have to scrape company_name, No. of days\n",
    "ago when job was posted, Rating of the company."
   ]
  },
  {
   "cell_type": "code",
   "execution_count": 151,
   "metadata": {},
   "outputs": [],
   "source": [
    "url='https://www.glassdoor.co.in/index.htm'\n",
    "driver.get(url)"
   ]
  },
  {
   "cell_type": "code",
   "execution_count": 152,
   "metadata": {},
   "outputs": [
    {
     "data": {
      "text/plain": [
       "<selenium.webdriver.remote.webelement.WebElement (session=\"9f8624d1a4d9e5af9e6f32dcfe3a2d0a\", element=\"b26746e4-136d-42f0-ac61-a94be94716c7\")>"
      ]
     },
     "execution_count": 152,
     "metadata": {},
     "output_type": "execute_result"
    }
   ],
   "source": [
    "search_bar=driver.find_element_by_id('scKeyword')\n",
    "search_bar"
   ]
  },
  {
   "cell_type": "code",
   "execution_count": 153,
   "metadata": {},
   "outputs": [],
   "source": [
    "search_bar.send_keys('Data scientist')\n"
   ]
  },
  {
   "cell_type": "code",
   "execution_count": 154,
   "metadata": {},
   "outputs": [
    {
     "data": {
      "text/plain": [
       "<selenium.webdriver.remote.webelement.WebElement (session=\"9f8624d1a4d9e5af9e6f32dcfe3a2d0a\", element=\"1fa5c902-63db-4855-8033-8c1f15468150\")>"
      ]
     },
     "execution_count": 154,
     "metadata": {},
     "output_type": "execute_result"
    }
   ],
   "source": [
    "#location\n",
    "loc_bar=driver.find_element_by_id('scLocation')\n",
    "loc_bar"
   ]
  },
  {
   "cell_type": "code",
   "execution_count": 155,
   "metadata": {},
   "outputs": [],
   "source": [
    "loc_bar.send_keys('Noida')"
   ]
  },
  {
   "cell_type": "code",
   "execution_count": 156,
   "metadata": {},
   "outputs": [],
   "source": [
    "#search button\n",
    "search_button=driver.find_element_by_id('prefix__icon-arrow-1')\n",
    "search_button.click()"
   ]
  },
  {
   "cell_type": "code",
   "execution_count": 162,
   "metadata": {},
   "outputs": [
    {
     "data": {
      "text/plain": [
       "[<selenium.webdriver.remote.webelement.WebElement (session=\"9f8624d1a4d9e5af9e6f32dcfe3a2d0a\", element=\"ca547cff-523a-4edd-9c7b-4104e91777a1\")>,\n",
       " <selenium.webdriver.remote.webelement.WebElement (session=\"9f8624d1a4d9e5af9e6f32dcfe3a2d0a\", element=\"489f9676-e974-47b1-9859-0c8161b19ab1\")>,\n",
       " <selenium.webdriver.remote.webelement.WebElement (session=\"9f8624d1a4d9e5af9e6f32dcfe3a2d0a\", element=\"76ef2ad2-0a82-4524-a768-f538c4109880\")>,\n",
       " <selenium.webdriver.remote.webelement.WebElement (session=\"9f8624d1a4d9e5af9e6f32dcfe3a2d0a\", element=\"a24e405b-2337-404f-a0bf-e06a07a9cd5a\")>,\n",
       " <selenium.webdriver.remote.webelement.WebElement (session=\"9f8624d1a4d9e5af9e6f32dcfe3a2d0a\", element=\"89b1f215-2d84-4ebe-bb37-5451cc4ea559\")>,\n",
       " <selenium.webdriver.remote.webelement.WebElement (session=\"9f8624d1a4d9e5af9e6f32dcfe3a2d0a\", element=\"6acbd259-6dbf-4e80-8fe0-6e8c52695fda\")>,\n",
       " <selenium.webdriver.remote.webelement.WebElement (session=\"9f8624d1a4d9e5af9e6f32dcfe3a2d0a\", element=\"9861ddeb-98e2-4fb6-b579-87bcaf5f745a\")>,\n",
       " <selenium.webdriver.remote.webelement.WebElement (session=\"9f8624d1a4d9e5af9e6f32dcfe3a2d0a\", element=\"487764ea-b858-4f6e-a458-41a09efe6faf\")>,\n",
       " <selenium.webdriver.remote.webelement.WebElement (session=\"9f8624d1a4d9e5af9e6f32dcfe3a2d0a\", element=\"89dcfb92-562f-4cc2-9483-fdbd6d708782\")>,\n",
       " <selenium.webdriver.remote.webelement.WebElement (session=\"9f8624d1a4d9e5af9e6f32dcfe3a2d0a\", element=\"f81711b8-6d49-4e56-b7be-468e6b9bda43\")>]"
      ]
     },
     "execution_count": 162,
     "metadata": {},
     "output_type": "execute_result"
    }
   ],
   "source": [
    "#company_name\n",
    "company_tags=driver.find_elements_by_xpath(\"//a[@class=' css-l2wjgv e1n63ojh0 jobLink']//span\")\n",
    "company_tags=company_tags[:10]\n",
    "company_tags"
   ]
  },
  {
   "cell_type": "code",
   "execution_count": 163,
   "metadata": {},
   "outputs": [
    {
     "data": {
      "text/plain": [
       "['Data Patterns',\n",
       " 'Ginger Webs Pvt. Ltd.',\n",
       " 'UnitedHealth Group',\n",
       " 'Crowe',\n",
       " 'Jubna',\n",
       " 'Ericsson',\n",
       " 'NatWest Group',\n",
       " 'CRMNEXT',\n",
       " 'Adobe',\n",
       " 'MobiKwik']"
      ]
     },
     "execution_count": 163,
     "metadata": {},
     "output_type": "execute_result"
    }
   ],
   "source": [
    "#extracting text\n",
    "company=[]\n",
    "for comp in company_tags:\n",
    "    company.append(comp.text)\n",
    "company"
   ]
  },
  {
   "cell_type": "code",
   "execution_count": 166,
   "metadata": {},
   "outputs": [
    {
     "data": {
      "text/plain": [
       "[<selenium.webdriver.remote.webelement.WebElement (session=\"9f8624d1a4d9e5af9e6f32dcfe3a2d0a\", element=\"2ba6f810-9124-4f68-9d6d-bc3edf6a14c3\")>,\n",
       " <selenium.webdriver.remote.webelement.WebElement (session=\"9f8624d1a4d9e5af9e6f32dcfe3a2d0a\", element=\"00655bb5-69ec-4407-9737-4bc39c7a6c92\")>,\n",
       " <selenium.webdriver.remote.webelement.WebElement (session=\"9f8624d1a4d9e5af9e6f32dcfe3a2d0a\", element=\"7e7f5b04-0025-40b6-b21f-a6a0ffb95cfa\")>,\n",
       " <selenium.webdriver.remote.webelement.WebElement (session=\"9f8624d1a4d9e5af9e6f32dcfe3a2d0a\", element=\"05b0e399-580f-436f-bdaf-e0a20e21c81e\")>,\n",
       " <selenium.webdriver.remote.webelement.WebElement (session=\"9f8624d1a4d9e5af9e6f32dcfe3a2d0a\", element=\"101d9b11-9da5-406b-95a6-8e6573ceba77\")>,\n",
       " <selenium.webdriver.remote.webelement.WebElement (session=\"9f8624d1a4d9e5af9e6f32dcfe3a2d0a\", element=\"db4181ec-68bc-4f9f-8c6b-343e1a9c03e3\")>,\n",
       " <selenium.webdriver.remote.webelement.WebElement (session=\"9f8624d1a4d9e5af9e6f32dcfe3a2d0a\", element=\"532259ac-b22e-4e00-a638-cb2c993b6557\")>,\n",
       " <selenium.webdriver.remote.webelement.WebElement (session=\"9f8624d1a4d9e5af9e6f32dcfe3a2d0a\", element=\"069aaf7d-92d9-4567-b5b4-c4237d54bbba\")>,\n",
       " <selenium.webdriver.remote.webelement.WebElement (session=\"9f8624d1a4d9e5af9e6f32dcfe3a2d0a\", element=\"758a91ad-f8e0-4426-ac8b-664564daf7f7\")>,\n",
       " <selenium.webdriver.remote.webelement.WebElement (session=\"9f8624d1a4d9e5af9e6f32dcfe3a2d0a\", element=\"c56efe72-972b-4aeb-9f05-fe5be5af992e\")>]"
      ]
     },
     "execution_count": 166,
     "metadata": {},
     "output_type": "execute_result"
    }
   ],
   "source": [
    "#job_posted\n",
    "days_tags=driver.find_elements_by_xpath(\"//div[@class='d-flex align-items-end pl-std css-mi55ob']\")\n",
    "days_tags=days_tags[:10]\n",
    "days_tags"
   ]
  },
  {
   "cell_type": "code",
   "execution_count": 168,
   "metadata": {},
   "outputs": [
    {
     "data": {
      "text/plain": [
       "['2d', '6d', '24h', '14d', '14d', '12d', '24h', '30d+', '3d', '1d']"
      ]
     },
     "execution_count": 168,
     "metadata": {},
     "output_type": "execute_result"
    }
   ],
   "source": [
    "#extracting text\n",
    "Posted=[]\n",
    "for day in days_tags:\n",
    "    Posted.append(day.text)\n",
    "Posted"
   ]
  },
  {
   "cell_type": "code",
   "execution_count": 169,
   "metadata": {},
   "outputs": [
    {
     "data": {
      "text/plain": [
       "[<selenium.webdriver.remote.webelement.WebElement (session=\"9f8624d1a4d9e5af9e6f32dcfe3a2d0a\", element=\"6ee7c35b-5216-4ac3-9a5e-f6897ae83134\")>,\n",
       " <selenium.webdriver.remote.webelement.WebElement (session=\"9f8624d1a4d9e5af9e6f32dcfe3a2d0a\", element=\"c7177083-59e5-43b1-bb2a-9128485cc761\")>,\n",
       " <selenium.webdriver.remote.webelement.WebElement (session=\"9f8624d1a4d9e5af9e6f32dcfe3a2d0a\", element=\"adf81274-9148-4b05-aa19-792878e98e6b\")>,\n",
       " <selenium.webdriver.remote.webelement.WebElement (session=\"9f8624d1a4d9e5af9e6f32dcfe3a2d0a\", element=\"5beaf57f-ac7b-4890-b5b7-23f392886d9e\")>,\n",
       " <selenium.webdriver.remote.webelement.WebElement (session=\"9f8624d1a4d9e5af9e6f32dcfe3a2d0a\", element=\"556ebff8-ad58-49c3-8fec-4411a699170d\")>,\n",
       " <selenium.webdriver.remote.webelement.WebElement (session=\"9f8624d1a4d9e5af9e6f32dcfe3a2d0a\", element=\"a9f079d9-c43d-41ad-96bf-c3fb63f3d35a\")>,\n",
       " <selenium.webdriver.remote.webelement.WebElement (session=\"9f8624d1a4d9e5af9e6f32dcfe3a2d0a\", element=\"0ade9712-9806-4d0c-89d2-31bc063e09c7\")>,\n",
       " <selenium.webdriver.remote.webelement.WebElement (session=\"9f8624d1a4d9e5af9e6f32dcfe3a2d0a\", element=\"b8190ae6-dfbd-435c-906a-6582f975ed67\")>,\n",
       " <selenium.webdriver.remote.webelement.WebElement (session=\"9f8624d1a4d9e5af9e6f32dcfe3a2d0a\", element=\"f62f1c84-2a4d-4051-9336-0de67b9f0445\")>,\n",
       " <selenium.webdriver.remote.webelement.WebElement (session=\"9f8624d1a4d9e5af9e6f32dcfe3a2d0a\", element=\"5ed6afcc-3b7e-475b-9edf-b6071803cb9f\")>]"
      ]
     },
     "execution_count": 169,
     "metadata": {},
     "output_type": "execute_result"
    }
   ],
   "source": [
    "rating_tags=driver.find_elements_by_xpath(\"//span[@class='css-19pjha7 e1cjmv6j1']\")\n",
    "rating_tags=rating_tags[:10]\n",
    "rating_tags"
   ]
  },
  {
   "cell_type": "code",
   "execution_count": 171,
   "metadata": {},
   "outputs": [
    {
     "data": {
      "text/plain": [
       "['3.0', '3.7', '3.8', '4.1', '3.9', '3.7', '4.4', '3.9', '3.1', '5.0']"
      ]
     },
     "execution_count": 171,
     "metadata": {},
     "output_type": "execute_result"
    }
   ],
   "source": [
    "#extracting text\n",
    "Rating=[]\n",
    "for stars in rating_tags:\n",
    "    Rating.append(stars.text)\n",
    "Rating"
   ]
  },
  {
   "cell_type": "code",
   "execution_count": 172,
   "metadata": {},
   "outputs": [
    {
     "data": {
      "text/html": [
       "<div>\n",
       "<style scoped>\n",
       "    .dataframe tbody tr th:only-of-type {\n",
       "        vertical-align: middle;\n",
       "    }\n",
       "\n",
       "    .dataframe tbody tr th {\n",
       "        vertical-align: top;\n",
       "    }\n",
       "\n",
       "    .dataframe thead th {\n",
       "        text-align: right;\n",
       "    }\n",
       "</style>\n",
       "<table border=\"1\" class=\"dataframe\">\n",
       "  <thead>\n",
       "    <tr style=\"text-align: right;\">\n",
       "      <th></th>\n",
       "      <th>company_name</th>\n",
       "      <th>Job_posted</th>\n",
       "      <th>Rating</th>\n",
       "    </tr>\n",
       "  </thead>\n",
       "  <tbody>\n",
       "    <tr>\n",
       "      <th>0</th>\n",
       "      <td>Data Patterns</td>\n",
       "      <td>2d</td>\n",
       "      <td>3.0</td>\n",
       "    </tr>\n",
       "    <tr>\n",
       "      <th>1</th>\n",
       "      <td>Ginger Webs Pvt. Ltd.</td>\n",
       "      <td>6d</td>\n",
       "      <td>3.7</td>\n",
       "    </tr>\n",
       "    <tr>\n",
       "      <th>2</th>\n",
       "      <td>UnitedHealth Group</td>\n",
       "      <td>24h</td>\n",
       "      <td>3.8</td>\n",
       "    </tr>\n",
       "    <tr>\n",
       "      <th>3</th>\n",
       "      <td>Crowe</td>\n",
       "      <td>14d</td>\n",
       "      <td>4.1</td>\n",
       "    </tr>\n",
       "    <tr>\n",
       "      <th>4</th>\n",
       "      <td>Jubna</td>\n",
       "      <td>14d</td>\n",
       "      <td>3.9</td>\n",
       "    </tr>\n",
       "    <tr>\n",
       "      <th>5</th>\n",
       "      <td>Ericsson</td>\n",
       "      <td>12d</td>\n",
       "      <td>3.7</td>\n",
       "    </tr>\n",
       "    <tr>\n",
       "      <th>6</th>\n",
       "      <td>NatWest Group</td>\n",
       "      <td>24h</td>\n",
       "      <td>4.4</td>\n",
       "    </tr>\n",
       "    <tr>\n",
       "      <th>7</th>\n",
       "      <td>CRMNEXT</td>\n",
       "      <td>30d+</td>\n",
       "      <td>3.9</td>\n",
       "    </tr>\n",
       "    <tr>\n",
       "      <th>8</th>\n",
       "      <td>Adobe</td>\n",
       "      <td>3d</td>\n",
       "      <td>3.1</td>\n",
       "    </tr>\n",
       "    <tr>\n",
       "      <th>9</th>\n",
       "      <td>MobiKwik</td>\n",
       "      <td>1d</td>\n",
       "      <td>5.0</td>\n",
       "    </tr>\n",
       "  </tbody>\n",
       "</table>\n",
       "</div>"
      ],
      "text/plain": [
       "            company_name Job_posted Rating\n",
       "0          Data Patterns         2d    3.0\n",
       "1  Ginger Webs Pvt. Ltd.         6d    3.7\n",
       "2     UnitedHealth Group        24h    3.8\n",
       "3                  Crowe        14d    4.1\n",
       "4                  Jubna        14d    3.9\n",
       "5               Ericsson        12d    3.7\n",
       "6          NatWest Group        24h    4.4\n",
       "7                CRMNEXT       30d+    3.9\n",
       "8                  Adobe         3d    3.1\n",
       "9               MobiKwik         1d    5.0"
      ]
     },
     "execution_count": 172,
     "metadata": {},
     "output_type": "execute_result"
    }
   ],
   "source": [
    "glass_door_datascientist=pd.DataFrame({})\n",
    "glass_door_datascientist[\"company_name\"]=company\n",
    "glass_door_datascientist['Job_posted']=Posted\n",
    "glass_door_datascientist[\"Rating\"]=Rating\n",
    "glass_door_datascientist\n",
    "\n"
   ]
  },
  {
   "cell_type": "markdown",
   "metadata": {},
   "source": [
    "### Q5: Write a python program to scrape the salary data for Data Scientist designation\n",
    "in Noida location.\n",
    "You have to scrape Company name, Number of salaries, Average salary, Min\n",
    "salary, Max Salary"
   ]
  },
  {
   "cell_type": "code",
   "execution_count": 222,
   "metadata": {},
   "outputs": [],
   "source": [
    "#url\n",
    "url = ('https://www.glassdoor.co.in/Salaries/index.htm')\n",
    "driver.get(url)"
   ]
  },
  {
   "cell_type": "code",
   "execution_count": 213,
   "metadata": {},
   "outputs": [
    {
     "data": {
      "text/plain": [
       "<selenium.webdriver.remote.webelement.WebElement (session=\"9f8624d1a4d9e5af9e6f32dcfe3a2d0a\", element=\"79b574cf-7a93-4175-a300-a9ebc9a919e0\")>"
      ]
     },
     "execution_count": 213,
     "metadata": {},
     "output_type": "execute_result"
    }
   ],
   "source": [
    "#search bar\n",
    "job_search = driver.find_element_by_id('KeywordSearch')\n",
    "job_search"
   ]
  },
  {
   "cell_type": "code",
   "execution_count": 214,
   "metadata": {},
   "outputs": [],
   "source": [
    "job_search.send_keys('Data Scientist')"
   ]
  },
  {
   "cell_type": "code",
   "execution_count": 224,
   "metadata": {},
   "outputs": [
    {
     "data": {
      "text/plain": [
       "<selenium.webdriver.remote.webelement.WebElement (session=\"9f8624d1a4d9e5af9e6f32dcfe3a2d0a\", element=\"59b0f883-5222-4a45-89e3-dae32d2bba5c\")>"
      ]
     },
     "execution_count": 224,
     "metadata": {},
     "output_type": "execute_result"
    }
   ],
   "source": [
    "location bar\n",
    "location_search = driver.find_element_by_id('LocationSearch')\n",
    "location_search"
   ]
  },
  {
   "cell_type": "code",
   "execution_count": 225,
   "metadata": {},
   "outputs": [],
   "source": [
    "location_search.send_keys('Noida')"
   ]
  },
  {
   "cell_type": "code",
   "execution_count": 219,
   "metadata": {},
   "outputs": [],
   "source": [
    "search_button = driver.find_element_by_id('HeroSearchButton')\n",
    "search_button.click()"
   ]
  },
  {
   "cell_type": "code",
   "execution_count": 226,
   "metadata": {},
   "outputs": [],
   "source": [
    "#search button\n",
    "search_button = driver.find_element_by_id('HeroSearchButton')\n",
    "search_button.click()"
   ]
  },
  {
   "cell_type": "code",
   "execution_count": 228,
   "metadata": {},
   "outputs": [
    {
     "data": {
      "text/plain": [
       "[<selenium.webdriver.remote.webelement.WebElement (session=\"9f8624d1a4d9e5af9e6f32dcfe3a2d0a\", element=\"7ef99cd6-4345-47c0-a701-756d9b5042f8\")>,\n",
       " <selenium.webdriver.remote.webelement.WebElement (session=\"9f8624d1a4d9e5af9e6f32dcfe3a2d0a\", element=\"3c8ebb8b-0a7c-42f5-bb5e-42d3848bb2d8\")>,\n",
       " <selenium.webdriver.remote.webelement.WebElement (session=\"9f8624d1a4d9e5af9e6f32dcfe3a2d0a\", element=\"22a8282c-c971-42e4-80de-38697ceb085f\")>,\n",
       " <selenium.webdriver.remote.webelement.WebElement (session=\"9f8624d1a4d9e5af9e6f32dcfe3a2d0a\", element=\"a4b5e0e3-ac53-4ba9-b72d-470b28a70beb\")>,\n",
       " <selenium.webdriver.remote.webelement.WebElement (session=\"9f8624d1a4d9e5af9e6f32dcfe3a2d0a\", element=\"fa403c2d-dc8a-4b5f-8e52-fffa268d4b1f\")>,\n",
       " <selenium.webdriver.remote.webelement.WebElement (session=\"9f8624d1a4d9e5af9e6f32dcfe3a2d0a\", element=\"3691ad7d-3bd9-4db9-8fa8-16afec11536e\")>,\n",
       " <selenium.webdriver.remote.webelement.WebElement (session=\"9f8624d1a4d9e5af9e6f32dcfe3a2d0a\", element=\"a2591548-793d-4954-983f-d652294c240d\")>,\n",
       " <selenium.webdriver.remote.webelement.WebElement (session=\"9f8624d1a4d9e5af9e6f32dcfe3a2d0a\", element=\"8ac13fdb-ff28-4258-adc4-f2f9e8051a94\")>,\n",
       " <selenium.webdriver.remote.webelement.WebElement (session=\"9f8624d1a4d9e5af9e6f32dcfe3a2d0a\", element=\"5d8b0131-5957-4c62-955c-38f35fdb3762\")>,\n",
       " <selenium.webdriver.remote.webelement.WebElement (session=\"9f8624d1a4d9e5af9e6f32dcfe3a2d0a\", element=\"42116501-de0b-425b-8618-53cbb39efeaa\")>,\n",
       " <selenium.webdriver.remote.webelement.WebElement (session=\"9f8624d1a4d9e5af9e6f32dcfe3a2d0a\", element=\"0c7fa810-bc47-40ca-a03c-2b2f4af249c8\")>,\n",
       " <selenium.webdriver.remote.webelement.WebElement (session=\"9f8624d1a4d9e5af9e6f32dcfe3a2d0a\", element=\"e2e706f4-f5c9-4b06-a479-ed6dde2f343d\")>,\n",
       " <selenium.webdriver.remote.webelement.WebElement (session=\"9f8624d1a4d9e5af9e6f32dcfe3a2d0a\", element=\"47085173-6947-45bd-b12e-057596529fd4\")>,\n",
       " <selenium.webdriver.remote.webelement.WebElement (session=\"9f8624d1a4d9e5af9e6f32dcfe3a2d0a\", element=\"6e78d7d6-d4a2-4bb0-82a3-c3d22e06af5b\")>,\n",
       " <selenium.webdriver.remote.webelement.WebElement (session=\"9f8624d1a4d9e5af9e6f32dcfe3a2d0a\", element=\"43b7f49c-032a-4d44-9bef-409264664f18\")>,\n",
       " <selenium.webdriver.remote.webelement.WebElement (session=\"9f8624d1a4d9e5af9e6f32dcfe3a2d0a\", element=\"e0ca1c89-c670-4350-9e97-9c3ebdb068ce\")>,\n",
       " <selenium.webdriver.remote.webelement.WebElement (session=\"9f8624d1a4d9e5af9e6f32dcfe3a2d0a\", element=\"b0e47c64-1cce-4128-bf08-2add16ed481c\")>,\n",
       " <selenium.webdriver.remote.webelement.WebElement (session=\"9f8624d1a4d9e5af9e6f32dcfe3a2d0a\", element=\"2d36f194-b509-402e-959a-a97537aa31fe\")>,\n",
       " <selenium.webdriver.remote.webelement.WebElement (session=\"9f8624d1a4d9e5af9e6f32dcfe3a2d0a\", element=\"3714fe73-4b2a-4e73-965d-9d4a5a0d086b\")>,\n",
       " <selenium.webdriver.remote.webelement.WebElement (session=\"9f8624d1a4d9e5af9e6f32dcfe3a2d0a\", element=\"b54e51e2-c447-44fa-90bf-7f0547e8447b\")>]"
      ]
     },
     "execution_count": 228,
     "metadata": {},
     "output_type": "execute_result"
    }
   ],
   "source": [
    "#cmpany names\n",
    "comp_name = driver.find_elements_by_xpath(\"//a[@class = 'css-f3vw95 e1aj7ssy3']\")\n",
    "comp_name"
   ]
  },
  {
   "cell_type": "code",
   "execution_count": 229,
   "metadata": {},
   "outputs": [
    {
     "data": {
      "text/plain": [
       "['Tata Consultancy Services',\n",
       " 'HCL Technologies',\n",
       " 'Tata Consultancy Services',\n",
       " 'Capgemini Engineering',\n",
       " 'HCL Technologies',\n",
       " 'Tata Consultancy Services',\n",
       " 'Deloitte',\n",
       " 'Capgemini Engineering',\n",
       " 'Evalueserve',\n",
       " 'Genpact']"
      ]
     },
     "execution_count": 229,
     "metadata": {},
     "output_type": "execute_result"
    }
   ],
   "source": [
    "#extracting text\n",
    "Comp_name = []\n",
    "for i in comp_name:\n",
    "    Comp_name.append(i.text)\n",
    "Company_name = Comp_name[:10]\n",
    "Company_name"
   ]
  },
  {
   "cell_type": "code",
   "execution_count": 259,
   "metadata": {},
   "outputs": [
    {
     "data": {
      "text/plain": [
       "[<selenium.webdriver.remote.webelement.WebElement (session=\"9f8624d1a4d9e5af9e6f32dcfe3a2d0a\", element=\"ca3db47c-fc6d-4258-b196-090884a36ec0\")>,\n",
       " <selenium.webdriver.remote.webelement.WebElement (session=\"9f8624d1a4d9e5af9e6f32dcfe3a2d0a\", element=\"f9b82272-b446-4706-8ca4-21b8dcd2bf00\")>,\n",
       " <selenium.webdriver.remote.webelement.WebElement (session=\"9f8624d1a4d9e5af9e6f32dcfe3a2d0a\", element=\"bd780239-883c-434a-b3de-9070299489b8\")>,\n",
       " <selenium.webdriver.remote.webelement.WebElement (session=\"9f8624d1a4d9e5af9e6f32dcfe3a2d0a\", element=\"c7072cc5-ad42-4e37-bab8-f2e8392ce6f9\")>,\n",
       " <selenium.webdriver.remote.webelement.WebElement (session=\"9f8624d1a4d9e5af9e6f32dcfe3a2d0a\", element=\"72d8d0cf-5c14-427a-adfd-1e9345e0bf48\")>,\n",
       " <selenium.webdriver.remote.webelement.WebElement (session=\"9f8624d1a4d9e5af9e6f32dcfe3a2d0a\", element=\"903e0ea7-d667-4083-b8fb-dfc73cb13923\")>,\n",
       " <selenium.webdriver.remote.webelement.WebElement (session=\"9f8624d1a4d9e5af9e6f32dcfe3a2d0a\", element=\"73a7917c-5488-4635-aae2-66d67d6e3913\")>,\n",
       " <selenium.webdriver.remote.webelement.WebElement (session=\"9f8624d1a4d9e5af9e6f32dcfe3a2d0a\", element=\"986ee791-8c66-48a7-9d8c-1095fbc8fdbb\")>,\n",
       " <selenium.webdriver.remote.webelement.WebElement (session=\"9f8624d1a4d9e5af9e6f32dcfe3a2d0a\", element=\"e8ec58c1-6143-4245-9fcb-ce3041a9f26a\")>,\n",
       " <selenium.webdriver.remote.webelement.WebElement (session=\"9f8624d1a4d9e5af9e6f32dcfe3a2d0a\", element=\"b0fdd1df-1385-47c9-b974-b527e0e46a12\")>,\n",
       " <selenium.webdriver.remote.webelement.WebElement (session=\"9f8624d1a4d9e5af9e6f32dcfe3a2d0a\", element=\"cb1d2ecb-b24b-4fe2-ade3-8c650b36b74c\")>,\n",
       " <selenium.webdriver.remote.webelement.WebElement (session=\"9f8624d1a4d9e5af9e6f32dcfe3a2d0a\", element=\"fe4c2213-9e55-46c3-a44f-06c50e5c12e0\")>,\n",
       " <selenium.webdriver.remote.webelement.WebElement (session=\"9f8624d1a4d9e5af9e6f32dcfe3a2d0a\", element=\"66c98811-3f0d-4d8b-80c0-ca0421c53385\")>,\n",
       " <selenium.webdriver.remote.webelement.WebElement (session=\"9f8624d1a4d9e5af9e6f32dcfe3a2d0a\", element=\"9f03b44e-cbf3-4ee5-9f04-ec7317a2fee9\")>,\n",
       " <selenium.webdriver.remote.webelement.WebElement (session=\"9f8624d1a4d9e5af9e6f32dcfe3a2d0a\", element=\"e3d55c62-3105-4500-ac8d-b77c83c252bb\")>,\n",
       " <selenium.webdriver.remote.webelement.WebElement (session=\"9f8624d1a4d9e5af9e6f32dcfe3a2d0a\", element=\"8eb68a78-367c-427b-b9d9-6df9a5b43a3e\")>,\n",
       " <selenium.webdriver.remote.webelement.WebElement (session=\"9f8624d1a4d9e5af9e6f32dcfe3a2d0a\", element=\"b6829a9d-c6fc-45c3-91d6-963803dc4894\")>,\n",
       " <selenium.webdriver.remote.webelement.WebElement (session=\"9f8624d1a4d9e5af9e6f32dcfe3a2d0a\", element=\"226f65ce-1bdc-4f6b-9daa-a415d5d89a1b\")>,\n",
       " <selenium.webdriver.remote.webelement.WebElement (session=\"9f8624d1a4d9e5af9e6f32dcfe3a2d0a\", element=\"fa12d551-dc55-4a55-a8fa-e019a19529d7\")>,\n",
       " <selenium.webdriver.remote.webelement.WebElement (session=\"9f8624d1a4d9e5af9e6f32dcfe3a2d0a\", element=\"9a2d20ce-41ed-40a9-bbcb-98d67c11b453\")>]"
      ]
     },
     "execution_count": 259,
     "metadata": {},
     "output_type": "execute_result"
    }
   ],
   "source": [
    "#salary\n",
    "sal = driver.find_elements_by_xpath(\"//span[@class = 'd-block d-lg-none m-0 css-1b6bxoo']\")\n",
    "sal\n"
   ]
  },
  {
   "cell_type": "code",
   "execution_count": 260,
   "metadata": {},
   "outputs": [
    {
     "data": {
      "text/plain": [
       "['₹1L - ₹13L',\n",
       " '₹1L - ₹37L',\n",
       " '₹55T - ₹86L',\n",
       " '₹47T - ₹52L',\n",
       " '₹1L - ₹71L',\n",
       " '₹1L - ₹41L',\n",
       " '₹1L - ₹65L',\n",
       " '₹76T - ₹20L',\n",
       " '₹2L - ₹50L',\n",
       " '₹1L - ₹19L']"
      ]
     },
     "execution_count": 260,
     "metadata": {},
     "output_type": "execute_result"
    }
   ],
   "source": [
    "all_salary = []\n",
    "for i in sal:\n",
    "    all_salary.append(i.text.replace('Range:','').strip())\n",
    "all_salary=all_salary[:10]\n",
    "all_salary\n",
    "    "
   ]
  },
  {
   "cell_type": "code",
   "execution_count": 261,
   "metadata": {},
   "outputs": [
    {
     "data": {
      "text/plain": [
       "['₹1L', '₹1L', '₹55T', '₹47T', '₹1L', '₹1L', '₹1L', '₹76T', '₹2L', '₹1L']"
      ]
     },
     "execution_count": 261,
     "metadata": {},
     "output_type": "execute_result"
    }
   ],
   "source": [
    "#extracting min salary\n",
    "minimum=[]\n",
    "for i in all_salary:\n",
    "    minimum.append(i[:4].strip())\n",
    "minimum"
   ]
  },
  {
   "cell_type": "code",
   "execution_count": 262,
   "metadata": {},
   "outputs": [
    {
     "data": {
      "text/plain": [
       "['₹13L',\n",
       " '₹37L',\n",
       " '₹86L',\n",
       " '₹52L',\n",
       " '₹71L',\n",
       " '₹41L',\n",
       " '₹65L',\n",
       " '₹20L',\n",
       " '₹50L',\n",
       " '₹19L']"
      ]
     },
     "execution_count": 262,
     "metadata": {},
     "output_type": "execute_result"
    }
   ],
   "source": [
    "#extracting max salary\n",
    "maximum=[]\n",
    "for i in all_salary:\n",
    "    maximum.append(i[6:].strip())\n",
    "maximum"
   ]
  },
  {
   "cell_type": "code",
   "execution_count": 265,
   "metadata": {},
   "outputs": [
    {
     "data": {
      "text/plain": [
       "[<selenium.webdriver.remote.webelement.WebElement (session=\"9f8624d1a4d9e5af9e6f32dcfe3a2d0a\", element=\"e1f6fed9-6894-4bb5-bf98-763615a71174\")>,\n",
       " <selenium.webdriver.remote.webelement.WebElement (session=\"9f8624d1a4d9e5af9e6f32dcfe3a2d0a\", element=\"95bce8f9-c723-4462-a82e-b2ebc9ca40d3\")>,\n",
       " <selenium.webdriver.remote.webelement.WebElement (session=\"9f8624d1a4d9e5af9e6f32dcfe3a2d0a\", element=\"eecf1437-cce3-42e9-9f43-82356038c53c\")>,\n",
       " <selenium.webdriver.remote.webelement.WebElement (session=\"9f8624d1a4d9e5af9e6f32dcfe3a2d0a\", element=\"d019e369-86c4-442a-b56a-2792beb7ce17\")>,\n",
       " <selenium.webdriver.remote.webelement.WebElement (session=\"9f8624d1a4d9e5af9e6f32dcfe3a2d0a\", element=\"19ab7390-744d-403d-943d-6319a83b5f23\")>,\n",
       " <selenium.webdriver.remote.webelement.WebElement (session=\"9f8624d1a4d9e5af9e6f32dcfe3a2d0a\", element=\"88da5963-4c53-4460-bce2-0e2a3e252c2f\")>,\n",
       " <selenium.webdriver.remote.webelement.WebElement (session=\"9f8624d1a4d9e5af9e6f32dcfe3a2d0a\", element=\"477cca83-9d2c-4c4a-b934-d456e61db337\")>,\n",
       " <selenium.webdriver.remote.webelement.WebElement (session=\"9f8624d1a4d9e5af9e6f32dcfe3a2d0a\", element=\"8760231b-6126-4705-83d4-bb75554962aa\")>,\n",
       " <selenium.webdriver.remote.webelement.WebElement (session=\"9f8624d1a4d9e5af9e6f32dcfe3a2d0a\", element=\"91e098ca-84c9-46f7-a3db-8d1129bf8db4\")>,\n",
       " <selenium.webdriver.remote.webelement.WebElement (session=\"9f8624d1a4d9e5af9e6f32dcfe3a2d0a\", element=\"11aa77dd-452a-44e8-8cf6-59d5bcb7e941\")>,\n",
       " <selenium.webdriver.remote.webelement.WebElement (session=\"9f8624d1a4d9e5af9e6f32dcfe3a2d0a\", element=\"8f52e3d2-4acd-40e2-b084-73d25eae50a2\")>,\n",
       " <selenium.webdriver.remote.webelement.WebElement (session=\"9f8624d1a4d9e5af9e6f32dcfe3a2d0a\", element=\"f19748b6-f96c-481b-a4fd-1e23c0757731\")>,\n",
       " <selenium.webdriver.remote.webelement.WebElement (session=\"9f8624d1a4d9e5af9e6f32dcfe3a2d0a\", element=\"014cea64-d472-4e55-b536-8c9abeac26c0\")>,\n",
       " <selenium.webdriver.remote.webelement.WebElement (session=\"9f8624d1a4d9e5af9e6f32dcfe3a2d0a\", element=\"0fc58975-67de-4216-9c0a-7be971ee97df\")>,\n",
       " <selenium.webdriver.remote.webelement.WebElement (session=\"9f8624d1a4d9e5af9e6f32dcfe3a2d0a\", element=\"c2601ed1-c7bf-412f-b6d4-9cb34225a19c\")>,\n",
       " <selenium.webdriver.remote.webelement.WebElement (session=\"9f8624d1a4d9e5af9e6f32dcfe3a2d0a\", element=\"b8c139dd-87ac-46bd-ab8b-0626ab2e237a\")>,\n",
       " <selenium.webdriver.remote.webelement.WebElement (session=\"9f8624d1a4d9e5af9e6f32dcfe3a2d0a\", element=\"4a032ad8-550b-46cd-9528-1260ade28c8d\")>,\n",
       " <selenium.webdriver.remote.webelement.WebElement (session=\"9f8624d1a4d9e5af9e6f32dcfe3a2d0a\", element=\"e1b0afe7-226b-4ed8-896b-297096b7fe72\")>,\n",
       " <selenium.webdriver.remote.webelement.WebElement (session=\"9f8624d1a4d9e5af9e6f32dcfe3a2d0a\", element=\"414e7c0d-96d6-4250-b9df-00e15350eacc\")>,\n",
       " <selenium.webdriver.remote.webelement.WebElement (session=\"9f8624d1a4d9e5af9e6f32dcfe3a2d0a\", element=\"bf5f11bc-c82f-421a-a51d-b96390d27707\")>,\n",
       " <selenium.webdriver.remote.webelement.WebElement (session=\"9f8624d1a4d9e5af9e6f32dcfe3a2d0a\", element=\"549dcc6d-7db7-4c89-a550-f08bd84995a8\")>,\n",
       " <selenium.webdriver.remote.webelement.WebElement (session=\"9f8624d1a4d9e5af9e6f32dcfe3a2d0a\", element=\"e79dfd2d-93de-4d61-904c-3b9819af8005\")>,\n",
       " <selenium.webdriver.remote.webelement.WebElement (session=\"9f8624d1a4d9e5af9e6f32dcfe3a2d0a\", element=\"9dea0922-d906-42da-ab77-d17cdbd64284\")>,\n",
       " <selenium.webdriver.remote.webelement.WebElement (session=\"9f8624d1a4d9e5af9e6f32dcfe3a2d0a\", element=\"458b75a7-eb18-4c79-8dfc-73b13c602b09\")>,\n",
       " <selenium.webdriver.remote.webelement.WebElement (session=\"9f8624d1a4d9e5af9e6f32dcfe3a2d0a\", element=\"b751e432-cb9c-46cc-b589-a1eaf8776fb4\")>,\n",
       " <selenium.webdriver.remote.webelement.WebElement (session=\"9f8624d1a4d9e5af9e6f32dcfe3a2d0a\", element=\"58b3d54f-5ca1-456a-8d53-23aa6e41a8a0\")>,\n",
       " <selenium.webdriver.remote.webelement.WebElement (session=\"9f8624d1a4d9e5af9e6f32dcfe3a2d0a\", element=\"c38c9dfe-d077-4650-a9f0-3ff82282427d\")>,\n",
       " <selenium.webdriver.remote.webelement.WebElement (session=\"9f8624d1a4d9e5af9e6f32dcfe3a2d0a\", element=\"cf0b0d2f-b325-4725-ba8a-a054f646be55\")>,\n",
       " <selenium.webdriver.remote.webelement.WebElement (session=\"9f8624d1a4d9e5af9e6f32dcfe3a2d0a\", element=\"5c729535-6a27-443f-b454-0cbc699f1574\")>,\n",
       " <selenium.webdriver.remote.webelement.WebElement (session=\"9f8624d1a4d9e5af9e6f32dcfe3a2d0a\", element=\"02a11c20-7659-46a8-983c-1a493357d448\")>,\n",
       " <selenium.webdriver.remote.webelement.WebElement (session=\"9f8624d1a4d9e5af9e6f32dcfe3a2d0a\", element=\"fa7f937f-2315-4418-824f-5800bf331a91\")>,\n",
       " <selenium.webdriver.remote.webelement.WebElement (session=\"9f8624d1a4d9e5af9e6f32dcfe3a2d0a\", element=\"ec88e72e-c844-4262-8ed7-e166becd2d2d\")>,\n",
       " <selenium.webdriver.remote.webelement.WebElement (session=\"9f8624d1a4d9e5af9e6f32dcfe3a2d0a\", element=\"7ec35086-7965-4a9b-8587-cd7a8c882a05\")>,\n",
       " <selenium.webdriver.remote.webelement.WebElement (session=\"9f8624d1a4d9e5af9e6f32dcfe3a2d0a\", element=\"9876d82b-22fa-4822-a8dc-2d3840bb1dc2\")>,\n",
       " <selenium.webdriver.remote.webelement.WebElement (session=\"9f8624d1a4d9e5af9e6f32dcfe3a2d0a\", element=\"c3a69967-eea7-41a4-9b3a-599d6e8b280c\")>,\n",
       " <selenium.webdriver.remote.webelement.WebElement (session=\"9f8624d1a4d9e5af9e6f32dcfe3a2d0a\", element=\"9550a1be-a635-416a-af68-eb878bac9c90\")>,\n",
       " <selenium.webdriver.remote.webelement.WebElement (session=\"9f8624d1a4d9e5af9e6f32dcfe3a2d0a\", element=\"a83bfa13-8ff1-4c12-9b3a-7ba211c86e1b\")>,\n",
       " <selenium.webdriver.remote.webelement.WebElement (session=\"9f8624d1a4d9e5af9e6f32dcfe3a2d0a\", element=\"9254bafe-de75-4370-b165-9d97489bebdd\")>,\n",
       " <selenium.webdriver.remote.webelement.WebElement (session=\"9f8624d1a4d9e5af9e6f32dcfe3a2d0a\", element=\"765d80e0-0cf4-44ad-b513-39bd38c76013\")>,\n",
       " <selenium.webdriver.remote.webelement.WebElement (session=\"9f8624d1a4d9e5af9e6f32dcfe3a2d0a\", element=\"e7b543b4-8644-4718-a2f5-85e5151a40ab\")>]"
      ]
     },
     "execution_count": 265,
     "metadata": {},
     "output_type": "execute_result"
    }
   ],
   "source": [
    "#Average salary\n",
    "avg = driver.find_elements_by_xpath(\"//h3[@class = 'm-0 css-g261rn']\")\n",
    "avg"
   ]
  },
  {
   "cell_type": "code",
   "execution_count": 274,
   "metadata": {},
   "outputs": [
    {
     "data": {
      "text/plain": [
       "['₹4,00,000',\n",
       " '₹4,40,446',\n",
       " '₹6,54,292',\n",
       " '₹4,54,488',\n",
       " '₹6,15,002',\n",
       " '₹4,40,446',\n",
       " '₹10,21,037',\n",
       " '₹8,09,498',\n",
       " '₹5,99,918',\n",
       " '₹2,18,885']"
      ]
     },
     "execution_count": 274,
     "metadata": {},
     "output_type": "execute_result"
    }
   ],
   "source": [
    "avg_salary = []\n",
    "for i in avg:\n",
    "    avg_salary.append(i.text.strip())\n",
    "avg_salary=avg_salary[1:20:2]\n",
    "avg_salary"
   ]
  },
  {
   "cell_type": "code",
   "execution_count": 275,
   "metadata": {},
   "outputs": [
    {
     "data": {
      "text/html": [
       "<div>\n",
       "<style scoped>\n",
       "    .dataframe tbody tr th:only-of-type {\n",
       "        vertical-align: middle;\n",
       "    }\n",
       "\n",
       "    .dataframe tbody tr th {\n",
       "        vertical-align: top;\n",
       "    }\n",
       "\n",
       "    .dataframe thead th {\n",
       "        text-align: right;\n",
       "    }\n",
       "</style>\n",
       "<table border=\"1\" class=\"dataframe\">\n",
       "  <thead>\n",
       "    <tr style=\"text-align: right;\">\n",
       "      <th></th>\n",
       "      <th>Company</th>\n",
       "      <th>Min_Sal</th>\n",
       "      <th>Max_Sal</th>\n",
       "      <th>Avg_Sal</th>\n",
       "    </tr>\n",
       "  </thead>\n",
       "  <tbody>\n",
       "    <tr>\n",
       "      <th>0</th>\n",
       "      <td>Tata Consultancy Services</td>\n",
       "      <td>₹1L</td>\n",
       "      <td>₹13L</td>\n",
       "      <td>₹4,00,000</td>\n",
       "    </tr>\n",
       "    <tr>\n",
       "      <th>1</th>\n",
       "      <td>HCL Technologies</td>\n",
       "      <td>₹1L</td>\n",
       "      <td>₹37L</td>\n",
       "      <td>₹4,40,446</td>\n",
       "    </tr>\n",
       "    <tr>\n",
       "      <th>2</th>\n",
       "      <td>Tata Consultancy Services</td>\n",
       "      <td>₹55T</td>\n",
       "      <td>₹86L</td>\n",
       "      <td>₹6,54,292</td>\n",
       "    </tr>\n",
       "    <tr>\n",
       "      <th>3</th>\n",
       "      <td>Capgemini Engineering</td>\n",
       "      <td>₹47T</td>\n",
       "      <td>₹52L</td>\n",
       "      <td>₹4,54,488</td>\n",
       "    </tr>\n",
       "    <tr>\n",
       "      <th>4</th>\n",
       "      <td>HCL Technologies</td>\n",
       "      <td>₹1L</td>\n",
       "      <td>₹71L</td>\n",
       "      <td>₹6,15,002</td>\n",
       "    </tr>\n",
       "    <tr>\n",
       "      <th>5</th>\n",
       "      <td>Tata Consultancy Services</td>\n",
       "      <td>₹1L</td>\n",
       "      <td>₹41L</td>\n",
       "      <td>₹4,40,446</td>\n",
       "    </tr>\n",
       "    <tr>\n",
       "      <th>6</th>\n",
       "      <td>Deloitte</td>\n",
       "      <td>₹1L</td>\n",
       "      <td>₹65L</td>\n",
       "      <td>₹10,21,037</td>\n",
       "    </tr>\n",
       "    <tr>\n",
       "      <th>7</th>\n",
       "      <td>Capgemini Engineering</td>\n",
       "      <td>₹76T</td>\n",
       "      <td>₹20L</td>\n",
       "      <td>₹8,09,498</td>\n",
       "    </tr>\n",
       "    <tr>\n",
       "      <th>8</th>\n",
       "      <td>Evalueserve</td>\n",
       "      <td>₹2L</td>\n",
       "      <td>₹50L</td>\n",
       "      <td>₹5,99,918</td>\n",
       "    </tr>\n",
       "    <tr>\n",
       "      <th>9</th>\n",
       "      <td>Genpact</td>\n",
       "      <td>₹1L</td>\n",
       "      <td>₹19L</td>\n",
       "      <td>₹2,18,885</td>\n",
       "    </tr>\n",
       "  </tbody>\n",
       "</table>\n",
       "</div>"
      ],
      "text/plain": [
       "                     Company Min_Sal Max_Sal     Avg_Sal\n",
       "0  Tata Consultancy Services     ₹1L    ₹13L   ₹4,00,000\n",
       "1           HCL Technologies     ₹1L    ₹37L   ₹4,40,446\n",
       "2  Tata Consultancy Services    ₹55T    ₹86L   ₹6,54,292\n",
       "3      Capgemini Engineering    ₹47T    ₹52L   ₹4,54,488\n",
       "4           HCL Technologies     ₹1L    ₹71L   ₹6,15,002\n",
       "5  Tata Consultancy Services     ₹1L    ₹41L   ₹4,40,446\n",
       "6                   Deloitte     ₹1L    ₹65L  ₹10,21,037\n",
       "7      Capgemini Engineering    ₹76T    ₹20L   ₹8,09,498\n",
       "8                Evalueserve     ₹2L    ₹50L   ₹5,99,918\n",
       "9                    Genpact     ₹1L    ₹19L   ₹2,18,885"
      ]
     },
     "execution_count": 275,
     "metadata": {},
     "output_type": "execute_result"
    }
   ],
   "source": [
    "Company_Salary=pd.DataFrame({})\n",
    "Company_Salary['Company']=Company_name\n",
    "Company_Salary['Min_Sal']=minimum\n",
    "Company_Salary['Max_Sal']=maximum\n",
    "Company_Salary['Avg_Sal']=avg_salary\n",
    "Company_Salary\n"
   ]
  },
  {
   "cell_type": "markdown",
   "metadata": {},
   "source": [
    "### Q6 : Scrape data of first 100 sunglasses listings on flipkart.com. You have to\n",
    "scrape four attributes:\n",
    "1. Brand\n",
    "2. Product Description\n",
    "3. Price\n",
    "4. Discount %\n"
   ]
  },
  {
   "cell_type": "code",
   "execution_count": 276,
   "metadata": {},
   "outputs": [],
   "source": [
    "url=('https://www.flipkart.com/')\n",
    "driver.get(url)"
   ]
  },
  {
   "cell_type": "code",
   "execution_count": 279,
   "metadata": {},
   "outputs": [
    {
     "data": {
      "text/plain": [
       "<selenium.webdriver.remote.webelement.WebElement (session=\"9f8624d1a4d9e5af9e6f32dcfe3a2d0a\", element=\"4a234cbb-d6df-4969-832a-ee861629ca60\")>"
      ]
     },
     "execution_count": 279,
     "metadata": {},
     "output_type": "execute_result"
    }
   ],
   "source": [
    "search_bar=driver.find_element_by_xpath(\"//input[@class='_3704LK']\")\n",
    "search_bar"
   ]
  },
  {
   "cell_type": "code",
   "execution_count": 280,
   "metadata": {},
   "outputs": [],
   "source": [
    "search_bar.send_keys('sunglasses')"
   ]
  },
  {
   "cell_type": "code",
   "execution_count": 282,
   "metadata": {},
   "outputs": [],
   "source": [
    "search_button=driver.find_element_by_xpath(\"//button[@class = 'L0Z3Pu']\")\n",
    "search_button.click()"
   ]
  },
  {
   "cell_type": "code",
   "execution_count": 294,
   "metadata": {},
   "outputs": [
    {
     "data": {
      "text/plain": [
       "['https://www.flipkart.com/search?q=sunglasses&otracker=search&otracker1=search&marketplace=FLIPKART&as-show=on&as=off&page=1',\n",
       " 'https://www.flipkart.com/search?q=sunglasses&otracker=search&otracker1=search&marketplace=FLIPKART&as-show=on&as=off&page=2',\n",
       " 'https://www.flipkart.com/search?q=sunglasses&otracker=search&otracker1=search&marketplace=FLIPKART&as-show=on&as=off&page=3']"
      ]
     },
     "execution_count": 294,
     "metadata": {},
     "output_type": "execute_result"
    }
   ],
   "source": [
    "#next pages\n",
    "page_urls=[]\n",
    "urls=driver.find_elements_by_xpath(\"//nav[@class='yFHi8N']//a\")\n",
    "urls=urls[:3]\n",
    "urls\n",
    "for i in urls:\n",
    "    page_urls.append(i.get_attribute('href'))\n",
    "page_urls"
   ]
  },
  {
   "cell_type": "code",
   "execution_count": 297,
   "metadata": {},
   "outputs": [
    {
     "data": {
      "text/plain": [
       "['Singco India',\n",
       " 'ROYAL SON',\n",
       " 'PIRASO',\n",
       " 'Fastrack',\n",
       " 'Fastrack',\n",
       " 'PIRASO',\n",
       " 'Singco',\n",
       " 'ROYAL SON',\n",
       " 'ROZZETTA CRAFT',\n",
       " 'Fastrack',\n",
       " 'kingsunglasses',\n",
       " 'ROZZETTA CRAFT',\n",
       " 'Singco India',\n",
       " 'PIRASO',\n",
       " 'PIRASO',\n",
       " 'ROYAL SON',\n",
       " 'DEIXELS',\n",
       " 'GANSTA',\n",
       " 'Fastrack',\n",
       " 'AISLIN',\n",
       " 'Silver Kartz',\n",
       " 'NuVew',\n",
       " 'ROZZETTA CRAFT',\n",
       " 'ROYAL SON',\n",
       " 'HIPPON',\n",
       " 'PHENOMENAL',\n",
       " 'PHENOMENAL',\n",
       " 'ROYAL SON',\n",
       " 'Singco India',\n",
       " 'Singco India',\n",
       " 'ROZZETTA CRAFT',\n",
       " 'ROYAL SON',\n",
       " 'ROYAL SON',\n",
       " 'PIRASO',\n",
       " 'ROYAL SON',\n",
       " 'ROYAL SON',\n",
       " 'Singco India',\n",
       " 'NuVew',\n",
       " 'ROYAL SON',\n",
       " 'ROYAL SON',\n",
       " 'Fastrack',\n",
       " 'Poland',\n",
       " 'Fastrack',\n",
       " 'Singco India',\n",
       " 'Cristiano Ronnie',\n",
       " 'ROZZETTA CRAFT',\n",
       " 'PIRASO',\n",
       " 'ROYAL SON',\n",
       " 'PIRASO',\n",
       " 'PHENOMENAL',\n",
       " 'Fastrack',\n",
       " 'ROYAL SON',\n",
       " 'elegante',\n",
       " 'DEIXELS',\n",
       " 'ROZZETTA CRAFT',\n",
       " 'ROYAL SON',\n",
       " 'Fravy',\n",
       " 'hipe',\n",
       " 'hipe',\n",
       " 'ROYAL SON',\n",
       " 'Fastrack',\n",
       " 'DEIXELS',\n",
       " 'NuVew',\n",
       " 'AISLIN',\n",
       " 'PHENOMENAL',\n",
       " 'NuVew',\n",
       " 'GANSTA',\n",
       " 'Flizz',\n",
       " 'NuVew',\n",
       " 'ROYAL SON',\n",
       " 'PHENOMENAL',\n",
       " 'ROZZETTA CRAFT',\n",
       " 'ROYAL SON',\n",
       " 'ROYAL SON',\n",
       " 'NuVew',\n",
       " 'PIRASO',\n",
       " 'Fastrack',\n",
       " 'AISLIN',\n",
       " 'Fastrack',\n",
       " 'ROYAL SON',\n",
       " 'Badfella',\n",
       " 'ROYAL SON',\n",
       " 'Wrogn',\n",
       " 'NuVew',\n",
       " 'AISLIN',\n",
       " 'hipe',\n",
       " 'kingsunglasses',\n",
       " 'Poloport',\n",
       " 'Fastrack',\n",
       " 'ROYAL SON',\n",
       " 'AISLIN',\n",
       " 'NuVew',\n",
       " 'hipe',\n",
       " 'Silver Kartz',\n",
       " 'ROYAL SON',\n",
       " 'kingsunglasses',\n",
       " 'ROZZETTA CRAFT',\n",
       " 'agera',\n",
       " 'PHENOMENAL',\n",
       " 'GANSTA']"
      ]
     },
     "execution_count": 297,
     "metadata": {},
     "output_type": "execute_result"
    }
   ],
   "source": [
    "Brand = []\n",
    "for url in page_urls:\n",
    "    driver.get(url)\n",
    "    #brand\n",
    "    brand = driver.find_elements_by_xpath(\"//div[@class = '_2WkVRV']\")\n",
    "    for i in brand:\n",
    "        Brand.append(i.text)\n",
    "Brand=Brand[:100]\n",
    "Brand"
   ]
  },
  {
   "cell_type": "code",
   "execution_count": 298,
   "metadata": {},
   "outputs": [
    {
     "data": {
      "text/plain": [
       "['UV Protection Aviator Sunglasses (54)',\n",
       " 'UV Protection Rectangular Sunglasses (Free Size)',\n",
       " 'Gradient, UV Protection Wayfarer Sunglasses (Free Size)',\n",
       " 'UV Protection Aviator Sunglasses (54)',\n",
       " 'Mirrored Aviator Sunglasses (53)',\n",
       " 'UV Protection, Gradient Rectangular Sunglasses (Free Si...',\n",
       " 'UV Protection Wayfarer Sunglasses (Free Size)',\n",
       " 'Mirrored, UV Protection Wayfarer Sunglasses (Free Size)',\n",
       " 'UV Protection Round Sunglasses (Free Size)',\n",
       " 'UV Protection Aviator Sunglasses (54)',\n",
       " 'UV Protection Aviator Sunglasses (58)',\n",
       " 'UV Protection Aviator, Wayfarer Sunglasses (Free Size)',\n",
       " 'UV Protection Aviator Sunglasses (57)',\n",
       " 'UV Protection Aviator Sunglasses (Free Size)',\n",
       " 'UV Protection Wayfarer Sunglasses (Free Size)',\n",
       " 'UV Protection Aviator Sunglasses (57)',\n",
       " 'UV Protection, Gradient Rectangular Sunglasses (Free Si...',\n",
       " 'UV Protection Wayfarer Sunglasses (55)',\n",
       " 'UV Protection, Mirrored Retro Square Sunglasses (53)',\n",
       " 'UV Protection Retro Square Sunglasses (Free Size)',\n",
       " 'Mirrored, Riding Glasses, Others Sports Sunglasses (50)',\n",
       " 'UV Protection Aviator Sunglasses (Free Size)',\n",
       " 'UV Protection Retro Square Sunglasses (Free Size)',\n",
       " 'UV Protection, Gradient Wayfarer Sunglasses (55)',\n",
       " 'UV Protection Aviator Sunglasses (Free Size)',\n",
       " 'Mirrored Aviator Sunglasses (55)',\n",
       " 'UV Protection, Riding Glasses, Others Aviator, Wayfarer...',\n",
       " 'UV Protection, Gradient, Night Vision, Mirrored Aviator...',\n",
       " 'UV Protection Rectangular Sunglasses (58)',\n",
       " 'UV Protection Aviator Sunglasses (58)',\n",
       " 'UV Protection Wayfarer Sunglasses (Free Size)',\n",
       " 'Mirrored, UV Protection, Gradient Round Sunglasses (55)',\n",
       " 'UV Protection, Gradient, Night Vision Retro Square Sung...',\n",
       " 'UV Protection, Riding Glasses Rectangular Sunglasses (F...',\n",
       " 'UV Protection Wayfarer Sunglasses (55)',\n",
       " 'UV Protection, Mirrored Wayfarer Sunglasses (53)',\n",
       " 'UV Protection Aviator Sunglasses (58)',\n",
       " 'UV Protection Round Sunglasses (Free Size)',\n",
       " 'UV Protection, Gradient Round Sunglasses (Free Size)',\n",
       " 'UV Protection, Mirrored Retro Square Sunglasses (53)',\n",
       " 'UV Protection Wrap-around Sunglasses (Free Size)',\n",
       " 'UV Protection Wayfarer Sunglasses (Free Size)',\n",
       " 'Gradient, UV Protection Wayfarer Sunglasses (Free Size)',\n",
       " 'UV Protection, Riding Glasses Aviator Sunglasses (57)',\n",
       " 'Gradient, UV Protection Round Sunglasses (Free Size)',\n",
       " 'UV Protection Wayfarer Sunglasses (32)',\n",
       " 'UV Protection Butterfly Sunglasses (65)',\n",
       " 'UV Protection Clubmaster Sunglasses (Free Size)',\n",
       " 'Gradient, UV Protection Wayfarer Sunglasses (Free Size)',\n",
       " 'UV Protection Round Sunglasses (Free Size)',\n",
       " 'Polarized, UV Protection, Riding Glasses Wayfarer Sungl...',\n",
       " 'UV Protection, Gradient Retro Square Sunglasses (Free S...',\n",
       " 'UV Protection Retro Square Sunglasses (Free Size)',\n",
       " 'Mirrored Wayfarer Sunglasses (55)',\n",
       " 'UV Protection Sports Sunglasses (Free Size)',\n",
       " 'UV Protection Shield Sunglasses (Free Size)',\n",
       " 'UV Protection Round Sunglasses (Free Size)',\n",
       " 'UV Protection, Riding Glasses Wayfarer Sunglasses (56)',\n",
       " 'UV Protection, Mirrored Clubmaster Sunglasses (Free Siz...',\n",
       " 'UV Protection, Mirrored Sports Sunglasses (73)',\n",
       " 'UV Protection, Night Vision, Riding Glasses Aviator Sun...',\n",
       " 'UV Protection Retro Square Sunglasses (Free Size)',\n",
       " 'UV Protection, Riding Glasses Aviator Sunglasses (58)',\n",
       " 'UV Protection, Mirrored Retro Square Sunglasses (Free S...',\n",
       " 'UV Protection, Gradient Round Sunglasses (Free Size)',\n",
       " 'UV Protection Retro Square Sunglasses (58)',\n",
       " 'UV Protection, Riding Glasses Aviator Sunglasses (58)',\n",
       " 'UV Protection Aviator Sunglasses (54)',\n",
       " 'Mirrored, UV Protection Wayfarer Sunglasses (Free Size)',\n",
       " 'UV Protection Oval Sunglasses (60)',\n",
       " 'UV Protection Wayfarer Sunglasses (56)',\n",
       " 'UV Protection, Polarized Rectangular Sunglasses (Free S...',\n",
       " 'UV Protection Wayfarer Sunglasses (Free Size)',\n",
       " 'Polarized Rectangular Sunglasses (65)',\n",
       " 'UV Protection, Riding Glasses, Mirrored Clubmaster Sung...',\n",
       " 'UV Protection, Gradient Round Sunglasses (Free Size)',\n",
       " 'UV Protection Rectangular Sunglasses (Free Size)',\n",
       " 'UV Protection, Riding Glasses Wayfarer Sunglasses (53)',\n",
       " 'Mirrored Aviator Sunglasses (Free Size)',\n",
       " 'UV Protection Wayfarer Sunglasses (Free Size)',\n",
       " 'Polarized, UV Protection Retro Square Sunglasses (53)',\n",
       " 'Mirrored Aviator Sunglasses (55)',\n",
       " 'Polarized Aviator Sunglasses (60)',\n",
       " 'UV Protection, Mirrored, Gradient, Riding Glasses, Nigh...',\n",
       " 'UV Protection, Gradient Butterfly, Retro Square Sunglas...',\n",
       " 'UV Protection, Gradient, Riding Glasses Wayfarer Sungla...',\n",
       " 'UV Protection Round Sunglasses (Free Size)',\n",
       " 'UV Protection Wayfarer Sunglasses (Free Size)',\n",
       " 'UV Protection Wayfarer Sunglasses (Free Size)',\n",
       " 'Mirrored Aviator Sunglasses (55)',\n",
       " 'Toughened Glass Lens, UV Protection Aviator Sunglasses ...',\n",
       " 'UV Protection, Mirrored Sports Sunglasses (73)',\n",
       " 'UV Protection, Mirrored Aviator Sunglasses (Free Size)',\n",
       " 'UV Protection Oval Sunglasses (56)',\n",
       " 'Polarized Rectangular Sunglasses (65)',\n",
       " 'UV Protection Round Sunglasses (Free Size)',\n",
       " 'Polarized, UV Protection Aviator Sunglasses (Free Size)',\n",
       " 'UV Protection Round Sunglasses (54)',\n",
       " 'UV Protection, Mirrored, Gradient Retro Square Sunglass...',\n",
       " 'UV Protection, Gradient Aviator Sunglasses (57)']"
      ]
     },
     "execution_count": 298,
     "metadata": {},
     "output_type": "execute_result"
    }
   ],
   "source": [
    "Product_desc=[]\n",
    "for url in page_urls:\n",
    "    driver.get(url)\n",
    "    #brand\n",
    "    desc= driver.find_elements_by_xpath(\"//a[@class = 'IRpwTa']\")\n",
    "    for i in desc:\n",
    "        Product_desc.append(i.text)\n",
    "Product_desc=Product_desc[:100]\n",
    "Product_desc\n"
   ]
  },
  {
   "cell_type": "code",
   "execution_count": 299,
   "metadata": {},
   "outputs": [
    {
     "data": {
      "text/plain": [
       "['₹237',\n",
       " '₹541',\n",
       " '₹537',\n",
       " '₹237',\n",
       " '₹249',\n",
       " '₹404',\n",
       " '₹733',\n",
       " '₹299',\n",
       " '₹209',\n",
       " '₹237',\n",
       " '₹331',\n",
       " '₹213',\n",
       " '₹281',\n",
       " '₹674',\n",
       " '₹246',\n",
       " '₹156',\n",
       " '₹499',\n",
       " '₹251',\n",
       " '₹399',\n",
       " '₹399',\n",
       " '₹252',\n",
       " '₹349',\n",
       " '₹499',\n",
       " '₹217',\n",
       " '₹331',\n",
       " '₹319',\n",
       " '₹214',\n",
       " '₹282',\n",
       " '₹399',\n",
       " '₹1,085',\n",
       " '₹758',\n",
       " '₹210',\n",
       " '₹329',\n",
       " '₹449',\n",
       " '₹265',\n",
       " '₹199',\n",
       " '₹227',\n",
       " '₹199',\n",
       " '₹449',\n",
       " '₹399',\n",
       " '₹607',\n",
       " '₹162',\n",
       " '₹638',\n",
       " '₹399',\n",
       " '₹449',\n",
       " '₹237',\n",
       " '₹323',\n",
       " '₹319',\n",
       " '₹589',\n",
       " '₹199',\n",
       " '₹249',\n",
       " '₹449',\n",
       " '₹289',\n",
       " '₹219',\n",
       " '₹319',\n",
       " '₹759',\n",
       " '₹219',\n",
       " '₹248',\n",
       " '₹319',\n",
       " '₹367',\n",
       " '₹292',\n",
       " '₹399',\n",
       " '₹437',\n",
       " '₹399',\n",
       " '₹449',\n",
       " '₹499',\n",
       " '₹206',\n",
       " '₹237',\n",
       " '₹777',\n",
       " '₹764',\n",
       " '₹759',\n",
       " '₹279',\n",
       " '₹758',\n",
       " '₹699',\n",
       " '₹291',\n",
       " '₹449',\n",
       " '₹398',\n",
       " '₹260',\n",
       " '₹399',\n",
       " '₹576',\n",
       " '₹269',\n",
       " '₹399',\n",
       " '₹1,015',\n",
       " '₹310',\n",
       " '₹574',\n",
       " '₹249',\n",
       " '₹339',\n",
       " '₹249',\n",
       " '₹719',\n",
       " '₹399',\n",
       " '₹906',\n",
       " '₹367',\n",
       " '₹199',\n",
       " '₹284',\n",
       " '₹699',\n",
       " '₹339',\n",
       " '₹449',\n",
       " '₹207',\n",
       " '₹259',\n",
       " '₹233']"
      ]
     },
     "execution_count": 299,
     "metadata": {},
     "output_type": "execute_result"
    }
   ],
   "source": [
    "Price=[]\n",
    "for url in page_urls:\n",
    "    driver.get(url)\n",
    "    #brand\n",
    "    price= driver.find_elements_by_xpath(\"//div[@class = '_30jeq3']\")\n",
    "    for i in price:\n",
    "        Price.append(i.text)\n",
    "Price=Price[:100]\n",
    "Price"
   ]
  },
  {
   "cell_type": "code",
   "execution_count": 300,
   "metadata": {},
   "outputs": [
    {
     "data": {
      "text/plain": [
       "['85% off',\n",
       " '32% off',\n",
       " '32% off',\n",
       " '85% off',\n",
       " '75% off',\n",
       " '79% off',\n",
       " '18% off',\n",
       " '88% off',\n",
       " '79% off',\n",
       " '85% off',\n",
       " '87% off',\n",
       " '82% off',\n",
       " '85% off',\n",
       " '25% off',\n",
       " '83% off',\n",
       " '79% off',\n",
       " '77% off',\n",
       " '79% off',\n",
       " '80% off',\n",
       " '80% off',\n",
       " '83% off',\n",
       " '70% off',\n",
       " '77% off',\n",
       " '78% off',\n",
       " '79% off',\n",
       " '78% off',\n",
       " '69% off',\n",
       " '75% off',\n",
       " '73% off',\n",
       " '16% off',\n",
       " '15% off',\n",
       " '85% off',\n",
       " '83% off',\n",
       " '79% off',\n",
       " '79% off',\n",
       " '80% off',\n",
       " '71% off',\n",
       " '80% off',\n",
       " '77% off',\n",
       " '80% off',\n",
       " '77% off',\n",
       " '80% off',\n",
       " '32% off',\n",
       " '67% off',\n",
       " '20% off',\n",
       " '87% off',\n",
       " '85% off',\n",
       " '84% off',\n",
       " '26% off',\n",
       " '80% off',\n",
       " '58% off',\n",
       " '80% off',\n",
       " '77% off',\n",
       " '78% off',\n",
       " '83% off',\n",
       " '15% off',\n",
       " '72% off',\n",
       " '84% off',\n",
       " '74% off',\n",
       " '85% off',\n",
       " '81% off',\n",
       " '73% off',\n",
       " '80% off',\n",
       " '70% off',\n",
       " '87% off',\n",
       " '66% off',\n",
       " '80% off',\n",
       " '22% off',\n",
       " '85% off',\n",
       " '15% off',\n",
       " '81% off',\n",
       " '15% off',\n",
       " '69% off',\n",
       " '83% off',\n",
       " '65% off',\n",
       " '80% off',\n",
       " '86% off',\n",
       " '73% off',\n",
       " '73% off',\n",
       " '73% off',\n",
       " '27% off',\n",
       " '73% off',\n",
       " '73% off',\n",
       " '68% off',\n",
       " '79% off',\n",
       " '62% off',\n",
       " '75% off',\n",
       " '87% off',\n",
       " '79% off',\n",
       " '73% off',\n",
       " '75% off',\n",
       " '70% off',\n",
       " '80% off',\n",
       " '76% off',\n",
       " '78% off',\n",
       " '78% off',\n",
       " '65% off',\n",
       " '77% off',\n",
       " '84% off',\n",
       " '87% off']"
      ]
     },
     "execution_count": 300,
     "metadata": {},
     "output_type": "execute_result"
    }
   ],
   "source": [
    "Discount=[]\n",
    "for url in page_urls:\n",
    "    driver.get(url)\n",
    "    #brand\n",
    "    discount= driver.find_elements_by_xpath(\"//div[@class = '_3Ay6Sb']\")\n",
    "    for i in discount:\n",
    "        Discount.append(i.text)\n",
    "Discount=Discount[:100]\n",
    "Discount"
   ]
  },
  {
   "cell_type": "code",
   "execution_count": 302,
   "metadata": {},
   "outputs": [
    {
     "data": {
      "text/html": [
       "<div>\n",
       "<style scoped>\n",
       "    .dataframe tbody tr th:only-of-type {\n",
       "        vertical-align: middle;\n",
       "    }\n",
       "\n",
       "    .dataframe tbody tr th {\n",
       "        vertical-align: top;\n",
       "    }\n",
       "\n",
       "    .dataframe thead th {\n",
       "        text-align: right;\n",
       "    }\n",
       "</style>\n",
       "<table border=\"1\" class=\"dataframe\">\n",
       "  <thead>\n",
       "    <tr style=\"text-align: right;\">\n",
       "      <th></th>\n",
       "      <th>Brand</th>\n",
       "      <th>Description</th>\n",
       "      <th>Price</th>\n",
       "      <th>Discount</th>\n",
       "    </tr>\n",
       "  </thead>\n",
       "  <tbody>\n",
       "    <tr>\n",
       "      <th>0</th>\n",
       "      <td>Singco India</td>\n",
       "      <td>UV Protection Aviator Sunglasses (54)</td>\n",
       "      <td>₹237</td>\n",
       "      <td>85% off</td>\n",
       "    </tr>\n",
       "    <tr>\n",
       "      <th>1</th>\n",
       "      <td>ROYAL SON</td>\n",
       "      <td>UV Protection Rectangular Sunglasses (Free Size)</td>\n",
       "      <td>₹541</td>\n",
       "      <td>32% off</td>\n",
       "    </tr>\n",
       "    <tr>\n",
       "      <th>2</th>\n",
       "      <td>PIRASO</td>\n",
       "      <td>Gradient, UV Protection Wayfarer Sunglasses (F...</td>\n",
       "      <td>₹537</td>\n",
       "      <td>32% off</td>\n",
       "    </tr>\n",
       "    <tr>\n",
       "      <th>3</th>\n",
       "      <td>Fastrack</td>\n",
       "      <td>UV Protection Aviator Sunglasses (54)</td>\n",
       "      <td>₹237</td>\n",
       "      <td>85% off</td>\n",
       "    </tr>\n",
       "    <tr>\n",
       "      <th>4</th>\n",
       "      <td>Fastrack</td>\n",
       "      <td>Mirrored Aviator Sunglasses (53)</td>\n",
       "      <td>₹249</td>\n",
       "      <td>75% off</td>\n",
       "    </tr>\n",
       "    <tr>\n",
       "      <th>...</th>\n",
       "      <td>...</td>\n",
       "      <td>...</td>\n",
       "      <td>...</td>\n",
       "      <td>...</td>\n",
       "    </tr>\n",
       "    <tr>\n",
       "      <th>95</th>\n",
       "      <td>kingsunglasses</td>\n",
       "      <td>UV Protection Round Sunglasses (Free Size)</td>\n",
       "      <td>₹339</td>\n",
       "      <td>78% off</td>\n",
       "    </tr>\n",
       "    <tr>\n",
       "      <th>96</th>\n",
       "      <td>ROZZETTA CRAFT</td>\n",
       "      <td>Polarized, UV Protection Aviator Sunglasses (F...</td>\n",
       "      <td>₹449</td>\n",
       "      <td>65% off</td>\n",
       "    </tr>\n",
       "    <tr>\n",
       "      <th>97</th>\n",
       "      <td>agera</td>\n",
       "      <td>UV Protection Round Sunglasses (54)</td>\n",
       "      <td>₹207</td>\n",
       "      <td>77% off</td>\n",
       "    </tr>\n",
       "    <tr>\n",
       "      <th>98</th>\n",
       "      <td>PHENOMENAL</td>\n",
       "      <td>UV Protection, Mirrored, Gradient Retro Square...</td>\n",
       "      <td>₹259</td>\n",
       "      <td>84% off</td>\n",
       "    </tr>\n",
       "    <tr>\n",
       "      <th>99</th>\n",
       "      <td>GANSTA</td>\n",
       "      <td>UV Protection, Gradient Aviator Sunglasses (57)</td>\n",
       "      <td>₹233</td>\n",
       "      <td>87% off</td>\n",
       "    </tr>\n",
       "  </tbody>\n",
       "</table>\n",
       "<p>100 rows × 4 columns</p>\n",
       "</div>"
      ],
      "text/plain": [
       "             Brand                                        Description Price  \\\n",
       "0     Singco India              UV Protection Aviator Sunglasses (54)  ₹237   \n",
       "1        ROYAL SON   UV Protection Rectangular Sunglasses (Free Size)  ₹541   \n",
       "2           PIRASO  Gradient, UV Protection Wayfarer Sunglasses (F...  ₹537   \n",
       "3         Fastrack              UV Protection Aviator Sunglasses (54)  ₹237   \n",
       "4         Fastrack                   Mirrored Aviator Sunglasses (53)  ₹249   \n",
       "..             ...                                                ...   ...   \n",
       "95  kingsunglasses         UV Protection Round Sunglasses (Free Size)  ₹339   \n",
       "96  ROZZETTA CRAFT  Polarized, UV Protection Aviator Sunglasses (F...  ₹449   \n",
       "97           agera                UV Protection Round Sunglasses (54)  ₹207   \n",
       "98      PHENOMENAL  UV Protection, Mirrored, Gradient Retro Square...  ₹259   \n",
       "99          GANSTA    UV Protection, Gradient Aviator Sunglasses (57)  ₹233   \n",
       "\n",
       "   Discount  \n",
       "0   85% off  \n",
       "1   32% off  \n",
       "2   32% off  \n",
       "3   85% off  \n",
       "4   75% off  \n",
       "..      ...  \n",
       "95  78% off  \n",
       "96  65% off  \n",
       "97  77% off  \n",
       "98  84% off  \n",
       "99  87% off  \n",
       "\n",
       "[100 rows x 4 columns]"
      ]
     },
     "execution_count": 302,
     "metadata": {},
     "output_type": "execute_result"
    }
   ],
   "source": [
    "Sunglasses=pd.DataFrame({})\n",
    "Sunglasses['Brand']=Brand\n",
    "Sunglasses['Description']=Product_desc\n",
    "Sunglasses['Price']=Price\n",
    "Sunglasses['Discount']=Discount\n",
    "Sunglasses\n"
   ]
  },
  {
   "cell_type": "markdown",
   "metadata": {},
   "source": [
    "### Q7. Scrape 100 reviews data from flipkart.com for iphone11 phone. You have to\n",
    "go the link: https://www.flipkart.com/apple-iphone-11-black-64-gb-includesearpods-poweradapter/p/itm0f37c2240b217?pid=MOBFKCTSVZAXUHGR&lid=LSTMOBFKC\n",
    "TSVZAXUHGREPBFGI&marketplace."
   ]
  },
  {
   "cell_type": "code",
   "execution_count": 307,
   "metadata": {},
   "outputs": [],
   "source": [
    "url=\"https://www.flipkart.com/apple-iphone-11-black-64-gb-includesearpods-poweradapter/p/itm0f37c2240b217?pid=MOBFKCTSVZAXUHGR&lid=LSTMOBFKC TSVZAXUHGREPBFGI&marketplace\"\n",
    "driver.get(url)"
   ]
  },
  {
   "cell_type": "code",
   "execution_count": 309,
   "metadata": {},
   "outputs": [],
   "source": [
    "#the all reviews button\n",
    "all_reviews=driver.find_element_by_xpath('/html/body/div[1]/div/div[3]/div[1]/div[2]/div[9]/div/div/div[5]/div/a')\n",
    "all_reviews.click()"
   ]
  },
  {
   "cell_type": "code",
   "execution_count": 372,
   "metadata": {},
   "outputs": [],
   "source": [
    "#next_button\n",
    "next=driver.find_element_by_xpath('/html/body/div[1]/div/div[3]/div/div/div[2]/div[13]/div/div/nav/a[11]')\n",
    "#getting info\n",
    "Rating=[]\n",
    "Short_review=[]\n",
    "full_review=[]\n",
    "for i in range(0,10):\n",
    "    rating=driver.find_elements_by_xpath(\"//div[@class='_3LWZlK _1BLPMq']\")\n",
    "    s_review=driver.find_elements_by_xpath(\"//p[@class='_2-N8zT']\")\n",
    "    f_review=driver.find_elements_by_xpath(\"//div[@class='t-ZTKy']\")\n",
    "    for i in rating:\n",
    "        Rating.append(i.text)\n",
    "    for j in s_review:\n",
    "        Short_review.append(j.text)\n",
    "    for k in f_review:\n",
    "        full_review.append(k.text.replace('\\n',\" \"))\n",
    "next.click()\n",
    "\n",
    "    "
   ]
  },
  {
   "cell_type": "code",
   "execution_count": 373,
   "metadata": {},
   "outputs": [
    {
     "data": {
      "text/plain": [
       "['4',\n",
       " '4',\n",
       " '5',\n",
       " '5',\n",
       " '5',\n",
       " '5',\n",
       " '5',\n",
       " '3',\n",
       " '5',\n",
       " '5',\n",
       " '4',\n",
       " '4',\n",
       " '5',\n",
       " '5',\n",
       " '5',\n",
       " '5',\n",
       " '5',\n",
       " '3',\n",
       " '5',\n",
       " '5',\n",
       " '4',\n",
       " '4',\n",
       " '5',\n",
       " '5',\n",
       " '5',\n",
       " '5',\n",
       " '5',\n",
       " '3',\n",
       " '5',\n",
       " '5',\n",
       " '4',\n",
       " '4',\n",
       " '5',\n",
       " '5',\n",
       " '5',\n",
       " '5',\n",
       " '5',\n",
       " '3',\n",
       " '5',\n",
       " '5',\n",
       " '4',\n",
       " '4',\n",
       " '5',\n",
       " '5',\n",
       " '5',\n",
       " '5',\n",
       " '5',\n",
       " '3',\n",
       " '5',\n",
       " '5',\n",
       " '4',\n",
       " '4',\n",
       " '5',\n",
       " '5',\n",
       " '5',\n",
       " '5',\n",
       " '5',\n",
       " '3',\n",
       " '5',\n",
       " '5',\n",
       " '4',\n",
       " '4',\n",
       " '5',\n",
       " '5',\n",
       " '5',\n",
       " '5',\n",
       " '5',\n",
       " '3',\n",
       " '5',\n",
       " '5',\n",
       " '4',\n",
       " '4',\n",
       " '5',\n",
       " '5',\n",
       " '5',\n",
       " '5',\n",
       " '5',\n",
       " '3',\n",
       " '5',\n",
       " '5',\n",
       " '4',\n",
       " '4',\n",
       " '5',\n",
       " '5',\n",
       " '5',\n",
       " '5',\n",
       " '5',\n",
       " '3',\n",
       " '5',\n",
       " '5',\n",
       " '4',\n",
       " '4',\n",
       " '5',\n",
       " '5',\n",
       " '5',\n",
       " '5',\n",
       " '5',\n",
       " '3',\n",
       " '5',\n",
       " '5']"
      ]
     },
     "execution_count": 373,
     "metadata": {},
     "output_type": "execute_result"
    }
   ],
   "source": [
    "Rating"
   ]
  },
  {
   "cell_type": "code",
   "execution_count": 374,
   "metadata": {},
   "outputs": [
    {
     "data": {
      "text/plain": [
       "['Nice product',\n",
       " 'Good quality product',\n",
       " 'Best in the market!',\n",
       " 'Classy product',\n",
       " 'Excellent',\n",
       " 'Mind-blowing purchase',\n",
       " 'Fabulous!',\n",
       " 'Does the job',\n",
       " 'Fabulous!',\n",
       " 'Awesome',\n",
       " 'Nice product',\n",
       " 'Good quality product',\n",
       " 'Best in the market!',\n",
       " 'Classy product',\n",
       " 'Excellent',\n",
       " 'Mind-blowing purchase',\n",
       " 'Fabulous!',\n",
       " 'Does the job',\n",
       " 'Fabulous!',\n",
       " 'Awesome',\n",
       " 'Nice product',\n",
       " 'Good quality product',\n",
       " 'Best in the market!',\n",
       " 'Classy product',\n",
       " 'Excellent',\n",
       " 'Mind-blowing purchase',\n",
       " 'Fabulous!',\n",
       " 'Does the job',\n",
       " 'Fabulous!',\n",
       " 'Awesome',\n",
       " 'Nice product',\n",
       " 'Good quality product',\n",
       " 'Best in the market!',\n",
       " 'Classy product',\n",
       " 'Excellent',\n",
       " 'Mind-blowing purchase',\n",
       " 'Fabulous!',\n",
       " 'Does the job',\n",
       " 'Fabulous!',\n",
       " 'Awesome',\n",
       " 'Nice product',\n",
       " 'Good quality product',\n",
       " 'Best in the market!',\n",
       " 'Classy product',\n",
       " 'Excellent',\n",
       " 'Mind-blowing purchase',\n",
       " 'Fabulous!',\n",
       " 'Does the job',\n",
       " 'Fabulous!',\n",
       " 'Awesome',\n",
       " 'Nice product',\n",
       " 'Good quality product',\n",
       " 'Best in the market!',\n",
       " 'Classy product',\n",
       " 'Excellent',\n",
       " 'Mind-blowing purchase',\n",
       " 'Fabulous!',\n",
       " 'Does the job',\n",
       " 'Fabulous!',\n",
       " 'Awesome',\n",
       " 'Nice product',\n",
       " 'Good quality product',\n",
       " 'Best in the market!',\n",
       " 'Classy product',\n",
       " 'Excellent',\n",
       " 'Mind-blowing purchase',\n",
       " 'Fabulous!',\n",
       " 'Does the job',\n",
       " 'Fabulous!',\n",
       " 'Awesome',\n",
       " 'Nice product',\n",
       " 'Good quality product',\n",
       " 'Best in the market!',\n",
       " 'Classy product',\n",
       " 'Excellent',\n",
       " 'Mind-blowing purchase',\n",
       " 'Fabulous!',\n",
       " 'Does the job',\n",
       " 'Fabulous!',\n",
       " 'Awesome',\n",
       " 'Nice product',\n",
       " 'Good quality product',\n",
       " 'Best in the market!',\n",
       " 'Classy product',\n",
       " 'Excellent',\n",
       " 'Mind-blowing purchase',\n",
       " 'Fabulous!',\n",
       " 'Does the job',\n",
       " 'Fabulous!',\n",
       " 'Awesome',\n",
       " 'Nice product',\n",
       " 'Good quality product',\n",
       " 'Best in the market!',\n",
       " 'Classy product',\n",
       " 'Excellent',\n",
       " 'Mind-blowing purchase',\n",
       " 'Fabulous!',\n",
       " 'Does the job',\n",
       " 'Fabulous!',\n",
       " 'Awesome']"
      ]
     },
     "execution_count": 374,
     "metadata": {},
     "output_type": "execute_result"
    }
   ],
   "source": [
    "Short_review"
   ]
  },
  {
   "cell_type": "code",
   "execution_count": 375,
   "metadata": {},
   "outputs": [
    {
     "data": {
      "text/plain": [
       "[\"If you are looking for a premium phone under 55k, this is the one for you.Got the iPhone 11 during the Republic day sale. Performance is top notch in this price range. Camera's do a perfect job in taking good quality photos and videos. Battery backup too is satisfactory. Writing this review after using for a week. Any further observations would be updated.\",\n",
       " 'Awesome camera, smooth and fast UI, display is great (though not LED) but the black area at the top could have been reduced. Battery remains a day even if used heavily. Charger in the box is ok, but 12 or 18W could have been nothing like anything. Overall an excellent product and comfortable to use. I have got it almost a month back and so far so good.',\n",
       " \"The best all rounder iphone. Flipkart is doing a great job. They're delivery services are blazing fast. I got delivery on the same day. Genuine Apple Product. Working great. Talking about review There's no need of review for iphones. They're simply the best.\",\n",
       " 'We are on apple ecosystem for almost eight years now with couple of iPads and iPhones, including Xr.  Bought iPhone 11 as a gift to my daughter who loves it. We chose for a purple coloured one. Believe me it is gorgeous and towards the lighter shade. Dazzling and brilliant!  The phone is great and does excellent RAM management like any other Apple device.  The screen, though a LCD and lesser ppi as compared to other flagship phones of competitor brands, is a delight to watch with perfect re... READ MORE',\n",
       " 'A perfect phone and a good battery super camera and the sound is dynamic overall the phone is perfect for upgrading from lower iPhone model to iPhone 11',\n",
       " \"i was confused between 11 and 11 pro. i was going towards 11 pro, but the screen size was not enough for me. And i saw 11 in the showroom. i didn't find much difference in screen quality.And cameras seems to be ok with me. And i saw offer's in flipkart and made the purchase. the device is fabulous. The hardware and software quality is excellent. The new iOS is something you need to experience yourself. The drawback i found was absence of fast charger, but the pricing can compensate that. Am... READ MORE\",\n",
       " 'Product is nice at the deviled time the delivery boy not open the box and this order is oBD but he is not open and not showing product he gives Product and gone time God product is super nice and good Tq Flipkart and seller love you Flipkart Product is nice display good touch screen amazing compared to other brands over all Product is super. Tq Flipkart',\n",
       " \"phone is good but in display is 720p lcd in this price range we can get full hd OLED displays with higher refresh rate processor is very good camera is nice but looks kind of oldish in front of todays phone also there's no charging in box had to buy it seperately\",\n",
       " 'Everything is perfect pictures come out so clearly and at first I wasn’t sure when I got it then when I started to use it and get the hang of it it was amazing!! I can’t wait to see what the next future phones will be like. The screen display on this bad boy are unbelievable they are so clear and never fail me. The performance is super cool there is a lot of cool features as well I like this phone because I feel that it is easy to use and one of my favorite things about this phone is the Face... READ MORE',\n",
       " 'I dreamt about this day from a long time.... Getting an iPhone with my own money.... Super happy and worth spending every penny',\n",
       " \"If you are looking for a premium phone under 55k, this is the one for you.Got the iPhone 11 during the Republic day sale. Performance is top notch in this price range. Camera's do a perfect job in taking good quality photos and videos. Battery backup too is satisfactory. Writing this review after using for a week. Any further observations would be updated.\",\n",
       " 'Awesome camera, smooth and fast UI, display is great (though not LED) but the black area at the top could have been reduced. Battery remains a day even if used heavily. Charger in the box is ok, but 12 or 18W could have been nothing like anything. Overall an excellent product and comfortable to use. I have got it almost a month back and so far so good.',\n",
       " \"The best all rounder iphone. Flipkart is doing a great job. They're delivery services are blazing fast. I got delivery on the same day. Genuine Apple Product. Working great. Talking about review There's no need of review for iphones. They're simply the best.\",\n",
       " 'We are on apple ecosystem for almost eight years now with couple of iPads and iPhones, including Xr.  Bought iPhone 11 as a gift to my daughter who loves it. We chose for a purple coloured one. Believe me it is gorgeous and towards the lighter shade. Dazzling and brilliant!  The phone is great and does excellent RAM management like any other Apple device.  The screen, though a LCD and lesser ppi as compared to other flagship phones of competitor brands, is a delight to watch with perfect re... READ MORE',\n",
       " 'A perfect phone and a good battery super camera and the sound is dynamic overall the phone is perfect for upgrading from lower iPhone model to iPhone 11',\n",
       " \"i was confused between 11 and 11 pro. i was going towards 11 pro, but the screen size was not enough for me. And i saw 11 in the showroom. i didn't find much difference in screen quality.And cameras seems to be ok with me. And i saw offer's in flipkart and made the purchase. the device is fabulous. The hardware and software quality is excellent. The new iOS is something you need to experience yourself. The drawback i found was absence of fast charger, but the pricing can compensate that. Am... READ MORE\",\n",
       " 'Product is nice at the deviled time the delivery boy not open the box and this order is oBD but he is not open and not showing product he gives Product and gone time God product is super nice and good Tq Flipkart and seller love you Flipkart Product is nice display good touch screen amazing compared to other brands over all Product is super. Tq Flipkart',\n",
       " \"phone is good but in display is 720p lcd in this price range we can get full hd OLED displays with higher refresh rate processor is very good camera is nice but looks kind of oldish in front of todays phone also there's no charging in box had to buy it seperately\",\n",
       " 'Everything is perfect pictures come out so clearly and at first I wasn’t sure when I got it then when I started to use it and get the hang of it it was amazing!! I can’t wait to see what the next future phones will be like. The screen display on this bad boy are unbelievable they are so clear and never fail me. The performance is super cool there is a lot of cool features as well I like this phone because I feel that it is easy to use and one of my favorite things about this phone is the Face... READ MORE',\n",
       " 'I dreamt about this day from a long time.... Getting an iPhone with my own money.... Super happy and worth spending every penny',\n",
       " \"If you are looking for a premium phone under 55k, this is the one for you.Got the iPhone 11 during the Republic day sale. Performance is top notch in this price range. Camera's do a perfect job in taking good quality photos and videos. Battery backup too is satisfactory. Writing this review after using for a week. Any further observations would be updated.\",\n",
       " 'Awesome camera, smooth and fast UI, display is great (though not LED) but the black area at the top could have been reduced. Battery remains a day even if used heavily. Charger in the box is ok, but 12 or 18W could have been nothing like anything. Overall an excellent product and comfortable to use. I have got it almost a month back and so far so good.',\n",
       " \"The best all rounder iphone. Flipkart is doing a great job. They're delivery services are blazing fast. I got delivery on the same day. Genuine Apple Product. Working great. Talking about review There's no need of review for iphones. They're simply the best.\",\n",
       " 'We are on apple ecosystem for almost eight years now with couple of iPads and iPhones, including Xr.  Bought iPhone 11 as a gift to my daughter who loves it. We chose for a purple coloured one. Believe me it is gorgeous and towards the lighter shade. Dazzling and brilliant!  The phone is great and does excellent RAM management like any other Apple device.  The screen, though a LCD and lesser ppi as compared to other flagship phones of competitor brands, is a delight to watch with perfect re... READ MORE',\n",
       " 'A perfect phone and a good battery super camera and the sound is dynamic overall the phone is perfect for upgrading from lower iPhone model to iPhone 11',\n",
       " \"i was confused between 11 and 11 pro. i was going towards 11 pro, but the screen size was not enough for me. And i saw 11 in the showroom. i didn't find much difference in screen quality.And cameras seems to be ok with me. And i saw offer's in flipkart and made the purchase. the device is fabulous. The hardware and software quality is excellent. The new iOS is something you need to experience yourself. The drawback i found was absence of fast charger, but the pricing can compensate that. Am... READ MORE\",\n",
       " 'Product is nice at the deviled time the delivery boy not open the box and this order is oBD but he is not open and not showing product he gives Product and gone time God product is super nice and good Tq Flipkart and seller love you Flipkart Product is nice display good touch screen amazing compared to other brands over all Product is super. Tq Flipkart',\n",
       " \"phone is good but in display is 720p lcd in this price range we can get full hd OLED displays with higher refresh rate processor is very good camera is nice but looks kind of oldish in front of todays phone also there's no charging in box had to buy it seperately\",\n",
       " 'Everything is perfect pictures come out so clearly and at first I wasn’t sure when I got it then when I started to use it and get the hang of it it was amazing!! I can’t wait to see what the next future phones will be like. The screen display on this bad boy are unbelievable they are so clear and never fail me. The performance is super cool there is a lot of cool features as well I like this phone because I feel that it is easy to use and one of my favorite things about this phone is the Face... READ MORE',\n",
       " 'I dreamt about this day from a long time.... Getting an iPhone with my own money.... Super happy and worth spending every penny',\n",
       " \"If you are looking for a premium phone under 55k, this is the one for you.Got the iPhone 11 during the Republic day sale. Performance is top notch in this price range. Camera's do a perfect job in taking good quality photos and videos. Battery backup too is satisfactory. Writing this review after using for a week. Any further observations would be updated.\",\n",
       " 'Awesome camera, smooth and fast UI, display is great (though not LED) but the black area at the top could have been reduced. Battery remains a day even if used heavily. Charger in the box is ok, but 12 or 18W could have been nothing like anything. Overall an excellent product and comfortable to use. I have got it almost a month back and so far so good.',\n",
       " \"The best all rounder iphone. Flipkart is doing a great job. They're delivery services are blazing fast. I got delivery on the same day. Genuine Apple Product. Working great. Talking about review There's no need of review for iphones. They're simply the best.\",\n",
       " 'We are on apple ecosystem for almost eight years now with couple of iPads and iPhones, including Xr.  Bought iPhone 11 as a gift to my daughter who loves it. We chose for a purple coloured one. Believe me it is gorgeous and towards the lighter shade. Dazzling and brilliant!  The phone is great and does excellent RAM management like any other Apple device.  The screen, though a LCD and lesser ppi as compared to other flagship phones of competitor brands, is a delight to watch with perfect re... READ MORE',\n",
       " 'A perfect phone and a good battery super camera and the sound is dynamic overall the phone is perfect for upgrading from lower iPhone model to iPhone 11',\n",
       " \"i was confused between 11 and 11 pro. i was going towards 11 pro, but the screen size was not enough for me. And i saw 11 in the showroom. i didn't find much difference in screen quality.And cameras seems to be ok with me. And i saw offer's in flipkart and made the purchase. the device is fabulous. The hardware and software quality is excellent. The new iOS is something you need to experience yourself. The drawback i found was absence of fast charger, but the pricing can compensate that. Am... READ MORE\",\n",
       " 'Product is nice at the deviled time the delivery boy not open the box and this order is oBD but he is not open and not showing product he gives Product and gone time God product is super nice and good Tq Flipkart and seller love you Flipkart Product is nice display good touch screen amazing compared to other brands over all Product is super. Tq Flipkart',\n",
       " \"phone is good but in display is 720p lcd in this price range we can get full hd OLED displays with higher refresh rate processor is very good camera is nice but looks kind of oldish in front of todays phone also there's no charging in box had to buy it seperately\",\n",
       " 'Everything is perfect pictures come out so clearly and at first I wasn’t sure when I got it then when I started to use it and get the hang of it it was amazing!! I can’t wait to see what the next future phones will be like. The screen display on this bad boy are unbelievable they are so clear and never fail me. The performance is super cool there is a lot of cool features as well I like this phone because I feel that it is easy to use and one of my favorite things about this phone is the Face... READ MORE',\n",
       " 'I dreamt about this day from a long time.... Getting an iPhone with my own money.... Super happy and worth spending every penny',\n",
       " \"If you are looking for a premium phone under 55k, this is the one for you.Got the iPhone 11 during the Republic day sale. Performance is top notch in this price range. Camera's do a perfect job in taking good quality photos and videos. Battery backup too is satisfactory. Writing this review after using for a week. Any further observations would be updated.\",\n",
       " 'Awesome camera, smooth and fast UI, display is great (though not LED) but the black area at the top could have been reduced. Battery remains a day even if used heavily. Charger in the box is ok, but 12 or 18W could have been nothing like anything. Overall an excellent product and comfortable to use. I have got it almost a month back and so far so good.',\n",
       " \"The best all rounder iphone. Flipkart is doing a great job. They're delivery services are blazing fast. I got delivery on the same day. Genuine Apple Product. Working great. Talking about review There's no need of review for iphones. They're simply the best.\",\n",
       " 'We are on apple ecosystem for almost eight years now with couple of iPads and iPhones, including Xr.  Bought iPhone 11 as a gift to my daughter who loves it. We chose for a purple coloured one. Believe me it is gorgeous and towards the lighter shade. Dazzling and brilliant!  The phone is great and does excellent RAM management like any other Apple device.  The screen, though a LCD and lesser ppi as compared to other flagship phones of competitor brands, is a delight to watch with perfect re... READ MORE',\n",
       " 'A perfect phone and a good battery super camera and the sound is dynamic overall the phone is perfect for upgrading from lower iPhone model to iPhone 11',\n",
       " \"i was confused between 11 and 11 pro. i was going towards 11 pro, but the screen size was not enough for me. And i saw 11 in the showroom. i didn't find much difference in screen quality.And cameras seems to be ok with me. And i saw offer's in flipkart and made the purchase. the device is fabulous. The hardware and software quality is excellent. The new iOS is something you need to experience yourself. The drawback i found was absence of fast charger, but the pricing can compensate that. Am... READ MORE\",\n",
       " 'Product is nice at the deviled time the delivery boy not open the box and this order is oBD but he is not open and not showing product he gives Product and gone time God product is super nice and good Tq Flipkart and seller love you Flipkart Product is nice display good touch screen amazing compared to other brands over all Product is super. Tq Flipkart',\n",
       " \"phone is good but in display is 720p lcd in this price range we can get full hd OLED displays with higher refresh rate processor is very good camera is nice but looks kind of oldish in front of todays phone also there's no charging in box had to buy it seperately\",\n",
       " 'Everything is perfect pictures come out so clearly and at first I wasn’t sure when I got it then when I started to use it and get the hang of it it was amazing!! I can’t wait to see what the next future phones will be like. The screen display on this bad boy are unbelievable they are so clear and never fail me. The performance is super cool there is a lot of cool features as well I like this phone because I feel that it is easy to use and one of my favorite things about this phone is the Face... READ MORE',\n",
       " 'I dreamt about this day from a long time.... Getting an iPhone with my own money.... Super happy and worth spending every penny',\n",
       " \"If you are looking for a premium phone under 55k, this is the one for you.Got the iPhone 11 during the Republic day sale. Performance is top notch in this price range. Camera's do a perfect job in taking good quality photos and videos. Battery backup too is satisfactory. Writing this review after using for a week. Any further observations would be updated.\",\n",
       " 'Awesome camera, smooth and fast UI, display is great (though not LED) but the black area at the top could have been reduced. Battery remains a day even if used heavily. Charger in the box is ok, but 12 or 18W could have been nothing like anything. Overall an excellent product and comfortable to use. I have got it almost a month back and so far so good.',\n",
       " \"The best all rounder iphone. Flipkart is doing a great job. They're delivery services are blazing fast. I got delivery on the same day. Genuine Apple Product. Working great. Talking about review There's no need of review for iphones. They're simply the best.\",\n",
       " 'We are on apple ecosystem for almost eight years now with couple of iPads and iPhones, including Xr.  Bought iPhone 11 as a gift to my daughter who loves it. We chose for a purple coloured one. Believe me it is gorgeous and towards the lighter shade. Dazzling and brilliant!  The phone is great and does excellent RAM management like any other Apple device.  The screen, though a LCD and lesser ppi as compared to other flagship phones of competitor brands, is a delight to watch with perfect re... READ MORE',\n",
       " 'A perfect phone and a good battery super camera and the sound is dynamic overall the phone is perfect for upgrading from lower iPhone model to iPhone 11',\n",
       " \"i was confused between 11 and 11 pro. i was going towards 11 pro, but the screen size was not enough for me. And i saw 11 in the showroom. i didn't find much difference in screen quality.And cameras seems to be ok with me. And i saw offer's in flipkart and made the purchase. the device is fabulous. The hardware and software quality is excellent. The new iOS is something you need to experience yourself. The drawback i found was absence of fast charger, but the pricing can compensate that. Am... READ MORE\",\n",
       " 'Product is nice at the deviled time the delivery boy not open the box and this order is oBD but he is not open and not showing product he gives Product and gone time God product is super nice and good Tq Flipkart and seller love you Flipkart Product is nice display good touch screen amazing compared to other brands over all Product is super. Tq Flipkart',\n",
       " \"phone is good but in display is 720p lcd in this price range we can get full hd OLED displays with higher refresh rate processor is very good camera is nice but looks kind of oldish in front of todays phone also there's no charging in box had to buy it seperately\",\n",
       " 'Everything is perfect pictures come out so clearly and at first I wasn’t sure when I got it then when I started to use it and get the hang of it it was amazing!! I can’t wait to see what the next future phones will be like. The screen display on this bad boy are unbelievable they are so clear and never fail me. The performance is super cool there is a lot of cool features as well I like this phone because I feel that it is easy to use and one of my favorite things about this phone is the Face... READ MORE',\n",
       " 'I dreamt about this day from a long time.... Getting an iPhone with my own money.... Super happy and worth spending every penny',\n",
       " \"If you are looking for a premium phone under 55k, this is the one for you.Got the iPhone 11 during the Republic day sale. Performance is top notch in this price range. Camera's do a perfect job in taking good quality photos and videos. Battery backup too is satisfactory. Writing this review after using for a week. Any further observations would be updated.\",\n",
       " 'Awesome camera, smooth and fast UI, display is great (though not LED) but the black area at the top could have been reduced. Battery remains a day even if used heavily. Charger in the box is ok, but 12 or 18W could have been nothing like anything. Overall an excellent product and comfortable to use. I have got it almost a month back and so far so good.',\n",
       " \"The best all rounder iphone. Flipkart is doing a great job. They're delivery services are blazing fast. I got delivery on the same day. Genuine Apple Product. Working great. Talking about review There's no need of review for iphones. They're simply the best.\",\n",
       " 'We are on apple ecosystem for almost eight years now with couple of iPads and iPhones, including Xr.  Bought iPhone 11 as a gift to my daughter who loves it. We chose for a purple coloured one. Believe me it is gorgeous and towards the lighter shade. Dazzling and brilliant!  The phone is great and does excellent RAM management like any other Apple device.  The screen, though a LCD and lesser ppi as compared to other flagship phones of competitor brands, is a delight to watch with perfect re... READ MORE',\n",
       " 'A perfect phone and a good battery super camera and the sound is dynamic overall the phone is perfect for upgrading from lower iPhone model to iPhone 11',\n",
       " \"i was confused between 11 and 11 pro. i was going towards 11 pro, but the screen size was not enough for me. And i saw 11 in the showroom. i didn't find much difference in screen quality.And cameras seems to be ok with me. And i saw offer's in flipkart and made the purchase. the device is fabulous. The hardware and software quality is excellent. The new iOS is something you need to experience yourself. The drawback i found was absence of fast charger, but the pricing can compensate that. Am... READ MORE\",\n",
       " 'Product is nice at the deviled time the delivery boy not open the box and this order is oBD but he is not open and not showing product he gives Product and gone time God product is super nice and good Tq Flipkart and seller love you Flipkart Product is nice display good touch screen amazing compared to other brands over all Product is super. Tq Flipkart',\n",
       " \"phone is good but in display is 720p lcd in this price range we can get full hd OLED displays with higher refresh rate processor is very good camera is nice but looks kind of oldish in front of todays phone also there's no charging in box had to buy it seperately\",\n",
       " 'Everything is perfect pictures come out so clearly and at first I wasn’t sure when I got it then when I started to use it and get the hang of it it was amazing!! I can’t wait to see what the next future phones will be like. The screen display on this bad boy are unbelievable they are so clear and never fail me. The performance is super cool there is a lot of cool features as well I like this phone because I feel that it is easy to use and one of my favorite things about this phone is the Face... READ MORE',\n",
       " 'I dreamt about this day from a long time.... Getting an iPhone with my own money.... Super happy and worth spending every penny',\n",
       " \"If you are looking for a premium phone under 55k, this is the one for you.Got the iPhone 11 during the Republic day sale. Performance is top notch in this price range. Camera's do a perfect job in taking good quality photos and videos. Battery backup too is satisfactory. Writing this review after using for a week. Any further observations would be updated.\",\n",
       " 'Awesome camera, smooth and fast UI, display is great (though not LED) but the black area at the top could have been reduced. Battery remains a day even if used heavily. Charger in the box is ok, but 12 or 18W could have been nothing like anything. Overall an excellent product and comfortable to use. I have got it almost a month back and so far so good.',\n",
       " \"The best all rounder iphone. Flipkart is doing a great job. They're delivery services are blazing fast. I got delivery on the same day. Genuine Apple Product. Working great. Talking about review There's no need of review for iphones. They're simply the best.\",\n",
       " 'We are on apple ecosystem for almost eight years now with couple of iPads and iPhones, including Xr.  Bought iPhone 11 as a gift to my daughter who loves it. We chose for a purple coloured one. Believe me it is gorgeous and towards the lighter shade. Dazzling and brilliant!  The phone is great and does excellent RAM management like any other Apple device.  The screen, though a LCD and lesser ppi as compared to other flagship phones of competitor brands, is a delight to watch with perfect re... READ MORE',\n",
       " 'A perfect phone and a good battery super camera and the sound is dynamic overall the phone is perfect for upgrading from lower iPhone model to iPhone 11',\n",
       " \"i was confused between 11 and 11 pro. i was going towards 11 pro, but the screen size was not enough for me. And i saw 11 in the showroom. i didn't find much difference in screen quality.And cameras seems to be ok with me. And i saw offer's in flipkart and made the purchase. the device is fabulous. The hardware and software quality is excellent. The new iOS is something you need to experience yourself. The drawback i found was absence of fast charger, but the pricing can compensate that. Am... READ MORE\",\n",
       " 'Product is nice at the deviled time the delivery boy not open the box and this order is oBD but he is not open and not showing product he gives Product and gone time God product is super nice and good Tq Flipkart and seller love you Flipkart Product is nice display good touch screen amazing compared to other brands over all Product is super. Tq Flipkart',\n",
       " \"phone is good but in display is 720p lcd in this price range we can get full hd OLED displays with higher refresh rate processor is very good camera is nice but looks kind of oldish in front of todays phone also there's no charging in box had to buy it seperately\",\n",
       " 'Everything is perfect pictures come out so clearly and at first I wasn’t sure when I got it then when I started to use it and get the hang of it it was amazing!! I can’t wait to see what the next future phones will be like. The screen display on this bad boy are unbelievable they are so clear and never fail me. The performance is super cool there is a lot of cool features as well I like this phone because I feel that it is easy to use and one of my favorite things about this phone is the Face... READ MORE',\n",
       " 'I dreamt about this day from a long time.... Getting an iPhone with my own money.... Super happy and worth spending every penny',\n",
       " \"If you are looking for a premium phone under 55k, this is the one for you.Got the iPhone 11 during the Republic day sale. Performance is top notch in this price range. Camera's do a perfect job in taking good quality photos and videos. Battery backup too is satisfactory. Writing this review after using for a week. Any further observations would be updated.\",\n",
       " 'Awesome camera, smooth and fast UI, display is great (though not LED) but the black area at the top could have been reduced. Battery remains a day even if used heavily. Charger in the box is ok, but 12 or 18W could have been nothing like anything. Overall an excellent product and comfortable to use. I have got it almost a month back and so far so good.',\n",
       " \"The best all rounder iphone. Flipkart is doing a great job. They're delivery services are blazing fast. I got delivery on the same day. Genuine Apple Product. Working great. Talking about review There's no need of review for iphones. They're simply the best.\",\n",
       " 'We are on apple ecosystem for almost eight years now with couple of iPads and iPhones, including Xr.  Bought iPhone 11 as a gift to my daughter who loves it. We chose for a purple coloured one. Believe me it is gorgeous and towards the lighter shade. Dazzling and brilliant!  The phone is great and does excellent RAM management like any other Apple device.  The screen, though a LCD and lesser ppi as compared to other flagship phones of competitor brands, is a delight to watch with perfect re... READ MORE',\n",
       " 'A perfect phone and a good battery super camera and the sound is dynamic overall the phone is perfect for upgrading from lower iPhone model to iPhone 11',\n",
       " \"i was confused between 11 and 11 pro. i was going towards 11 pro, but the screen size was not enough for me. And i saw 11 in the showroom. i didn't find much difference in screen quality.And cameras seems to be ok with me. And i saw offer's in flipkart and made the purchase. the device is fabulous. The hardware and software quality is excellent. The new iOS is something you need to experience yourself. The drawback i found was absence of fast charger, but the pricing can compensate that. Am... READ MORE\",\n",
       " 'Product is nice at the deviled time the delivery boy not open the box and this order is oBD but he is not open and not showing product he gives Product and gone time God product is super nice and good Tq Flipkart and seller love you Flipkart Product is nice display good touch screen amazing compared to other brands over all Product is super. Tq Flipkart',\n",
       " \"phone is good but in display is 720p lcd in this price range we can get full hd OLED displays with higher refresh rate processor is very good camera is nice but looks kind of oldish in front of todays phone also there's no charging in box had to buy it seperately\",\n",
       " 'Everything is perfect pictures come out so clearly and at first I wasn’t sure when I got it then when I started to use it and get the hang of it it was amazing!! I can’t wait to see what the next future phones will be like. The screen display on this bad boy are unbelievable they are so clear and never fail me. The performance is super cool there is a lot of cool features as well I like this phone because I feel that it is easy to use and one of my favorite things about this phone is the Face... READ MORE',\n",
       " 'I dreamt about this day from a long time.... Getting an iPhone with my own money.... Super happy and worth spending every penny',\n",
       " \"If you are looking for a premium phone under 55k, this is the one for you.Got the iPhone 11 during the Republic day sale. Performance is top notch in this price range. Camera's do a perfect job in taking good quality photos and videos. Battery backup too is satisfactory. Writing this review after using for a week. Any further observations would be updated.\",\n",
       " 'Awesome camera, smooth and fast UI, display is great (though not LED) but the black area at the top could have been reduced. Battery remains a day even if used heavily. Charger in the box is ok, but 12 or 18W could have been nothing like anything. Overall an excellent product and comfortable to use. I have got it almost a month back and so far so good.',\n",
       " \"The best all rounder iphone. Flipkart is doing a great job. They're delivery services are blazing fast. I got delivery on the same day. Genuine Apple Product. Working great. Talking about review There's no need of review for iphones. They're simply the best.\",\n",
       " 'We are on apple ecosystem for almost eight years now with couple of iPads and iPhones, including Xr.  Bought iPhone 11 as a gift to my daughter who loves it. We chose for a purple coloured one. Believe me it is gorgeous and towards the lighter shade. Dazzling and brilliant!  The phone is great and does excellent RAM management like any other Apple device.  The screen, though a LCD and lesser ppi as compared to other flagship phones of competitor brands, is a delight to watch with perfect re... READ MORE',\n",
       " 'A perfect phone and a good battery super camera and the sound is dynamic overall the phone is perfect for upgrading from lower iPhone model to iPhone 11',\n",
       " \"i was confused between 11 and 11 pro. i was going towards 11 pro, but the screen size was not enough for me. And i saw 11 in the showroom. i didn't find much difference in screen quality.And cameras seems to be ok with me. And i saw offer's in flipkart and made the purchase. the device is fabulous. The hardware and software quality is excellent. The new iOS is something you need to experience yourself. The drawback i found was absence of fast charger, but the pricing can compensate that. Am... READ MORE\",\n",
       " 'Product is nice at the deviled time the delivery boy not open the box and this order is oBD but he is not open and not showing product he gives Product and gone time God product is super nice and good Tq Flipkart and seller love you Flipkart Product is nice display good touch screen amazing compared to other brands over all Product is super. Tq Flipkart',\n",
       " \"phone is good but in display is 720p lcd in this price range we can get full hd OLED displays with higher refresh rate processor is very good camera is nice but looks kind of oldish in front of todays phone also there's no charging in box had to buy it seperately\",\n",
       " 'Everything is perfect pictures come out so clearly and at first I wasn’t sure when I got it then when I started to use it and get the hang of it it was amazing!! I can’t wait to see what the next future phones will be like. The screen display on this bad boy are unbelievable they are so clear and never fail me. The performance is super cool there is a lot of cool features as well I like this phone because I feel that it is easy to use and one of my favorite things about this phone is the Face... READ MORE',\n",
       " 'I dreamt about this day from a long time.... Getting an iPhone with my own money.... Super happy and worth spending every penny']"
      ]
     },
     "execution_count": 375,
     "metadata": {},
     "output_type": "execute_result"
    }
   ],
   "source": [
    "full_review"
   ]
  },
  {
   "cell_type": "code",
   "execution_count": 376,
   "metadata": {},
   "outputs": [
    {
     "data": {
      "text/html": [
       "<div>\n",
       "<style scoped>\n",
       "    .dataframe tbody tr th:only-of-type {\n",
       "        vertical-align: middle;\n",
       "    }\n",
       "\n",
       "    .dataframe tbody tr th {\n",
       "        vertical-align: top;\n",
       "    }\n",
       "\n",
       "    .dataframe thead th {\n",
       "        text-align: right;\n",
       "    }\n",
       "</style>\n",
       "<table border=\"1\" class=\"dataframe\">\n",
       "  <thead>\n",
       "    <tr style=\"text-align: right;\">\n",
       "      <th></th>\n",
       "      <th>Rating</th>\n",
       "      <th>Review_summary</th>\n",
       "      <th>Full_review</th>\n",
       "    </tr>\n",
       "  </thead>\n",
       "  <tbody>\n",
       "    <tr>\n",
       "      <th>0</th>\n",
       "      <td>4</td>\n",
       "      <td>Nice product</td>\n",
       "      <td>If you are looking for a premium phone under 5...</td>\n",
       "    </tr>\n",
       "    <tr>\n",
       "      <th>1</th>\n",
       "      <td>4</td>\n",
       "      <td>Good quality product</td>\n",
       "      <td>Awesome camera, smooth and fast UI, display is...</td>\n",
       "    </tr>\n",
       "    <tr>\n",
       "      <th>2</th>\n",
       "      <td>5</td>\n",
       "      <td>Best in the market!</td>\n",
       "      <td>The best all rounder iphone. Flipkart is doing...</td>\n",
       "    </tr>\n",
       "    <tr>\n",
       "      <th>3</th>\n",
       "      <td>5</td>\n",
       "      <td>Classy product</td>\n",
       "      <td>We are on apple ecosystem for almost eight yea...</td>\n",
       "    </tr>\n",
       "    <tr>\n",
       "      <th>4</th>\n",
       "      <td>5</td>\n",
       "      <td>Excellent</td>\n",
       "      <td>A perfect phone and a good battery super camer...</td>\n",
       "    </tr>\n",
       "    <tr>\n",
       "      <th>...</th>\n",
       "      <td>...</td>\n",
       "      <td>...</td>\n",
       "      <td>...</td>\n",
       "    </tr>\n",
       "    <tr>\n",
       "      <th>95</th>\n",
       "      <td>5</td>\n",
       "      <td>Mind-blowing purchase</td>\n",
       "      <td>i was confused between 11 and 11 pro. i was go...</td>\n",
       "    </tr>\n",
       "    <tr>\n",
       "      <th>96</th>\n",
       "      <td>5</td>\n",
       "      <td>Fabulous!</td>\n",
       "      <td>Product is nice at the deviled time the delive...</td>\n",
       "    </tr>\n",
       "    <tr>\n",
       "      <th>97</th>\n",
       "      <td>3</td>\n",
       "      <td>Does the job</td>\n",
       "      <td>phone is good but in display is 720p lcd in th...</td>\n",
       "    </tr>\n",
       "    <tr>\n",
       "      <th>98</th>\n",
       "      <td>5</td>\n",
       "      <td>Fabulous!</td>\n",
       "      <td>Everything is perfect pictures come out so cle...</td>\n",
       "    </tr>\n",
       "    <tr>\n",
       "      <th>99</th>\n",
       "      <td>5</td>\n",
       "      <td>Awesome</td>\n",
       "      <td>I dreamt about this day from a long time.... G...</td>\n",
       "    </tr>\n",
       "  </tbody>\n",
       "</table>\n",
       "<p>100 rows × 3 columns</p>\n",
       "</div>"
      ],
      "text/plain": [
       "   Rating         Review_summary  \\\n",
       "0       4           Nice product   \n",
       "1       4   Good quality product   \n",
       "2       5    Best in the market!   \n",
       "3       5         Classy product   \n",
       "4       5              Excellent   \n",
       "..    ...                    ...   \n",
       "95      5  Mind-blowing purchase   \n",
       "96      5              Fabulous!   \n",
       "97      3           Does the job   \n",
       "98      5              Fabulous!   \n",
       "99      5                Awesome   \n",
       "\n",
       "                                          Full_review  \n",
       "0   If you are looking for a premium phone under 5...  \n",
       "1   Awesome camera, smooth and fast UI, display is...  \n",
       "2   The best all rounder iphone. Flipkart is doing...  \n",
       "3   We are on apple ecosystem for almost eight yea...  \n",
       "4   A perfect phone and a good battery super camer...  \n",
       "..                                                ...  \n",
       "95  i was confused between 11 and 11 pro. i was go...  \n",
       "96  Product is nice at the deviled time the delive...  \n",
       "97  phone is good but in display is 720p lcd in th...  \n",
       "98  Everything is perfect pictures come out so cle...  \n",
       "99  I dreamt about this day from a long time.... G...  \n",
       "\n",
       "[100 rows x 3 columns]"
      ]
     },
     "execution_count": 376,
     "metadata": {},
     "output_type": "execute_result"
    }
   ],
   "source": [
    "Iphone_reviews=pd.DataFrame({})\n",
    "Iphone_reviews['Rating']=Rating\n",
    "Iphone_reviews['Review_summary']=Short_review\n",
    "Iphone_reviews['Full_review']=full_review\n",
    "Iphone_reviews\n"
   ]
  },
  {
   "cell_type": "markdown",
   "metadata": {},
   "source": [
    "### Q8: Scrape data for first 100 sneakers you find when you visit flipkart.com and\n",
    "search for “sneakers” in the search field.\n",
    "You have to scrape 4 attributes of each sneaker :\n",
    "1. Brand\n",
    "2. Product Description\n",
    "3. Price\n",
    "4. discount %\n"
   ]
  },
  {
   "cell_type": "code",
   "execution_count": 471,
   "metadata": {},
   "outputs": [],
   "source": [
    "#getting url\n",
    "url = ('https://www.flipkart.com/')\n",
    "driver.get(url)"
   ]
  },
  {
   "cell_type": "code",
   "execution_count": 472,
   "metadata": {},
   "outputs": [],
   "source": [
    "#search_bar\n",
    "search_bar = driver.find_element_by_xpath(\"//input[@class = '_3704LK']\")\n",
    "search_bar.send_keys('sneakers')"
   ]
  },
  {
   "cell_type": "code",
   "execution_count": 473,
   "metadata": {},
   "outputs": [],
   "source": [
    "#getting search button\n",
    "search_button = driver.find_element_by_xpath(\"//button[@class = 'L0Z3Pu']\")\n",
    "search_button.click()"
   ]
  },
  {
   "cell_type": "code",
   "execution_count": 474,
   "metadata": {},
   "outputs": [],
   "source": [
    "#next_button\n",
    "next=driver.find_element_by_xpath('/html/body/div/div/div[3]/div[1]/div[2]/div[12]/div/div/nav/a[11]')\n",
    "#getting info\n",
    "Brand=[]\n",
    "Product_Description=[]\n",
    "Price=[]\n",
    "Discount=[]\n",
    "for i in range(0,3):\n",
    "    brand=driver.find_elements_by_xpath(\"//div[@class = '_2WkVRV']\")\n",
    "    desc=driver.find_elements_by_xpath(\"//a[@class='IRpwTa']\")\n",
    "    price=driver.find_elements_by_xpath(\"//div[@class='_30jeq3']\")\n",
    "    discount=driver.find_elements_by_xpath(\"//div[@class = '_3Ay6Sb']//span\")\n",
    "    for i in brand:\n",
    "        Brand.append(i.text)\n",
    "    for j in desc:\n",
    "        Product_Description.append(j.text)\n",
    "    for k in price:\n",
    "        Price.append(k.text)\n",
    "    for disc in discount:\n",
    "        Discount.append(disc.text)\n",
    "next.click()"
   ]
  },
  {
   "cell_type": "code",
   "execution_count": 475,
   "metadata": {},
   "outputs": [
    {
     "data": {
      "text/plain": [
       "['Chevit',\n",
       " 'India hub',\n",
       " 'CALCADOS',\n",
       " 'Shoes Bank',\n",
       " 'Robbie jones',\n",
       " 'ORICUM',\n",
       " 'KULP',\n",
       " 'PEHANOSA',\n",
       " 'Alfiya',\n",
       " 'Stefano Rads',\n",
       " 'bluemaker',\n",
       " 'Numenzo',\n",
       " 'HOTSTYLE',\n",
       " 'Chevit',\n",
       " 'Absolute comfort',\n",
       " 'Birde',\n",
       " 'ASTEROID',\n",
       " 'HOTSTYLE',\n",
       " 'restinfoot',\n",
       " 'Chevit',\n",
       " 'Birde',\n",
       " 'SCATCHITE',\n",
       " 'Chevit',\n",
       " 'kardam&sons',\n",
       " 'PUMA',\n",
       " 'Kraasa',\n",
       " 'Zsyto',\n",
       " 'Chevit',\n",
       " 'D-SNEAKERZ',\n",
       " 'Zorth',\n",
       " 'ORICUM',\n",
       " 'bluemaker',\n",
       " 'SPARX',\n",
       " 'World Wear Footwear',\n",
       " 'Chevit',\n",
       " 'Aura',\n",
       " 'TR',\n",
       " 'SPARX',\n",
       " 'PUMA',\n",
       " 'PUMA',\n",
       " 'Chevit',\n",
       " 'India hub',\n",
       " 'CALCADOS',\n",
       " 'Shoes Bank',\n",
       " 'Robbie jones',\n",
       " 'ORICUM',\n",
       " 'KULP',\n",
       " 'PEHANOSA',\n",
       " 'Alfiya',\n",
       " 'Stefano Rads',\n",
       " 'bluemaker',\n",
       " 'Numenzo',\n",
       " 'HOTSTYLE',\n",
       " 'Chevit',\n",
       " 'Absolute comfort',\n",
       " 'Birde',\n",
       " 'ASTEROID',\n",
       " 'HOTSTYLE',\n",
       " 'restinfoot',\n",
       " 'Chevit',\n",
       " 'Birde',\n",
       " 'SCATCHITE',\n",
       " 'Chevit',\n",
       " 'kardam&sons',\n",
       " 'PUMA',\n",
       " 'Kraasa',\n",
       " 'Zsyto',\n",
       " 'Chevit',\n",
       " 'D-SNEAKERZ',\n",
       " 'Zorth',\n",
       " 'ORICUM',\n",
       " 'bluemaker',\n",
       " 'SPARX',\n",
       " 'World Wear Footwear',\n",
       " 'Chevit',\n",
       " 'Aura',\n",
       " 'TR',\n",
       " 'SPARX',\n",
       " 'PUMA',\n",
       " 'PUMA',\n",
       " 'Chevit',\n",
       " 'India hub',\n",
       " 'CALCADOS',\n",
       " 'Shoes Bank',\n",
       " 'Robbie jones',\n",
       " 'ORICUM',\n",
       " 'KULP',\n",
       " 'PEHANOSA',\n",
       " 'Alfiya',\n",
       " 'Stefano Rads',\n",
       " 'bluemaker',\n",
       " 'Numenzo',\n",
       " 'HOTSTYLE',\n",
       " 'Chevit',\n",
       " 'Absolute comfort',\n",
       " 'Birde',\n",
       " 'ASTEROID',\n",
       " 'HOTSTYLE',\n",
       " 'restinfoot',\n",
       " 'Chevit']"
      ]
     },
     "execution_count": 475,
     "metadata": {},
     "output_type": "execute_result"
    }
   ],
   "source": [
    "Brand=Brand[:100]\n",
    "Brand"
   ]
  },
  {
   "cell_type": "code",
   "execution_count": 476,
   "metadata": {},
   "outputs": [
    {
     "data": {
      "text/plain": [
       "['Unique & Perfect Collection Combo Pack of 02 Shoes for ...',\n",
       " \"White Sneaker For Men's/Boy's Sneakers For Men\",\n",
       " 'Sneakers For Men',\n",
       " 'Combo pack of 2 casual sneaker shoes for men Sneakers F...',\n",
       " 'Sneakers For Men',\n",
       " 'Shoes in Black Color Party wear/Outdoor/Casual Shoes Fo...',\n",
       " 'casual for men (blue 06) Sneakers For Men',\n",
       " 'Sneakers For Men',\n",
       " 'Sneakers Sneakers For Men',\n",
       " 'Super 445 Fashion Sneakers For Men',\n",
       " \"Men's Stylish Casual Shoes Sneakers For Men\",\n",
       " \"Luxury Branded Fashionable Men's Casual Walking Partywe...\",\n",
       " 'Sneakers Sneakers For Men',\n",
       " \"Casual shoes,Sneakers for men's,shoes for men's Sneaker...\",\n",
       " 'Perfect & Affordable Combo Pack of 02 Pairs Sneakers Ou...',\n",
       " 'Combo Pack of 4 Casual Shoes Sneakers For Men',\n",
       " 'Sneakers Sneakers For Men',\n",
       " \"Super & Trendy Men's Pack of 02 Pair Shoes for Boys Cas...\",\n",
       " 'Fashionable casual sneaker shoes Sneakers For Men',\n",
       " 'Lazy Knit Slip On IDP Sneakers For Men',\n",
       " 'Series 7 Sneakers For Men',\n",
       " \"Men's Combo Pack of 02 Shoes for Men Casual Sneakers Ou...\",\n",
       " \"Casual , Partywear Sneakers Shoes For Men's And Boys Wh...\",\n",
       " 'Sneakers For Men',\n",
       " 'Combo pack of 2 Casuals Shoes For Men (1563-1564) Sneak...',\n",
       " 'casual for men (beige 06) Sneakers For Men',\n",
       " 'SD-323 Sneakers For Men',\n",
       " 'Combo Pack of 4 Latest Collection Stylish Casual Loafer...',\n",
       " 'Speed Set of 5 Pairs Sneakers Outdoors Casuals for Men ...',\n",
       " 'Combo Pack of 2 Casual Shoes Sneakers For Men',\n",
       " 'Sneakers For Men',\n",
       " 'SM-322 Sneakers For Men',\n",
       " 'Acrux IDP Sneakers For Men',\n",
       " 'Corode IDP Sneakers For Men',\n",
       " 'Unique & Perfect Collection Combo Pack of 02 Shoes for ...',\n",
       " \"White Sneaker For Men's/Boy's Sneakers For Men\",\n",
       " 'Sneakers For Men',\n",
       " 'Combo pack of 2 casual sneaker shoes for men Sneakers F...',\n",
       " 'Sneakers For Men',\n",
       " 'Shoes in Black Color Party wear/Outdoor/Casual Shoes Fo...',\n",
       " 'casual for men (blue 06) Sneakers For Men',\n",
       " 'Sneakers For Men',\n",
       " 'Sneakers Sneakers For Men',\n",
       " 'Super 445 Fashion Sneakers For Men',\n",
       " \"Men's Stylish Casual Shoes Sneakers For Men\",\n",
       " \"Luxury Branded Fashionable Men's Casual Walking Partywe...\",\n",
       " 'Sneakers Sneakers For Men',\n",
       " \"Casual shoes,Sneakers for men's,shoes for men's Sneaker...\",\n",
       " 'Perfect & Affordable Combo Pack of 02 Pairs Sneakers Ou...',\n",
       " 'Combo Pack of 4 Casual Shoes Sneakers For Men',\n",
       " 'Sneakers Sneakers For Men',\n",
       " \"Super & Trendy Men's Pack of 02 Pair Shoes for Boys Cas...\",\n",
       " 'Fashionable casual sneaker shoes Sneakers For Men',\n",
       " 'Lazy Knit Slip On IDP Sneakers For Men',\n",
       " 'Series 7 Sneakers For Men',\n",
       " \"Men's Combo Pack of 02 Shoes for Men Casual Sneakers Ou...\",\n",
       " \"Casual , Partywear Sneakers Shoes For Men's And Boys Wh...\",\n",
       " 'Sneakers For Men',\n",
       " 'Combo pack of 2 Casuals Shoes For Men (1563-1564) Sneak...',\n",
       " 'casual for men (beige 06) Sneakers For Men',\n",
       " 'SD-323 Sneakers For Men',\n",
       " 'Combo Pack of 4 Latest Collection Stylish Casual Loafer...',\n",
       " 'Speed Set of 5 Pairs Sneakers Outdoors Casuals for Men ...',\n",
       " 'Combo Pack of 2 Casual Shoes Sneakers For Men',\n",
       " 'Sneakers For Men',\n",
       " 'SM-322 Sneakers For Men',\n",
       " 'Acrux IDP Sneakers For Men',\n",
       " 'Corode IDP Sneakers For Men',\n",
       " 'Unique & Perfect Collection Combo Pack of 02 Shoes for ...',\n",
       " \"White Sneaker For Men's/Boy's Sneakers For Men\",\n",
       " 'Sneakers For Men',\n",
       " 'Combo pack of 2 casual sneaker shoes for men Sneakers F...',\n",
       " 'Sneakers For Men',\n",
       " 'Shoes in Black Color Party wear/Outdoor/Casual Shoes Fo...',\n",
       " 'casual for men (blue 06) Sneakers For Men',\n",
       " 'Sneakers For Men',\n",
       " 'Sneakers Sneakers For Men',\n",
       " 'Super 445 Fashion Sneakers For Men',\n",
       " \"Men's Stylish Casual Shoes Sneakers For Men\",\n",
       " \"Luxury Branded Fashionable Men's Casual Walking Partywe...\",\n",
       " 'Sneakers Sneakers For Men',\n",
       " \"Casual shoes,Sneakers for men's,shoes for men's Sneaker...\",\n",
       " 'Perfect & Affordable Combo Pack of 02 Pairs Sneakers Ou...',\n",
       " 'Combo Pack of 4 Casual Shoes Sneakers For Men',\n",
       " 'Sneakers Sneakers For Men',\n",
       " \"Super & Trendy Men's Pack of 02 Pair Shoes for Boys Cas...\",\n",
       " 'Fashionable casual sneaker shoes Sneakers For Men',\n",
       " 'Lazy Knit Slip On IDP Sneakers For Men',\n",
       " 'Series 7 Sneakers For Men',\n",
       " \"Men's Combo Pack of 02 Shoes for Men Casual Sneakers Ou...\",\n",
       " \"Casual , Partywear Sneakers Shoes For Men's And Boys Wh...\",\n",
       " 'Sneakers For Men',\n",
       " 'Combo pack of 2 Casuals Shoes For Men (1563-1564) Sneak...',\n",
       " 'casual for men (beige 06) Sneakers For Men',\n",
       " 'SD-323 Sneakers For Men',\n",
       " 'Combo Pack of 4 Latest Collection Stylish Casual Loafer...',\n",
       " 'Speed Set of 5 Pairs Sneakers Outdoors Casuals for Men ...',\n",
       " 'Combo Pack of 2 Casual Shoes Sneakers For Men',\n",
       " 'Sneakers For Men',\n",
       " 'SM-322 Sneakers For Men']"
      ]
     },
     "execution_count": 476,
     "metadata": {},
     "output_type": "execute_result"
    }
   ],
   "source": [
    "Product_Description=Product_Description[:100]\n",
    "Product_Description"
   ]
  },
  {
   "cell_type": "code",
   "execution_count": 477,
   "metadata": {},
   "outputs": [
    {
     "data": {
      "text/plain": [
       "['₹448',\n",
       " '₹389',\n",
       " '₹748',\n",
       " '₹349',\n",
       " '₹474',\n",
       " '₹377',\n",
       " '₹489',\n",
       " '₹499',\n",
       " '₹377',\n",
       " '₹242',\n",
       " '₹474',\n",
       " '₹398',\n",
       " '₹283',\n",
       " '₹369',\n",
       " '₹199',\n",
       " '₹283',\n",
       " '₹499',\n",
       " '₹283',\n",
       " '₹379',\n",
       " '₹473',\n",
       " '₹661',\n",
       " '₹398',\n",
       " '₹472',\n",
       " '₹379',\n",
       " '₹1,506',\n",
       " '₹416',\n",
       " '₹398',\n",
       " '₹498',\n",
       " '₹365',\n",
       " '₹538',\n",
       " '₹472',\n",
       " '₹474',\n",
       " '₹630',\n",
       " '₹499',\n",
       " '₹719',\n",
       " '₹525',\n",
       " '₹449',\n",
       " '₹769',\n",
       " '₹1,419',\n",
       " '₹1,644',\n",
       " '₹448',\n",
       " '₹389',\n",
       " '₹748',\n",
       " '₹349',\n",
       " '₹474',\n",
       " '₹377',\n",
       " '₹489',\n",
       " '₹499',\n",
       " '₹377',\n",
       " '₹242',\n",
       " '₹474',\n",
       " '₹398',\n",
       " '₹283',\n",
       " '₹369',\n",
       " '₹199',\n",
       " '₹283',\n",
       " '₹499',\n",
       " '₹283',\n",
       " '₹379',\n",
       " '₹473',\n",
       " '₹661',\n",
       " '₹398',\n",
       " '₹472',\n",
       " '₹379',\n",
       " '₹1,506',\n",
       " '₹416',\n",
       " '₹398',\n",
       " '₹498',\n",
       " '₹365',\n",
       " '₹538',\n",
       " '₹472',\n",
       " '₹474',\n",
       " '₹630',\n",
       " '₹499',\n",
       " '₹719',\n",
       " '₹525',\n",
       " '₹449',\n",
       " '₹769',\n",
       " '₹1,419',\n",
       " '₹1,644',\n",
       " '₹448',\n",
       " '₹389',\n",
       " '₹748',\n",
       " '₹349',\n",
       " '₹474',\n",
       " '₹377',\n",
       " '₹489',\n",
       " '₹499',\n",
       " '₹377',\n",
       " '₹242',\n",
       " '₹474',\n",
       " '₹398',\n",
       " '₹283',\n",
       " '₹369',\n",
       " '₹199',\n",
       " '₹283',\n",
       " '₹499',\n",
       " '₹283',\n",
       " '₹379',\n",
       " '₹473']"
      ]
     },
     "execution_count": 477,
     "metadata": {},
     "output_type": "execute_result"
    }
   ],
   "source": [
    "Price=Price[:100]\n",
    "Price"
   ]
  },
  {
   "cell_type": "code",
   "execution_count": 478,
   "metadata": {},
   "outputs": [
    {
     "data": {
      "text/plain": [
       "['70% off',\n",
       " '87% off',\n",
       " '62% off',\n",
       " '65% off',\n",
       " '52% off',\n",
       " '62% off',\n",
       " '51% off',\n",
       " '50% off',\n",
       " '62% off',\n",
       " '65% off',\n",
       " '52% off',\n",
       " '60% off',\n",
       " '43% off',\n",
       " '26% off',\n",
       " '60% off',\n",
       " '43% off',\n",
       " '75% off',\n",
       " '43% off',\n",
       " '62% off',\n",
       " '73% off',\n",
       " '66% off',\n",
       " '60% off',\n",
       " '76% off',\n",
       " '81% off',\n",
       " '49% off',\n",
       " '58% off',\n",
       " '69% off',\n",
       " '50% off',\n",
       " '44% off',\n",
       " '46% off',\n",
       " '52% off',\n",
       " '52% off',\n",
       " '15% off',\n",
       " '81% off',\n",
       " '71% off',\n",
       " '47% off',\n",
       " '77% off',\n",
       " '23% off',\n",
       " '56% off',\n",
       " '58% off',\n",
       " '70% off',\n",
       " '87% off',\n",
       " '62% off',\n",
       " '65% off',\n",
       " '52% off',\n",
       " '62% off',\n",
       " '51% off',\n",
       " '50% off',\n",
       " '62% off',\n",
       " '65% off',\n",
       " '52% off',\n",
       " '60% off',\n",
       " '43% off',\n",
       " '26% off',\n",
       " '60% off',\n",
       " '43% off',\n",
       " '75% off',\n",
       " '43% off',\n",
       " '62% off',\n",
       " '73% off',\n",
       " '66% off',\n",
       " '60% off',\n",
       " '76% off',\n",
       " '81% off',\n",
       " '49% off',\n",
       " '58% off',\n",
       " '69% off',\n",
       " '50% off',\n",
       " '44% off',\n",
       " '46% off',\n",
       " '52% off',\n",
       " '52% off',\n",
       " '15% off',\n",
       " '81% off',\n",
       " '71% off',\n",
       " '47% off',\n",
       " '77% off',\n",
       " '23% off',\n",
       " '56% off',\n",
       " '58% off',\n",
       " '70% off',\n",
       " '87% off',\n",
       " '62% off',\n",
       " '65% off',\n",
       " '52% off',\n",
       " '62% off',\n",
       " '51% off',\n",
       " '50% off',\n",
       " '62% off',\n",
       " '65% off',\n",
       " '52% off',\n",
       " '60% off',\n",
       " '43% off',\n",
       " '26% off',\n",
       " '60% off',\n",
       " '43% off',\n",
       " '75% off',\n",
       " '43% off',\n",
       " '62% off',\n",
       " '73% off']"
      ]
     },
     "execution_count": 478,
     "metadata": {},
     "output_type": "execute_result"
    }
   ],
   "source": [
    "#Discount\n",
    "Discount=Discount[:100]\n",
    "Discount"
   ]
  },
  {
   "cell_type": "code",
   "execution_count": 479,
   "metadata": {},
   "outputs": [
    {
     "data": {
      "text/html": [
       "<div>\n",
       "<style scoped>\n",
       "    .dataframe tbody tr th:only-of-type {\n",
       "        vertical-align: middle;\n",
       "    }\n",
       "\n",
       "    .dataframe tbody tr th {\n",
       "        vertical-align: top;\n",
       "    }\n",
       "\n",
       "    .dataframe thead th {\n",
       "        text-align: right;\n",
       "    }\n",
       "</style>\n",
       "<table border=\"1\" class=\"dataframe\">\n",
       "  <thead>\n",
       "    <tr style=\"text-align: right;\">\n",
       "      <th></th>\n",
       "      <th>Brand</th>\n",
       "      <th>Price</th>\n",
       "      <th>Product_Description</th>\n",
       "      <th>Discount</th>\n",
       "    </tr>\n",
       "  </thead>\n",
       "  <tbody>\n",
       "    <tr>\n",
       "      <th>0</th>\n",
       "      <td>Chevit</td>\n",
       "      <td>₹448</td>\n",
       "      <td>Unique &amp; Perfect Collection Combo Pack of 02 S...</td>\n",
       "      <td>70% off</td>\n",
       "    </tr>\n",
       "    <tr>\n",
       "      <th>1</th>\n",
       "      <td>India hub</td>\n",
       "      <td>₹389</td>\n",
       "      <td>White Sneaker For Men's/Boy's Sneakers For Men</td>\n",
       "      <td>87% off</td>\n",
       "    </tr>\n",
       "    <tr>\n",
       "      <th>2</th>\n",
       "      <td>CALCADOS</td>\n",
       "      <td>₹748</td>\n",
       "      <td>Sneakers For Men</td>\n",
       "      <td>62% off</td>\n",
       "    </tr>\n",
       "    <tr>\n",
       "      <th>3</th>\n",
       "      <td>Shoes Bank</td>\n",
       "      <td>₹349</td>\n",
       "      <td>Combo pack of 2 casual sneaker shoes for men S...</td>\n",
       "      <td>65% off</td>\n",
       "    </tr>\n",
       "    <tr>\n",
       "      <th>4</th>\n",
       "      <td>Robbie jones</td>\n",
       "      <td>₹474</td>\n",
       "      <td>Sneakers For Men</td>\n",
       "      <td>52% off</td>\n",
       "    </tr>\n",
       "    <tr>\n",
       "      <th>...</th>\n",
       "      <td>...</td>\n",
       "      <td>...</td>\n",
       "      <td>...</td>\n",
       "      <td>...</td>\n",
       "    </tr>\n",
       "    <tr>\n",
       "      <th>95</th>\n",
       "      <td>Birde</td>\n",
       "      <td>₹283</td>\n",
       "      <td>Combo Pack of 4 Latest Collection Stylish Casu...</td>\n",
       "      <td>43% off</td>\n",
       "    </tr>\n",
       "    <tr>\n",
       "      <th>96</th>\n",
       "      <td>ASTEROID</td>\n",
       "      <td>₹499</td>\n",
       "      <td>Speed Set of 5 Pairs Sneakers Outdoors Casuals...</td>\n",
       "      <td>75% off</td>\n",
       "    </tr>\n",
       "    <tr>\n",
       "      <th>97</th>\n",
       "      <td>HOTSTYLE</td>\n",
       "      <td>₹283</td>\n",
       "      <td>Combo Pack of 2 Casual Shoes Sneakers For Men</td>\n",
       "      <td>43% off</td>\n",
       "    </tr>\n",
       "    <tr>\n",
       "      <th>98</th>\n",
       "      <td>restinfoot</td>\n",
       "      <td>₹379</td>\n",
       "      <td>Sneakers For Men</td>\n",
       "      <td>62% off</td>\n",
       "    </tr>\n",
       "    <tr>\n",
       "      <th>99</th>\n",
       "      <td>Chevit</td>\n",
       "      <td>₹473</td>\n",
       "      <td>SM-322 Sneakers For Men</td>\n",
       "      <td>73% off</td>\n",
       "    </tr>\n",
       "  </tbody>\n",
       "</table>\n",
       "<p>100 rows × 4 columns</p>\n",
       "</div>"
      ],
      "text/plain": [
       "           Brand Price                                Product_Description  \\\n",
       "0         Chevit  ₹448  Unique & Perfect Collection Combo Pack of 02 S...   \n",
       "1      India hub  ₹389     White Sneaker For Men's/Boy's Sneakers For Men   \n",
       "2       CALCADOS  ₹748                                   Sneakers For Men   \n",
       "3     Shoes Bank  ₹349  Combo pack of 2 casual sneaker shoes for men S...   \n",
       "4   Robbie jones  ₹474                                   Sneakers For Men   \n",
       "..           ...   ...                                                ...   \n",
       "95         Birde  ₹283  Combo Pack of 4 Latest Collection Stylish Casu...   \n",
       "96      ASTEROID  ₹499  Speed Set of 5 Pairs Sneakers Outdoors Casuals...   \n",
       "97      HOTSTYLE  ₹283      Combo Pack of 2 Casual Shoes Sneakers For Men   \n",
       "98    restinfoot  ₹379                                   Sneakers For Men   \n",
       "99        Chevit  ₹473                            SM-322 Sneakers For Men   \n",
       "\n",
       "   Discount  \n",
       "0   70% off  \n",
       "1   87% off  \n",
       "2   62% off  \n",
       "3   65% off  \n",
       "4   52% off  \n",
       "..      ...  \n",
       "95  43% off  \n",
       "96  75% off  \n",
       "97  43% off  \n",
       "98  62% off  \n",
       "99  73% off  \n",
       "\n",
       "[100 rows x 4 columns]"
      ]
     },
     "execution_count": 479,
     "metadata": {},
     "output_type": "execute_result"
    }
   ],
   "source": [
    "#making dataframe\n",
    "Sneakers=pd.DataFrame({})\n",
    "Sneakers[\"Brand\"]=Brand\n",
    "Sneakers[\"Price\"]=Price\n",
    "Sneakers['Product_Description']=Product_Description\n",
    "Sneakers[\"Discount\"]=Discount\n",
    "Sneakers\n",
    "\n"
   ]
  },
  {
   "cell_type": "markdown",
   "metadata": {},
   "source": [
    "### Q9: Go to the link - https://www.myntra.com/shoes\n",
    "Set Price filter to “Rs. 6649 to Rs. 13099” , Color filter to “Black”, as shown in\n",
    "the below image\n",
    "And then scrape First 100 shoes data you get. The data should include “Brand” of\n",
    "the shoes , Short Shoe description, price of the shoe as shown in the below image."
   ]
  },
  {
   "cell_type": "code",
   "execution_count": 501,
   "metadata": {},
   "outputs": [],
   "source": [
    "#getting url\n",
    "url = ('https://www.myntra.com/shoes')\n",
    "driver.get(url)"
   ]
  },
  {
   "cell_type": "code",
   "execution_count": 502,
   "metadata": {},
   "outputs": [],
   "source": [
    "#color filter\n",
    "color_fil = driver.find_element_by_xpath(\"//span[@data-colorhex = 'black']\")\n",
    "color_fil.click()"
   ]
  },
  {
   "cell_type": "code",
   "execution_count": 503,
   "metadata": {},
   "outputs": [],
   "source": [
    "#price filter\n",
    "price_fil = driver.find_element_by_xpath(\"//ul[@class = 'price-list']/li[2]\")\n",
    "price_fil.click()"
   ]
  },
  {
   "cell_type": "code",
   "execution_count": 504,
   "metadata": {},
   "outputs": [],
   "source": [
    "#extracting the details\n",
    "Brand = []\n",
    "Description = []\n",
    "Price = []\n",
    "for i in range(0,2):\n",
    "    brand = driver.find_elements_by_xpath(\"//h3[@class ='product-brand']\")\n",
    "    for i in brand:\n",
    "        Brand.append(i.text)\n",
    "    descr = driver.find_elements_by_xpath(\"//div[@class ='product-productMetaInfo']/h4[1]\")\n",
    "    for i in descr:\n",
    "        Description.append(i.text)\n",
    "    price = driver.find_elements_by_xpath(\"//div[@class = 'product-price']\")\n",
    "    for i in price:\n",
    "        Price.append(i.text)\n",
    "nextpage = driver.find_element_by_xpath(\"//li[@class = 'pagination-next']/a\")\n",
    "nextpage.click()"
   ]
  },
  {
   "cell_type": "code",
   "execution_count": 505,
   "metadata": {},
   "outputs": [
    {
     "data": {
      "text/plain": [
       "(['Nike',\n",
       "  'Nike',\n",
       "  'Nike',\n",
       "  'Nike',\n",
       "  'Nike',\n",
       "  'Skechers',\n",
       "  'Nike',\n",
       "  'Nike',\n",
       "  'Nike',\n",
       "  'ALDO',\n",
       "  'UNDER ARMOUR',\n",
       "  'Hush Puppies',\n",
       "  'UNDER ARMOUR',\n",
       "  'ADIDAS',\n",
       "  'Puma',\n",
       "  'FORCLAZ By Decathlon',\n",
       "  'Nike',\n",
       "  'ASICS',\n",
       "  'Puma',\n",
       "  'Puma',\n",
       "  'UNDER ARMOUR',\n",
       "  'Nike',\n",
       "  'Puma',\n",
       "  'UNDER ARMOUR',\n",
       "  'ADIDAS Originals',\n",
       "  'ASICS',\n",
       "  'UNDER ARMOUR',\n",
       "  'Skechers',\n",
       "  'ASICS',\n",
       "  'Reebok',\n",
       "  'UNDER ARMOUR',\n",
       "  'Tommy Hilfiger',\n",
       "  'UNDER ARMOUR',\n",
       "  'Tommy Hilfiger',\n",
       "  'ALDO',\n",
       "  'Kalenji By Decathlon',\n",
       "  'ALDO',\n",
       "  'Ruosh',\n",
       "  'RAPAWALK',\n",
       "  'J.FONTINI',\n",
       "  'UNDER ARMOUR',\n",
       "  'J.FONTINI',\n",
       "  'Hush Puppies',\n",
       "  'RAPAWALK',\n",
       "  'RAPAWALK',\n",
       "  'Hush Puppies',\n",
       "  'RAPAWALK',\n",
       "  'Heel & Buckle London',\n",
       "  'Ruosh',\n",
       "  'FILA',\n",
       "  'Nike',\n",
       "  'Nike',\n",
       "  'Nike',\n",
       "  'Nike',\n",
       "  'Nike',\n",
       "  'Skechers',\n",
       "  'Nike',\n",
       "  'Nike',\n",
       "  'Nike',\n",
       "  'ALDO',\n",
       "  'UNDER ARMOUR',\n",
       "  'Hush Puppies',\n",
       "  'UNDER ARMOUR',\n",
       "  'ADIDAS',\n",
       "  'Puma',\n",
       "  'FORCLAZ By Decathlon',\n",
       "  'Nike',\n",
       "  'ASICS',\n",
       "  'Puma',\n",
       "  'Puma',\n",
       "  'UNDER ARMOUR',\n",
       "  'Nike',\n",
       "  'Puma',\n",
       "  'UNDER ARMOUR',\n",
       "  'ADIDAS Originals',\n",
       "  'ASICS',\n",
       "  'UNDER ARMOUR',\n",
       "  'Skechers',\n",
       "  'ASICS',\n",
       "  'Reebok',\n",
       "  'UNDER ARMOUR',\n",
       "  'Tommy Hilfiger',\n",
       "  'UNDER ARMOUR',\n",
       "  'Tommy Hilfiger',\n",
       "  'ALDO',\n",
       "  'Kalenji By Decathlon',\n",
       "  'ALDO',\n",
       "  'Ruosh',\n",
       "  'RAPAWALK',\n",
       "  'J.FONTINI',\n",
       "  'UNDER ARMOUR',\n",
       "  'J.FONTINI',\n",
       "  'Hush Puppies',\n",
       "  'RAPAWALK',\n",
       "  'RAPAWALK',\n",
       "  'Hush Puppies',\n",
       "  'RAPAWALK',\n",
       "  'Heel & Buckle London',\n",
       "  'Ruosh',\n",
       "  'FILA'],\n",
       " 100)"
      ]
     },
     "execution_count": 505,
     "metadata": {},
     "output_type": "execute_result"
    }
   ],
   "source": [
    "Brand,len(Brand)"
   ]
  },
  {
   "cell_type": "code",
   "execution_count": 506,
   "metadata": {},
   "outputs": [
    {
     "data": {
      "text/plain": [
       "(['Men ZOOM FREAK 2 Basketball',\n",
       "  'Unisex COSMIC UNITY Basketball',\n",
       "  'Women PEGASUS 37 Running Shoes',\n",
       "  'Men JORDAN DELTA Basketball',\n",
       "  'AIR ZOOM PEGASUS Running Shoes',\n",
       "  'Men GO RUN 7+ Running Shoes',\n",
       "  'Men KD13 EP Basketball Shoes',\n",
       "  'Men JOYRIDE Running Shoes',\n",
       "  'Women REACT Running Shoes',\n",
       "  'Women Sandals',\n",
       "  'HOVR Sonic 3 Running Shoes',\n",
       "  'Men Solid Leather Formal Slip-Ons',\n",
       "  'Women HOVR Rise 2 Training',\n",
       "  'Women SUPERNOVA Running Shoes',\n",
       "  'Unisex RS-Fast Nano Sneakers',\n",
       "  'TREKKING 100 Boots',\n",
       "  'Men JORDAN DELTA Sneakers',\n",
       "  'Women Running Shoes',\n",
       "  'Women Eternity Nitro Running',\n",
       "  'Unisex RS-X Pop Sneakers',\n",
       "  'Charged Rogue 2 Wide 2E Shoes',\n",
       "  'Men AIR FLIGHT 89 Sneakers',\n",
       "  'Men Velocity Nitro Running',\n",
       "  'Unisex SC 3ZER0 IV Basketball',\n",
       "  'Men ZX 2K Boost Solid Sneakers',\n",
       "  'Women Running Shoes',\n",
       "  'Charged Impulse Running Shoes',\n",
       "  \"Women D'LITES 3.0 Sneakers\",\n",
       "  'Men Running Shoes',\n",
       "  'Forever Floatride Energy 2',\n",
       "  'Women HOVR Apex 2 Training',\n",
       "  'Men Solid Leather Sneakers',\n",
       "  'Women TriBase Reign 2 Training',\n",
       "  'Men Solid Leather Sneakers',\n",
       "  'Women Black Sneakers',\n",
       "  'Men KD500 Running Shoe',\n",
       "  'Women Open Toe Flats',\n",
       "  'Men Textured Derbys',\n",
       "  'Standard Width Leather Slip Ons',\n",
       "  'Men Textured Leather Loafers',\n",
       "  'HOVR Sonic 3 Running Shoes',\n",
       "  'Men Textured Leather Loafers',\n",
       "  'Men Solid Leather Formal Slip-Ons',\n",
       "  'Standard Width Leather Monks',\n",
       "  'Standard Width Leather Oxfords',\n",
       "  'Men Formal Derbys',\n",
       "  'Wide Width Leather Oxfords',\n",
       "  'Women Peep Toe Heels',\n",
       "  'Men Formal Leather Brogues',\n",
       "  'Women Sneakers Casual Shoes',\n",
       "  'Men ZOOM FREAK 2 Basketball',\n",
       "  'Unisex COSMIC UNITY Basketball',\n",
       "  'Women PEGASUS 37 Running Shoes',\n",
       "  'Men JORDAN DELTA Basketball',\n",
       "  'AIR ZOOM PEGASUS Running Shoes',\n",
       "  'Men GO RUN 7+ Running Shoes',\n",
       "  'Men KD13 EP Basketball Shoes',\n",
       "  'Men JOYRIDE Running Shoes',\n",
       "  'Women REACT Running Shoes',\n",
       "  'Women Sandals',\n",
       "  'HOVR Sonic 3 Running Shoes',\n",
       "  'Men Solid Leather Formal Slip-Ons',\n",
       "  'Women HOVR Rise 2 Training',\n",
       "  'Women SUPERNOVA Running Shoes',\n",
       "  'Unisex RS-Fast Nano Sneakers',\n",
       "  'TREKKING 100 Boots',\n",
       "  'Men JORDAN DELTA Sneakers',\n",
       "  'Women Running Shoes',\n",
       "  'Women Eternity Nitro Running',\n",
       "  'Unisex RS-X Pop Sneakers',\n",
       "  'Charged Rogue 2 Wide 2E Shoes',\n",
       "  'Men AIR FLIGHT 89 Sneakers',\n",
       "  'Men Velocity Nitro Running',\n",
       "  'Unisex SC 3ZER0 IV Basketball',\n",
       "  'Men ZX 2K Boost Solid Sneakers',\n",
       "  'Women Running Shoes',\n",
       "  'Charged Impulse Running Shoes',\n",
       "  \"Women D'LITES 3.0 Sneakers\",\n",
       "  'Men Running Shoes',\n",
       "  'Forever Floatride Energy 2',\n",
       "  'Women HOVR Apex 2 Training',\n",
       "  'Men Solid Leather Sneakers',\n",
       "  'Women TriBase Reign 2 Training',\n",
       "  'Men Solid Leather Sneakers',\n",
       "  'Women Black Sneakers',\n",
       "  'Men KD500 Running Shoe',\n",
       "  'Women Open Toe Flats',\n",
       "  'Men Textured Derbys',\n",
       "  'Standard Width Leather Slip Ons',\n",
       "  'Men Textured Leather Loafers',\n",
       "  'HOVR Sonic 3 Running Shoes',\n",
       "  'Men Textured Leather Loafers',\n",
       "  'Men Solid Leather Formal Slip-Ons',\n",
       "  'Standard Width Leather Monks',\n",
       "  'Standard Width Leather Oxfords',\n",
       "  'Men Formal Derbys',\n",
       "  'Wide Width Leather Oxfords',\n",
       "  'Women Peep Toe Heels',\n",
       "  'Men Formal Leather Brogues',\n",
       "  'Women Sneakers Casual Shoes'],\n",
       " 100)"
      ]
     },
     "execution_count": 506,
     "metadata": {},
     "output_type": "execute_result"
    }
   ],
   "source": [
    "Description,len(Description)"
   ]
  },
  {
   "cell_type": "code",
   "execution_count": 507,
   "metadata": {},
   "outputs": [
    {
     "data": {
      "text/plain": [
       "(['Rs. 7206Rs. 10295(30% OFF)',\n",
       "  'Rs. 11470Rs. 13495(15% OFF)',\n",
       "  'Rs. 6996Rs. 9995(30% OFF)',\n",
       "  'Rs. 12495',\n",
       "  'Rs. 11495',\n",
       "  'Rs. 9999',\n",
       "  'Rs. 12995',\n",
       "  'Rs. 10496Rs. 14995(30% OFF)',\n",
       "  'Rs. 8396Rs. 11995(30% OFF)',\n",
       "  'Rs. 8999',\n",
       "  'Rs. 7699Rs. 10999(30% OFF)',\n",
       "  'Rs. 8999',\n",
       "  'Rs. 6999Rs. 9999(30% OFF)',\n",
       "  'Rs. 7499Rs. 9999(25% OFF)',\n",
       "  'Rs. 7499Rs. 9999(25% OFF)',\n",
       "  'Rs. 6999',\n",
       "  'Rs. 10995',\n",
       "  'Rs. 9799Rs. 13999(30% OFF)',\n",
       "  'Rs. 7149Rs. 12999(45% OFF)',\n",
       "  'Rs. 7499Rs. 9999(25% OFF)',\n",
       "  'Rs. 7999',\n",
       "  'Rs. 7206Rs. 10295(30% OFF)',\n",
       "  'Rs. 10999',\n",
       "  'Rs. 8999',\n",
       "  'Rs. 8399Rs. 13999(40% OFF)',\n",
       "  'Rs. 6999Rs. 9999(30% OFF)',\n",
       "  'Rs. 7999',\n",
       "  'Rs. 6999',\n",
       "  'Rs. 6999Rs. 9999(30% OFF)',\n",
       "  'Rs. 9999',\n",
       "  'Rs. 11899Rs. 13999(15% OFF)',\n",
       "  'Rs. 7999',\n",
       "  'Rs. 8399Rs. 11999(30% OFF)',\n",
       "  'Rs. 7599',\n",
       "  'Rs. 8999',\n",
       "  'Rs. 7857Rs. 8449(7% OFF)',\n",
       "  'Rs. 8999',\n",
       "  'Rs. 8990',\n",
       "  'Rs. 8850',\n",
       "  'Rs. 6990',\n",
       "  'Rs. 10999',\n",
       "  'Rs. 6990',\n",
       "  'Rs. 9999',\n",
       "  'Rs. 8850',\n",
       "  'Rs. 8850',\n",
       "  'Rs. 9999',\n",
       "  'Rs. 8850',\n",
       "  'Rs. 7192Rs. 8990(20% OFF)',\n",
       "  'Rs. 7490',\n",
       "  'Rs. 7999',\n",
       "  'Rs. 7206Rs. 10295(30% OFF)',\n",
       "  'Rs. 11470Rs. 13495(15% OFF)',\n",
       "  'Rs. 6996Rs. 9995(30% OFF)',\n",
       "  'Rs. 12495',\n",
       "  'Rs. 11495',\n",
       "  'Rs. 9999',\n",
       "  'Rs. 12995',\n",
       "  'Rs. 10496Rs. 14995(30% OFF)',\n",
       "  'Rs. 8396Rs. 11995(30% OFF)',\n",
       "  'Rs. 8999',\n",
       "  'Rs. 7699Rs. 10999(30% OFF)',\n",
       "  'Rs. 8999',\n",
       "  'Rs. 6999Rs. 9999(30% OFF)',\n",
       "  'Rs. 7499Rs. 9999(25% OFF)',\n",
       "  'Rs. 7499Rs. 9999(25% OFF)',\n",
       "  'Rs. 6999',\n",
       "  'Rs. 10995',\n",
       "  'Rs. 9799Rs. 13999(30% OFF)',\n",
       "  'Rs. 7149Rs. 12999(45% OFF)',\n",
       "  'Rs. 7499Rs. 9999(25% OFF)',\n",
       "  'Rs. 7999',\n",
       "  'Rs. 7206Rs. 10295(30% OFF)',\n",
       "  'Rs. 10999',\n",
       "  'Rs. 8999',\n",
       "  'Rs. 8399Rs. 13999(40% OFF)',\n",
       "  'Rs. 6999Rs. 9999(30% OFF)',\n",
       "  'Rs. 7999',\n",
       "  'Rs. 6999',\n",
       "  'Rs. 6999Rs. 9999(30% OFF)',\n",
       "  'Rs. 9999',\n",
       "  'Rs. 11899Rs. 13999(15% OFF)',\n",
       "  'Rs. 7999',\n",
       "  'Rs. 8399Rs. 11999(30% OFF)',\n",
       "  'Rs. 7599',\n",
       "  'Rs. 8999',\n",
       "  'Rs. 7857Rs. 8449(7% OFF)',\n",
       "  'Rs. 8999',\n",
       "  'Rs. 8990',\n",
       "  'Rs. 8850',\n",
       "  'Rs. 6990',\n",
       "  'Rs. 10999',\n",
       "  'Rs. 6990',\n",
       "  'Rs. 9999',\n",
       "  'Rs. 8850',\n",
       "  'Rs. 8850',\n",
       "  'Rs. 9999',\n",
       "  'Rs. 8850',\n",
       "  'Rs. 7192Rs. 8990(20% OFF)',\n",
       "  'Rs. 7490',\n",
       "  'Rs. 7999'],\n",
       " 100)"
      ]
     },
     "execution_count": 507,
     "metadata": {},
     "output_type": "execute_result"
    }
   ],
   "source": [
    "Price,len(Price)"
   ]
  },
  {
   "cell_type": "code",
   "execution_count": 508,
   "metadata": {},
   "outputs": [
    {
     "data": {
      "text/html": [
       "<div>\n",
       "<style scoped>\n",
       "    .dataframe tbody tr th:only-of-type {\n",
       "        vertical-align: middle;\n",
       "    }\n",
       "\n",
       "    .dataframe tbody tr th {\n",
       "        vertical-align: top;\n",
       "    }\n",
       "\n",
       "    .dataframe thead th {\n",
       "        text-align: right;\n",
       "    }\n",
       "</style>\n",
       "<table border=\"1\" class=\"dataframe\">\n",
       "  <thead>\n",
       "    <tr style=\"text-align: right;\">\n",
       "      <th></th>\n",
       "      <th>Brand</th>\n",
       "      <th>Shoe Description</th>\n",
       "      <th>Price</th>\n",
       "    </tr>\n",
       "  </thead>\n",
       "  <tbody>\n",
       "    <tr>\n",
       "      <th>0</th>\n",
       "      <td>Nike</td>\n",
       "      <td>Men ZOOM FREAK 2 Basketball</td>\n",
       "      <td>Rs. 7206Rs. 10295(30% OFF)</td>\n",
       "    </tr>\n",
       "    <tr>\n",
       "      <th>1</th>\n",
       "      <td>Nike</td>\n",
       "      <td>Unisex COSMIC UNITY Basketball</td>\n",
       "      <td>Rs. 11470Rs. 13495(15% OFF)</td>\n",
       "    </tr>\n",
       "    <tr>\n",
       "      <th>2</th>\n",
       "      <td>Nike</td>\n",
       "      <td>Women PEGASUS 37 Running Shoes</td>\n",
       "      <td>Rs. 6996Rs. 9995(30% OFF)</td>\n",
       "    </tr>\n",
       "    <tr>\n",
       "      <th>3</th>\n",
       "      <td>Nike</td>\n",
       "      <td>Men JORDAN DELTA Basketball</td>\n",
       "      <td>Rs. 12495</td>\n",
       "    </tr>\n",
       "    <tr>\n",
       "      <th>4</th>\n",
       "      <td>Nike</td>\n",
       "      <td>AIR ZOOM PEGASUS Running Shoes</td>\n",
       "      <td>Rs. 11495</td>\n",
       "    </tr>\n",
       "    <tr>\n",
       "      <th>...</th>\n",
       "      <td>...</td>\n",
       "      <td>...</td>\n",
       "      <td>...</td>\n",
       "    </tr>\n",
       "    <tr>\n",
       "      <th>95</th>\n",
       "      <td>Hush Puppies</td>\n",
       "      <td>Men Formal Derbys</td>\n",
       "      <td>Rs. 9999</td>\n",
       "    </tr>\n",
       "    <tr>\n",
       "      <th>96</th>\n",
       "      <td>RAPAWALK</td>\n",
       "      <td>Wide Width Leather Oxfords</td>\n",
       "      <td>Rs. 8850</td>\n",
       "    </tr>\n",
       "    <tr>\n",
       "      <th>97</th>\n",
       "      <td>Heel &amp; Buckle London</td>\n",
       "      <td>Women Peep Toe Heels</td>\n",
       "      <td>Rs. 7192Rs. 8990(20% OFF)</td>\n",
       "    </tr>\n",
       "    <tr>\n",
       "      <th>98</th>\n",
       "      <td>Ruosh</td>\n",
       "      <td>Men Formal Leather Brogues</td>\n",
       "      <td>Rs. 7490</td>\n",
       "    </tr>\n",
       "    <tr>\n",
       "      <th>99</th>\n",
       "      <td>FILA</td>\n",
       "      <td>Women Sneakers Casual Shoes</td>\n",
       "      <td>Rs. 7999</td>\n",
       "    </tr>\n",
       "  </tbody>\n",
       "</table>\n",
       "<p>100 rows × 3 columns</p>\n",
       "</div>"
      ],
      "text/plain": [
       "                   Brand                Shoe Description  \\\n",
       "0                   Nike     Men ZOOM FREAK 2 Basketball   \n",
       "1                   Nike  Unisex COSMIC UNITY Basketball   \n",
       "2                   Nike  Women PEGASUS 37 Running Shoes   \n",
       "3                   Nike     Men JORDAN DELTA Basketball   \n",
       "4                   Nike  AIR ZOOM PEGASUS Running Shoes   \n",
       "..                   ...                             ...   \n",
       "95          Hush Puppies               Men Formal Derbys   \n",
       "96              RAPAWALK      Wide Width Leather Oxfords   \n",
       "97  Heel & Buckle London            Women Peep Toe Heels   \n",
       "98                 Ruosh      Men Formal Leather Brogues   \n",
       "99                  FILA     Women Sneakers Casual Shoes   \n",
       "\n",
       "                          Price  \n",
       "0    Rs. 7206Rs. 10295(30% OFF)  \n",
       "1   Rs. 11470Rs. 13495(15% OFF)  \n",
       "2     Rs. 6996Rs. 9995(30% OFF)  \n",
       "3                     Rs. 12495  \n",
       "4                     Rs. 11495  \n",
       "..                          ...  \n",
       "95                     Rs. 9999  \n",
       "96                     Rs. 8850  \n",
       "97    Rs. 7192Rs. 8990(20% OFF)  \n",
       "98                     Rs. 7490  \n",
       "99                     Rs. 7999  \n",
       "\n",
       "[100 rows x 3 columns]"
      ]
     },
     "execution_count": 508,
     "metadata": {},
     "output_type": "execute_result"
    }
   ],
   "source": [
    "Myntra_Shoes = pd.DataFrame({})\n",
    "Myntra_Shoes['Brand'] = Brand\n",
    "Myntra_Shoes['Shoe Description'] = Description\n",
    "Myntra_Shoes['Price'] = Price\n",
    "Myntra_Shoes "
   ]
  },
  {
   "cell_type": "markdown",
   "metadata": {},
   "source": [
    "### Q10: Go to webpage https://www.amazon.in/\n",
    " Enter “Laptop” in the search field and then click the search icon.\n",
    " Then set CPU Type filter to “Intel Core i7” and “Intel Core i9”\n",
    " After setting the filters scrape first 10 laptops data. You have to scrape 3 attributes\n",
    "for each laptop:\n",
    "1. title\n",
    "2. Ratings\n",
    "3. Price"
   ]
  },
  {
   "cell_type": "code",
   "execution_count": 686,
   "metadata": {},
   "outputs": [],
   "source": [
    "url = ('https://www.amazon.in/')\n",
    "driver.get(url)"
   ]
  },
  {
   "cell_type": "code",
   "execution_count": 687,
   "metadata": {},
   "outputs": [],
   "source": [
    "search_bar = driver.find_element_by_id('twotabsearchtextbox')\n",
    "search_bar.click()"
   ]
  },
  {
   "cell_type": "code",
   "execution_count": 688,
   "metadata": {},
   "outputs": [],
   "source": [
    "search_bar.send_keys('Laptop')"
   ]
  },
  {
   "cell_type": "code",
   "execution_count": 694,
   "metadata": {},
   "outputs": [],
   "source": [
    "search_button = driver.find_element_by_id('nav-search-submit-button')\n",
    "search_button.click()"
   ]
  },
  {
   "cell_type": "code",
   "execution_count": 696,
   "metadata": {},
   "outputs": [],
   "source": [
    "#cpu filters\n",
    "filters = driver.find_elements_by_xpath(\"//span[@class = 'a-size-base a-color-base']\")\n",
    "for i in filters:\n",
    "    if i.text == 'Intel Core i7':\n",
    "        i.click()\n",
    "    elif i.text =='Intel Core i9':\n",
    "            i.click()\n"
   ]
  },
  {
   "cell_type": "code",
   "execution_count": 535,
   "metadata": {},
   "outputs": [],
   "source": [
    "title_tag= driver.find_elements_by_xpath(\"//span[@class ='a-size-medium a-color-base a-text-normal']\")\n",
    "price_tag=driver.find_elements_by_xpath(\"//span[@class ='a-price-whole']\")\n",
    "Model=[]\n",
    "Price=[]\n",
    "for title in title_tag:\n",
    "    Model.append(title.text)\n",
    "for price in price_tag:\n",
    "    Price.append(price.text)\n",
    "    "
   ]
  },
  {
   "cell_type": "code",
   "execution_count": 536,
   "metadata": {},
   "outputs": [
    {
     "data": {
      "text/plain": [
       "['Life Digital Laptop 15.6-inch (39.62 cms) (Intel Core i7, 4GB RAM, 256GB SSD, Windows 10), ZED AIR CX7',\n",
       " 'HP Pavilion (2021) Thin & Light 11th Gen Core i7 Laptop, 16 GB RAM, 1TB SSD, Iris Xe Graphics, 14\" (35.56cms) FHD Screen, Windows 10, MS Office, Backlit Keyboard (14-dv0058TU)',\n",
       " 'Mi Notebook Horizon Edition 14 Intel Core i7-10510U 10th Gen 14-inch (35.56 cms) Thin and Light Laptop(8GB/512GB SSD/Windows 10/Nvidia MX350 2GB Graphics/Grey/1.35Kg), XMA1904-AF+Webcam',\n",
       " 'Lenovo Ideapad 5 Intel i7 11th Gen 15.6\" Thin and Light (16GB/512SSD/Win10 +Office Home/Intel Iris Xe Graphics/Graphite Grey/1.66kg), 82FG0117IN',\n",
       " 'HP Pavilion Gaming 10th Gen Intel Core i7 Processor 15.6-inch FHD Gaming Laptop (16GB/512GB SSD + 32GB Intel Optane/Windows 10/NVIDIA 1650Ti 4GB/Shadow Black), 15-dk1509TX',\n",
       " 'Lenovo IdeaPad Gaming 3 10th Gen Intel Core i7 15.6-inch FHD IPS Gaming Laptop (8GB/1TB HDD + 256 GB SSD/Windows 10/NVIDIA GTX 1650 4GB GDDR6/with M100 RGB Gaming Mouse/Onyx Black/2.2Kg), 81Y400VAIN',\n",
       " 'HP Pavilion x360 (2021) 14\" (35.56cms) FHD Touchscreen Laptop, 11th Gen Core i7, 8 GB RAM, 512GB SSD, 2-in-1 Convertible, Windows 10, MS Office, Finger Print Reader (14-dw1040TU)',\n",
       " 'Lenovo Yoga 7 11th Gen Intel Core i7 14\" (35.56cms) Full HD IPS 2-in-1 Touchscreen Laptop (16GB/512GB SSD/Windows 10/MS Office 2019/Fingerprint Reader/Slate Grey/Aluminium Surface/1.43Kg), 82BH004HIN',\n",
       " 'Dell Inspiron 5406 14\" FHD Touch Display 2in1 Laptop (11th Gen i7-1165G7 / 8Gb / 512Gb SSD / Integrated Graphics / Win 10 + MSO / Titan Grey Color / FPR/ Active Pen) D560414WIN9S',\n",
       " 'Lenovo IdeaPad Flex 5 11th Gen Intel Core i7 14-inch FHD IPS 2-in-1 Touchscreen Laptop (16GB/512GB SSD/Win 10/Office 2019/Lenovo Digital Pen Stylus/Fingerprint Reader/Graphite Grey/1.5Kg), 82HS0092IN',\n",
       " 'ASUS VivoBook S S14 Intel Core i7-1165G7 11th Gen, 14-inch FHD Thin and Light Laptop (8GB RAM/512GB SSD + 32GB Optane Memory/Windows 10/Office 2019/Iris X Graphics- Indie Black/1.4 Kg), S433EA-AM701TS',\n",
       " 'MSI GF75 Lepoard, Intel i7-10750H, 17.3\" (43.92cms)FHD Gaming Laptop (16GB/512GB NVMe SSD/Windows 10 Home/Nvidia GTX 1660Ti/Black/2.3Kg), 10SDR-480IN',\n",
       " '(Renewed) Lenovo T430 14-inch Laptop (Core i7/ 8GB RAM (Upgradable to 16)/1TB HDD/Windows 10 Pro/MS Office 2019, Intel Integrated Graphics, PAN INDIA WARRANTY) Black',\n",
       " 'MSI GF65 Thin, Intel i7-10750H, 15.6\" FHD (39.6 cm) IPS-Level 144Hz Panel Laptop (16GB/512GB NVMe SSD/Windows 10 Home/Nvidia GTX1660 Ti 6GB GDDR6/Black/1.86Kg), 10SDR-1280IN',\n",
       " 'Lenovo ThinkPad E15 (2021) Intel Core i7 11th Gen 15.6\" FHD Thin and Light Laptop (16GB RAM/512GB SSD/Windows 10/MS Office/Fingerprint Reader/Black/Aluminium Surface/ 1.7 kg), 20TDS0G100',\n",
       " '(Renewed) Lenovo T430 14-inch Laptop (Core i7/ 8GB RAM (Upgradable to 16)/500GB HDD/Windows 10 Pro/MS Office 2019, Intel Integrated Graphics, PAN INDIA WARRANTY) Black',\n",
       " 'Dell Inspiron 5410 14\" FHD Touch Display 2in1 Laptop (i7-1165G7 / 16GB / 512GB SSD / Integrated Graphics / Win 10 + MSO / Backlit KB + FPR + Active Pen / Silver Metal Color) D560469WIN9S',\n",
       " '(Renewed) Dell Latitude E6420 14 Inch Laptop (Core I7 2460M/8GB/1TB/Nvidia Dedicated Graphics/Windows Professional/MS Office), Dark Grey',\n",
       " 'Lenovo ThinkPad E15 (2021) Intel Core i7 11th Gen 15.6\" FHD Thin and Light Laptop (16GB RAM/1TB SSD/Windows 10/MS Office/NVIDIA MX450 2GB Graphics/FPR/Black/Aluminium Surface/ 1.7 kg), 20TDS0G200',\n",
       " 'Lenovo Yoga Slim 7 10th Gen Intel Core i7 14 inch Full HD IPS Thin and Light Laptop (8GB/512GB SSD/Windows 10/MS Office 2019/NVIDIA MX350 2GB GDDR5 Graphics/Slate Grey/1.55Kg), 82A1009KIN',\n",
       " 'Dell G3 3500 Gaming Laptop 15.6\" (39.62cms) FHD 120 Hz (10th Gen Core i7-10750H/8GB/512GB SSD/Windows 10 Home Plus & MS Office/NVIDIA1650 Ti Graphics/Eclipse Black) D560260WIN9BE',\n",
       " 'HP Envy x360 Convertible Touchscreen 13.3-inch FHD Laptop (11th Gen Intel Core i7-1165G7/16GB/512GB SSD/Win 10 Home/Alexa Built-in/Pale Gold/1.32kg), 13-bd0063TU',\n",
       " '(Renewed) Lenovo T430 14-inch Laptop (Core i7/ 8GB RAM(Upgradable to 16)/256GB SSD/Windows 10 Pro/MS Office 2019, Intel Integrated Graphics, PAN INDIA WARRANTY) Black',\n",
       " 'ASUS ROG Zephyrus Duo 15, 15.6\" 4K UHD, Intel Core i7-10875H 10th Gen, RTX 2080 Super Max-Q 8GB Graphics, Gaming Laptop (32GB/2TB RAID 0 SSD/Windows 10/MS Office/Gray/2.48 Kg) GX550LXS-HC145TS']"
      ]
     },
     "execution_count": 536,
     "metadata": {},
     "output_type": "execute_result"
    }
   ],
   "source": [
    "Model"
   ]
  },
  {
   "cell_type": "code",
   "execution_count": 538,
   "metadata": {},
   "outputs": [
    {
     "data": {
      "text/plain": [
       "['26,990',\n",
       " '84,990',\n",
       " '59,999',\n",
       " '84,999',\n",
       " '86,990',\n",
       " '77,990',\n",
       " '78,990',\n",
       " '97,990',\n",
       " '92,185',\n",
       " '90,400',\n",
       " '77,175',\n",
       " '1,12,900',\n",
       " '50,999',\n",
       " '90,733',\n",
       " '90,990',\n",
       " '50,499',\n",
       " '39,000',\n",
       " '1,05,990',\n",
       " '83,990',\n",
       " '86,290',\n",
       " '1,02,990',\n",
       " '51,999',\n",
       " '2,69,990']"
      ]
     },
     "execution_count": 538,
     "metadata": {},
     "output_type": "execute_result"
    }
   ],
   "source": [
    "Price"
   ]
  },
  {
   "cell_type": "code",
   "execution_count": 562,
   "metadata": {},
   "outputs": [
    {
     "data": {
      "text/plain": [
       "[<selenium.webdriver.remote.webelement.WebElement (session=\"9f8624d1a4d9e5af9e6f32dcfe3a2d0a\", element=\"b7d06df1-2c0e-4721-8720-d398fcb8a17d\")>,\n",
       " <selenium.webdriver.remote.webelement.WebElement (session=\"9f8624d1a4d9e5af9e6f32dcfe3a2d0a\", element=\"8a3a3fa8-90dd-4532-b4bb-c2003ef8ce1e\")>,\n",
       " <selenium.webdriver.remote.webelement.WebElement (session=\"9f8624d1a4d9e5af9e6f32dcfe3a2d0a\", element=\"d578fa29-a799-46a5-8fb7-178614a61816\")>,\n",
       " <selenium.webdriver.remote.webelement.WebElement (session=\"9f8624d1a4d9e5af9e6f32dcfe3a2d0a\", element=\"1def1f57-301a-4d92-91fe-2872c56b77a4\")>,\n",
       " <selenium.webdriver.remote.webelement.WebElement (session=\"9f8624d1a4d9e5af9e6f32dcfe3a2d0a\", element=\"6da3f0e3-fb41-4692-9459-6043e43ee6b5\")>,\n",
       " <selenium.webdriver.remote.webelement.WebElement (session=\"9f8624d1a4d9e5af9e6f32dcfe3a2d0a\", element=\"7e248241-e518-49f7-8d3e-842e895eb906\")>,\n",
       " <selenium.webdriver.remote.webelement.WebElement (session=\"9f8624d1a4d9e5af9e6f32dcfe3a2d0a\", element=\"6a528a69-1306-4a04-8134-d4b89bf57694\")>,\n",
       " <selenium.webdriver.remote.webelement.WebElement (session=\"9f8624d1a4d9e5af9e6f32dcfe3a2d0a\", element=\"cdee91e1-e78f-40fb-bca3-73e912127875\")>,\n",
       " <selenium.webdriver.remote.webelement.WebElement (session=\"9f8624d1a4d9e5af9e6f32dcfe3a2d0a\", element=\"f098b378-b9f0-4e0b-b12c-266a6a88ca71\")>,\n",
       " <selenium.webdriver.remote.webelement.WebElement (session=\"9f8624d1a4d9e5af9e6f32dcfe3a2d0a\", element=\"3edc51c9-39f9-4aee-adc4-1e846fed85f4\")>,\n",
       " <selenium.webdriver.remote.webelement.WebElement (session=\"9f8624d1a4d9e5af9e6f32dcfe3a2d0a\", element=\"07528ad0-dcf2-4af0-aa14-19e8de617c71\")>,\n",
       " <selenium.webdriver.remote.webelement.WebElement (session=\"9f8624d1a4d9e5af9e6f32dcfe3a2d0a\", element=\"e832b389-1057-4cbd-a2c4-bccf6dcf3dd6\")>,\n",
       " <selenium.webdriver.remote.webelement.WebElement (session=\"9f8624d1a4d9e5af9e6f32dcfe3a2d0a\", element=\"1fe9369d-82ee-4883-8aea-50711ec3cca3\")>,\n",
       " <selenium.webdriver.remote.webelement.WebElement (session=\"9f8624d1a4d9e5af9e6f32dcfe3a2d0a\", element=\"52dd4343-b27f-4435-8e61-c3eb438c3533\")>,\n",
       " <selenium.webdriver.remote.webelement.WebElement (session=\"9f8624d1a4d9e5af9e6f32dcfe3a2d0a\", element=\"3316521c-94ee-4ecb-a9bd-d496f182cbad\")>,\n",
       " <selenium.webdriver.remote.webelement.WebElement (session=\"9f8624d1a4d9e5af9e6f32dcfe3a2d0a\", element=\"f08391b0-aed0-45fb-a469-5b6cd6a3872a\")>,\n",
       " <selenium.webdriver.remote.webelement.WebElement (session=\"9f8624d1a4d9e5af9e6f32dcfe3a2d0a\", element=\"f261efc1-88e4-4345-b790-e775c98b266c\")>,\n",
       " <selenium.webdriver.remote.webelement.WebElement (session=\"9f8624d1a4d9e5af9e6f32dcfe3a2d0a\", element=\"369568b3-b056-4efe-a72e-b697eeebe510\")>,\n",
       " <selenium.webdriver.remote.webelement.WebElement (session=\"9f8624d1a4d9e5af9e6f32dcfe3a2d0a\", element=\"487a683b-fb95-4f3d-8987-c77ee5812460\")>,\n",
       " <selenium.webdriver.remote.webelement.WebElement (session=\"9f8624d1a4d9e5af9e6f32dcfe3a2d0a\", element=\"1aec8d9a-bd12-4cbe-9ef3-e0f59b4596b2\")>,\n",
       " <selenium.webdriver.remote.webelement.WebElement (session=\"9f8624d1a4d9e5af9e6f32dcfe3a2d0a\", element=\"d8f14eb8-2cd4-400a-b18e-95537ef586a9\")>,\n",
       " <selenium.webdriver.remote.webelement.WebElement (session=\"9f8624d1a4d9e5af9e6f32dcfe3a2d0a\", element=\"43b794bb-ae23-4be4-8869-170a5bbcfc06\")>]"
      ]
     },
     "execution_count": 562,
     "metadata": {},
     "output_type": "execute_result"
    }
   ],
   "source": [
    "rating_tag=driver.find_elements_by_xpath(\"//span[@class ='a-icon-alt']\")\n",
    "rating_tag"
   ]
  },
  {
   "cell_type": "code",
   "execution_count": 564,
   "metadata": {},
   "outputs": [
    {
     "data": {
      "text/plain": [
       "['',\n",
       " '',\n",
       " '',\n",
       " '',\n",
       " '',\n",
       " '',\n",
       " '',\n",
       " '',\n",
       " '',\n",
       " '',\n",
       " '',\n",
       " '',\n",
       " '',\n",
       " '',\n",
       " '',\n",
       " '',\n",
       " '',\n",
       " '',\n",
       " '',\n",
       " '',\n",
       " '',\n",
       " '']"
      ]
     },
     "execution_count": 564,
     "metadata": {},
     "output_type": "execute_result"
    }
   ],
   "source": [
    "Rating=[]\n",
    "for i in rating_tag:\n",
    "    Rating.append(i.text)\n",
    "Rating"
   ]
  },
  {
   "cell_type": "markdown",
   "metadata": {},
   "source": [
    "Unable to fetch rating even after trying multiple classes"
   ]
  },
  {
   "cell_type": "code",
   "execution_count": 563,
   "metadata": {},
   "outputs": [
    {
     "data": {
      "text/html": [
       "<div>\n",
       "<style scoped>\n",
       "    .dataframe tbody tr th:only-of-type {\n",
       "        vertical-align: middle;\n",
       "    }\n",
       "\n",
       "    .dataframe tbody tr th {\n",
       "        vertical-align: top;\n",
       "    }\n",
       "\n",
       "    .dataframe thead th {\n",
       "        text-align: right;\n",
       "    }\n",
       "</style>\n",
       "<table border=\"1\" class=\"dataframe\">\n",
       "  <thead>\n",
       "    <tr style=\"text-align: right;\">\n",
       "      <th></th>\n",
       "      <th>Title</th>\n",
       "      <th>Price</th>\n",
       "    </tr>\n",
       "  </thead>\n",
       "  <tbody>\n",
       "    <tr>\n",
       "      <th>0</th>\n",
       "      <td>Life Digital Laptop 15.6-inch (39.62 cms) (Int...</td>\n",
       "      <td>26,990</td>\n",
       "    </tr>\n",
       "    <tr>\n",
       "      <th>1</th>\n",
       "      <td>HP Pavilion (2021) Thin &amp; Light 11th Gen Core ...</td>\n",
       "      <td>84,990</td>\n",
       "    </tr>\n",
       "    <tr>\n",
       "      <th>2</th>\n",
       "      <td>Mi Notebook Horizon Edition 14 Intel Core i7-1...</td>\n",
       "      <td>59,999</td>\n",
       "    </tr>\n",
       "    <tr>\n",
       "      <th>3</th>\n",
       "      <td>Lenovo Ideapad 5 Intel i7 11th Gen 15.6\" Thin ...</td>\n",
       "      <td>84,999</td>\n",
       "    </tr>\n",
       "    <tr>\n",
       "      <th>4</th>\n",
       "      <td>HP Pavilion Gaming 10th Gen Intel Core i7 Proc...</td>\n",
       "      <td>86,990</td>\n",
       "    </tr>\n",
       "    <tr>\n",
       "      <th>5</th>\n",
       "      <td>Lenovo IdeaPad Gaming 3 10th Gen Intel Core i7...</td>\n",
       "      <td>77,990</td>\n",
       "    </tr>\n",
       "    <tr>\n",
       "      <th>6</th>\n",
       "      <td>HP Pavilion x360 (2021) 14\" (35.56cms) FHD Tou...</td>\n",
       "      <td>78,990</td>\n",
       "    </tr>\n",
       "    <tr>\n",
       "      <th>7</th>\n",
       "      <td>Lenovo Yoga 7 11th Gen Intel Core i7 14\" (35.5...</td>\n",
       "      <td>97,990</td>\n",
       "    </tr>\n",
       "    <tr>\n",
       "      <th>8</th>\n",
       "      <td>Dell Inspiron 5406 14\" FHD Touch Display 2in1 ...</td>\n",
       "      <td>92,185</td>\n",
       "    </tr>\n",
       "    <tr>\n",
       "      <th>9</th>\n",
       "      <td>Lenovo IdeaPad Flex 5 11th Gen Intel Core i7 1...</td>\n",
       "      <td>90,400</td>\n",
       "    </tr>\n",
       "  </tbody>\n",
       "</table>\n",
       "</div>"
      ],
      "text/plain": [
       "                                               Title   Price\n",
       "0  Life Digital Laptop 15.6-inch (39.62 cms) (Int...  26,990\n",
       "1  HP Pavilion (2021) Thin & Light 11th Gen Core ...  84,990\n",
       "2  Mi Notebook Horizon Edition 14 Intel Core i7-1...  59,999\n",
       "3  Lenovo Ideapad 5 Intel i7 11th Gen 15.6\" Thin ...  84,999\n",
       "4  HP Pavilion Gaming 10th Gen Intel Core i7 Proc...  86,990\n",
       "5  Lenovo IdeaPad Gaming 3 10th Gen Intel Core i7...  77,990\n",
       "6  HP Pavilion x360 (2021) 14\" (35.56cms) FHD Tou...  78,990\n",
       "7  Lenovo Yoga 7 11th Gen Intel Core i7 14\" (35.5...  97,990\n",
       "8  Dell Inspiron 5406 14\" FHD Touch Display 2in1 ...  92,185\n",
       "9  Lenovo IdeaPad Flex 5 11th Gen Intel Core i7 1...  90,400"
      ]
     },
     "execution_count": 563,
     "metadata": {},
     "output_type": "execute_result"
    }
   ],
   "source": [
    "Amazon = pd.DataFrame({})\n",
    "Amazon['Title'] = Model[:10]\n",
    "##Amazon['Rating'] = Rating[:10]\n",
    "Amazon['Price'] = Price[:10]\n",
    "Amazon"
   ]
  },
  {
   "cell_type": "code",
   "execution_count": null,
   "metadata": {},
   "outputs": [],
   "source": []
  }
 ],
 "metadata": {
  "kernelspec": {
   "display_name": "Python 3",
   "language": "python",
   "name": "python3"
  },
  "language_info": {
   "codemirror_mode": {
    "name": "ipython",
    "version": 3
   },
   "file_extension": ".py",
   "mimetype": "text/x-python",
   "name": "python",
   "nbconvert_exporter": "python",
   "pygments_lexer": "ipython3",
   "version": "3.8.5"
  }
 },
 "nbformat": 4,
 "nbformat_minor": 4
}
